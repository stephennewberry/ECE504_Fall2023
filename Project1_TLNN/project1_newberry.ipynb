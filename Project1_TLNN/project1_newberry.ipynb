{
 "cells": [
  {
   "cell_type": "markdown",
   "id": "92b91b43023157f3",
   "metadata": {},
   "source": [
    "# ECE504 Project 1\n",
    "Stephen Newberry"
   ]
  },
  {
   "cell_type": "code",
   "execution_count": 1,
   "id": "initial_id",
   "metadata": {
    "ExecuteTime": {
     "end_time": "2023-10-15T06:06:34.780876600Z",
     "start_time": "2023-10-15T06:06:34.653878300Z"
    }
   },
   "outputs": [
    {
     "name": "stdout",
     "output_type": "stream",
     "text": [
      "Stephen Newberry - Project 1 - ECE504 - Fall 2023\n",
      "Running Python 3.10.13 | packaged by Anaconda, Inc. | (main, Sep 11 2023, 13:24:38) [MSC v.1916 64 bit (AMD64)]\n"
     ]
    }
   ],
   "source": [
    "import sys\n",
    "import logging\n",
    "from timeit import default_timer as timer\n",
    "from typing import NamedTuple\n",
    "import numpy as np\n",
    "import csv\n",
    "import datetime\n",
    "\n",
    "# First line, make sure Python is set up/runs\n",
    "print(\"Stephen Newberry - Project 1 - ECE504 - Fall 2023\")\n",
    "print(f\"Running Python {sys.version}\")\n",
    "\n",
    "logging.basicConfig(format='[%(levelname)s] %(message)s',\n",
    "                    datefmt='%d/%m/%Y %I:%M:%S %p', level=logging.INFO)"
   ]
  },
  {
   "cell_type": "code",
   "execution_count": 2,
   "id": "9a81c1dd64d1158e",
   "metadata": {
    "ExecuteTime": {
     "end_time": "2023-10-15T06:06:36.995274800Z",
     "start_time": "2023-10-15T06:06:34.781876300Z"
    }
   },
   "outputs": [],
   "source": [
    "# Import Simbeor for Field Solver\n",
    "sys.path.append(\"C:/Users/steph/Documents/Education/CLASS06_2023F_ECE504/projects/project1/code\")\n",
    "from simbeor_sdk import simbeor\n",
    "if not simbeor.Initialize():\n",
    "    logging.warning(\"Error initializing Simbeor\")\n",
    "\n",
    "if not simbeor.SetLicense(\n",
    "        'C:\\\\Users\\\\steph\\\\Documents\\\\ShieldDigitalDesign\\\\Software\\\\Licenses', 'simbeor_verify'):\n",
    "    logging.warning(\"Error setting Simbeor license\")\n"
   ]
  },
  {
   "cell_type": "markdown",
   "source": [
    "## Substrate Design\n",
    "\n",
    "The substrate will be a standard, uncoated microstrip. The metal will be 1.2mil thick (standard 1oz Cu after processing). Conductivity will use the ideal value of 5.8E+06 S/m for copper. \n",
    "The dielectric will be modeled after Isola FR408HR, which is a standard dielectric used for low- to medium-speed digital PCB applications.\n",
    "https://www.isola-group.com/pcb-laminates-prepreg/fr408hr-laminate-and-prepreg/\n",
    "We will use the dielectric values from an 8mil, 2x3313 weave, 55% resin content, core material. It has a Dk/Df of 3.68/0.0087 at 1 GHz.\n",
    "\n",
    "Copper roughness will not be modeled, nor will trace etch-back (rectangular cross-section)."
   ],
   "metadata": {
    "collapsed": false
   },
   "id": "d81eb2f925b5912d"
  },
  {
   "cell_type": "code",
   "execution_count": 3,
   "outputs": [],
   "source": [
    "# Configure substrate\n",
    "cu_thickness = 1.2 #mils\n",
    "diel_thickness = 8.0 #mils\n",
    "dk = 3.68\n",
    "df = 0.0087\n",
    "cu_cond = 5.80046403712e6 #S/m\n",
    "\n",
    "# NOTE: Ignoring roughness\n",
    "\n",
    "simbeor.ProjectDelete(\"TLINE\")  # In case it exists, delete\n",
    "model_name = \"tline_model\"\n",
    "prj = simbeor.ProjectCreate(\"TLINE\", True, True, 25.0)\n",
    "if (prj == 0):\n",
    "    logging.error(\"Project exists, delete project first\")\n",
    "\n",
    "# Configure frequency sweep\n",
    "freq_sweep = simbeor.InitFrequencySweep()\n",
    "freq_sweep['SweepType'] = 'Tabulated'\n",
    "freq_sweep['Start'] = 1 # GHz\n",
    "freq_sweep['Stop'] = 1 # GHz\n",
    "\n",
    "# Add materials to project\n",
    "# Air\n",
    "air = simbeor.MaterialAddDielectric(\"TLINE\\\\Air\", 1.0, 0.0, 1e9, 0, 1e4, 1e12)\n",
    "if (air == 0):\n",
    "    logging.error(\"Error creating air\")\n",
    "# Conductor\n",
    "rel_res = (1/cu_cond)/1.724e-8\n",
    "cond = simbeor.MaterialAddConductor(\"TLINE\\\\Copper\", rel_res, 0, 0.004)\n",
    "if (cond == 0):\n",
    "    logging.error(\"Error creating conductor\")\n",
    "# Dielectric\n",
    "diel = simbeor.MaterialAddDielectric(\n",
    "    \"TLINE\\\\Dielectric\", dk, df, 1e9, 0, 1e4, 1e12)\n",
    "if (diel == 0):\n",
    "    logging.error(\"Error creating dielectric\")\n",
    "\n",
    "# Create Stackup (top to bottom)\n",
    "layer1 = simbeor.LayerAddSignal(\"TLINE\\\\L1\", \"Copper\", \"Air\", simbeor.mil_to_m(cu_thickness))\n",
    "if (layer1 == 0):\n",
    "    logging.error(\"Error creating stackup Layer 1\")\n",
    "diel1 = simbeor.LayerAddMedium(\"TLINE\\\\DIEL\", \"Dielectric\", simbeor.mil_to_m(diel_thickness))\n",
    "if (diel1 == 0):\n",
    "    logging.error(\"Error creating stackup dielectric\")\n",
    "layer2 = simbeor.LayerAddCover(\"TLINE\\\\L2\", \"Copper\", simbeor.mil_to_m(0.1))\n"
   ],
   "metadata": {
    "collapsed": false,
    "ExecuteTime": {
     "end_time": "2023-10-15T06:06:37.008283200Z",
     "start_time": "2023-10-15T06:06:37.001274200Z"
    }
   },
   "id": "6e3e142bd2071c5e"
  },
  {
   "cell_type": "code",
   "execution_count": 4,
   "outputs": [],
   "source": [
    "# Set up a Named Tuple as output\n",
    "class SimResult(NamedTuple):\n",
    "    z0: float # Ohms\n",
    "    e_length: float # Degrees\n",
    "    exec_time: float # Seconds\n",
    "\n",
    "# Define field-solver simulation\n",
    "def simulate_tline(width, length) -> SimResult:\n",
    "    \"\"\"Takes input geometry of t-line and returns tuple containing Z0 (Ohms) and electrical length (deg). \n",
    "    Also returns execution time in seconds\n",
    "\n",
    "    :param width: trace width of the input line in mils \n",
    "    :param length: length of the transmission line in mils\n",
    "    \"\"\"\n",
    "    # T-Line\n",
    "    tline = simbeor.InitSingleTLine()\n",
    "    tline['Width'] = simbeor.mil_to_m(width)\n",
    "    tline['StripShape'] = \"Rectangular\"\n",
    "    tline['EtchFactor'] = 0  # No etch factor\n",
    "    tline['Clearance'] = 0.0  # Set to zero for no coplanar ground\n",
    "    tline['LayerName'] = \"L1\"\n",
    "    tline['BottomRefLayer'] = \"L2\"\n",
    "\n",
    "    simbeor.ModelDelete(model_name) # In case it exists\n",
    "    # Also, would like to time this specific function and record it\n",
    "    ##### MAIN SIMBEOR FUNCTION ######\n",
    "    start_time = timer()\n",
    "    results = simbeor.ModelSingleTLine_SFS(model_name, tline, freq_sweep, 0)\n",
    "    end_time = timer()\n",
    "    #logging.info(f\"Simbeor function elapsed time: {end_time-start_time} seconds\")\n",
    "    ##################################\n",
    "    \n",
    "    exec_time = end_time - start_time\n",
    "    \n",
    "    z0 = simbeor.GetCharacteristicImpedances(model_name, 50, 1)[0]\n",
    "    \n",
    "    # 1 radian/meter is 0.001455 deg per mil\n",
    "\n",
    "    e_length_rad_per_meter = simbeor.GetPropagationConstants(model_name, \"PhaseConstant\",1)[0]\n",
    "    e_length = e_length_rad_per_meter * 0.001455 * length\n",
    "    \n",
    "    sim_result = SimResult(\n",
    "        z0=z0,\n",
    "        e_length=e_length,\n",
    "        exec_time=exec_time\n",
    "    )\n",
    "    # logging.info(f\"For inputs {width}, {length}\\nResult: {sim_result}\\n\")\n",
    "    return sim_result\n"
   ],
   "metadata": {
    "collapsed": false,
    "ExecuteTime": {
     "end_time": "2023-10-15T06:06:37.032284900Z",
     "start_time": "2023-10-15T06:06:37.014282500Z"
    }
   },
   "id": "db0663a205b38150"
  },
  {
   "cell_type": "code",
   "execution_count": 5,
   "outputs": [
    {
     "data": {
      "text/plain": "SimResult(z0=53.932050940424055, e_length=514.1561593970865, exec_time=0.0012434999807737768)"
     },
     "execution_count": 5,
     "metadata": {},
     "output_type": "execute_result"
    }
   ],
   "source": [
    "# Example\n",
    "simulate_tline(width=15, length=10000)"
   ],
   "metadata": {
    "collapsed": false,
    "ExecuteTime": {
     "end_time": "2023-10-15T06:06:37.043283600Z",
     "start_time": "2023-10-15T06:06:37.026283800Z"
    }
   },
   "id": "96b20517617edcbb"
  },
  {
   "cell_type": "markdown",
   "source": [
    "## Training Data\n",
    "Training data will be a Pandas dataframe. Each row is an instance. It will have the following columns:\n",
    "\n",
    "* Trace width, mils (input)\n",
    "* Trace length, mils (input)\n",
    "* Z0 at 1 GHz, ohms (output)\n",
    "* Electrical length at 1 GHz, degrees (output)\n",
    "* Execution time\n",
    "\n",
    "A typical microwave trace will be anywhere from 4mil upwards of 25mil or so on a PCB, but since we're fixing our substrate at 8mil thickness, that means we'd want to center on ~16mil for a 50ohm line. For length, we'll use 6\" as a mean with a Rayleigh distribution.\n",
    "\n",
    "Actually.... this distribution kinda sucks. Uniform for now...\n",
    "wait, lognormal!\n"
   ],
   "metadata": {
    "collapsed": false
   },
   "id": "635f3a9350c2101e"
  },
  {
   "cell_type": "code",
   "execution_count": 6,
   "outputs": [
    {
     "name": "stderr",
     "output_type": "stream",
     "text": [
      "[INFO] Note: NumExpr detected 32 cores but \"NUMEXPR_MAX_THREADS\" not set, so enforcing safe limit of 8.\n",
      "[INFO] NumExpr defaulting to 8 threads.\n"
     ]
    }
   ],
   "source": [
    "import pandas as pd\n",
    "\n",
    "# Next, we need to generate the training data\n",
    "generate_new_training_data = False\n",
    "num_training_points = 1000000\n",
    "num_validation_points = int(np.floor(.2 * num_training_points))\n",
    "num_test_points = int(np.floor(0.2 * num_training_points))\n",
    "\n",
    "if generate_new_training_data:\n",
    "    timestamp = datetime.datetime.now()\n",
    "    timestamp_str = f\"{timestamp.year}_{timestamp.month}_{timestamp.day}_{timestamp.time().hour}{timestamp.time().minute}{timestamp.time().second}\"\n",
    "    print(f\"Generating data as of {timestamp}\")\n",
    "    \n",
    "    if generate_new_training_data:\n",
    "        # Create blank CSV\n",
    "        fields = ['width', 'length', 'z0', 'e_length', 'exec_time']\n",
    "    \n",
    "        # Min/Max ranges\n",
    "        trace_width_min = 0.1 # mil\n",
    "        trace_width_max = 500.0\n",
    "        trace_width_mean = 16.0\n",
    "        trace_length_min = 1 # mil\n",
    "        trace_length_max = 100000 # 100 inches\n",
    "        trace_length_mean = 6000\n",
    "        \n",
    "        # Lognormal settings\n",
    "        sigma = 0.75\n",
    "    \n",
    "        train = pd.DataFrame(columns=fields)\n",
    "        for i in range(num_training_points):\n",
    "            width = np.random.lognormal(sigma=sigma, mean=np.log(trace_width_mean))\n",
    "            length = np.random.lognormal(sigma=sigma, mean=np.log(trace_length_mean))\n",
    "            \n",
    "            sim_result = simulate_tline(width,length)\n",
    "            \n",
    "            # Assign the result values\n",
    "            z0 = sim_result.z0\n",
    "            e_length = sim_result.e_length\n",
    "            exec_time = sim_result.exec_time\n",
    "            \n",
    "            new_row = pd.DataFrame([[width, length, z0, e_length, exec_time]], columns=fields)\n",
    "            \n",
    "            train = pd.concat([train, new_row], ignore_index=True)\n",
    "        train.to_csv(f'./training_data/{timestamp_str}_train.csv')\n",
    "    \n",
    "        # Probably should have this be some kind of function. Later :)\n",
    "        val = pd.DataFrame(columns=fields)\n",
    "        for i in range(num_validation_points):\n",
    "            width = np.random.lognormal(sigma=sigma, mean=np.log(trace_width_mean))\n",
    "            length = np.random.lognormal(sigma=sigma, mean=np.log(trace_length_mean))\n",
    "        \n",
    "            sim_result = simulate_tline(width,length)\n",
    "        \n",
    "            # Assign the result values\n",
    "            z0 = sim_result.z0\n",
    "            e_length = sim_result.e_length\n",
    "            exec_time = sim_result.exec_time\n",
    "\n",
    "            new_row = pd.DataFrame([[width, length, z0, e_length, exec_time]], columns=fields)\n",
    "\n",
    "            val = pd.concat([val, new_row], ignore_index=True)\n",
    "        val.to_csv(f'./training_data/{timestamp_str}_val.csv')\n",
    "\n",
    "        test = pd.DataFrame(columns=fields)\n",
    "        for i in range(num_test_points):\n",
    "            width = np.random.lognormal(sigma=sigma, mean=np.log(trace_width_mean))\n",
    "            length = np.random.lognormal(sigma=sigma, mean=np.log(trace_length_mean))\n",
    "        \n",
    "            sim_result = simulate_tline(width,length)\n",
    "        \n",
    "            # Assign the result values\n",
    "            z0 = sim_result.z0\n",
    "            e_length = sim_result.e_length\n",
    "            exec_time = sim_result.exec_time\n",
    "\n",
    "            new_row = pd.DataFrame([[width, length, z0, e_length, exec_time]], columns=fields)\n",
    "\n",
    "            test = pd.concat([test, new_row], ignore_index=True)\n",
    "        test.to_csv(f'./training_data/{timestamp_str}_test.csv')\n",
    "    \n",
    "    \n",
    "# Took 2.25hrs to train 1M points"
   ],
   "metadata": {
    "collapsed": false,
    "ExecuteTime": {
     "end_time": "2023-10-15T06:06:37.440285100Z",
     "start_time": "2023-10-15T06:06:37.049284500Z"
    }
   },
   "id": "25b4e85900614d27"
  },
  {
   "cell_type": "code",
   "execution_count": 7,
   "outputs": [],
   "source": [
    "# Next, train the model\n",
    "\n",
    "import torch\n",
    "import torch.nn as nn\n",
    "import timeit\n",
    "\n",
    "# Check devices\n",
    "# if torch.cuda.is_available():\n",
    "#     logging.info(\"Using CUDA....\")\n",
    "    \n",
    "# Use this line to set a preferred set of data\n",
    "# Otherwise, it uses the one generated above\n",
    "\n",
    "timestamp_str = \"2023_10_2_212631\"\n",
    "\n",
    "if timestamp_str is None:\n",
    "    timestamp_str = \"2023_10_2_212631\"\n",
    "    \n",
    "# Re-read to dataframes\n",
    "training_data_df = pd.read_csv(f'./training_data/{timestamp_str}_train.csv')\n",
    "val_data_df = pd.read_csv(f'./training_data/{timestamp_str}_val.csv')\n",
    "test_data_df = pd.read_csv(f'./training_data/{timestamp_str}_test.csv')\n",
    "\n",
    "# Friendly data format\n",
    "training_input = []\n",
    "for i in range(len(training_data_df.index)):\n",
    "    training_input.append([training_data_df['width'].iloc[i], training_data_df['length'].iloc[i]])\n",
    "training_input_t = torch.tensor(training_input)\n",
    "\n",
    "training_output = []\n",
    "training_output_z0 = []\n",
    "training_output_el = []\n",
    "for i in range(len(training_data_df.index)):\n",
    "    training_output.append([training_data_df['z0'].iloc[i], training_data_df['e_length'].iloc[i]])\n",
    "    training_output_z0.append([training_data_df['z0'].iloc[i]])\n",
    "    training_output_el.append([training_data_df['e_length'].iloc[i]])\n",
    "training_output_t = torch.tensor(training_output)\n",
    "training_output_z0_t = torch.tensor(training_output_z0)\n",
    "training_output_el_t = torch.tensor(training_output_el)\n",
    "\n",
    "val_input = []\n",
    "for i in range(len(val_data_df.index)):\n",
    "    val_input.append([val_data_df['width'].iloc[i], val_data_df['length'].iloc[i]])\n",
    "val_input_t = torch.tensor(val_input)\n",
    "\n",
    "val_output = []\n",
    "val_output_z0 = []\n",
    "val_output_el = []\n",
    "for i in range(len(val_data_df.index)):\n",
    "    val_output.append([val_data_df['z0'].iloc[i], val_data_df['e_length'].iloc[i]])\n",
    "    val_output_z0.append([val_data_df['z0'].iloc[i]])\n",
    "    val_output_el.append([val_data_df['e_length'].iloc[i]])   \n",
    "val_output_t = torch.tensor(val_output)\n",
    "val_output_z0_t = torch.tensor(val_output_z0)\n",
    "val_output_el_t = torch.tensor(val_output_el)\n",
    "\n",
    "test_input = []\n",
    "for i in range(len(test_data_df.index)):\n",
    "    test_input.append([test_data_df['width'].iloc[i], test_data_df['length'].iloc[i]])\n",
    "test_input_t = torch.tensor(test_input)\n",
    "\n",
    "test_output = []\n",
    "test_output_z0 = []\n",
    "test_output_el = []\n",
    "for i in range(len(test_data_df.index)):\n",
    "    test_output.append([test_data_df['z0'].iloc[i], test_data_df['e_length'].iloc[i]])\n",
    "    test_output_z0.append([test_data_df['z0'].iloc[i]])\n",
    "    test_output_el.append([test_data_df['e_length'].iloc[i]])\n",
    "test_output_t = torch.tensor(test_output)\n",
    "test_output_z0_t = torch.tensor(test_output_z0)\n",
    "test_output_el_t = torch.tensor(test_output_el)\n",
    "\n",
    "# if torch.cuda.is_available():\n",
    "#     training_input_t = training_input_t.to('cuda')\n",
    "#     training_output_t = training_output_t.to('cuda')\n",
    "#     val_input_t = val_input_t.to('cuda')\n",
    "#     val_output_t = val_output_t.to('cuda')\n",
    "#     # test_input_t = test_input_t.to('cuda')\n",
    "#     # test_output_t = test_output_t.to('cuda')\n",
    "#     print(f\"Data located at: {training_input_t.device}\")\n",
    "#     # print(training_input_t.device)\n",
    "#     print(training_output_t.device)\n",
    "#     print(val_input_t.device)\n",
    "#     print(val_output_t.device)\n",
    "#     print(test_input_t.device)\n",
    "#     print(test_output_t.device)\n"
   ],
   "metadata": {
    "collapsed": false,
    "ExecuteTime": {
     "end_time": "2023-10-15T06:08:33.166580300Z",
     "start_time": "2023-10-15T06:06:57.662692100Z"
    }
   },
   "id": "c0e5ce9ac35d8c12"
  },
  {
   "cell_type": "code",
   "execution_count": 8,
   "outputs": [],
   "source": [
    "# Create a scaler for sequential model\n",
    "\n",
    "class MinMaxScalerLayer(nn.Module):\n",
    "    def __init__(self, input_size):\n",
    "        super(MinMaxScalerLayer, self).__init__()\n",
    "        self.register_buffer('min_vals', torch.zeros(input_size))\n",
    "        self.register_buffer('max_vals', torch.ones(input_size))\n",
    "\n",
    "    def forward(self, x):\n",
    "        # Scale the input to the range [0, 1]\n",
    "        scaled_x = (x - self.min_vals) / (self.max_vals - self.min_vals)\n",
    "        return scaled_x\n",
    "\n",
    "    def inverse_scale(self, scaled_x):\n",
    "        # Inverse scale the input to the original range\n",
    "        return scaled_x * (self.max_vals - self.min_vals) + self.min_vals\n"
   ],
   "metadata": {
    "collapsed": false,
    "ExecuteTime": {
     "end_time": "2023-10-15T06:08:33.181580100Z",
     "start_time": "2023-10-15T06:08:33.169580500Z"
    }
   },
   "id": "1780c2fc9c24b70"
  },
  {
   "cell_type": "code",
   "execution_count": 208,
   "outputs": [],
   "source": [
    "# Create my model\n",
    "\n",
    "class TlineModel(nn.Module):\n",
    "    def __init__(self):\n",
    "        super(TlineModel, self).__init__()\n",
    "        self.model = nn.Sequential(\n",
    "            MinMaxScalerLayer(2),\n",
    "            # nn.Linear(2, 512),  \n",
    "            # nn.Tanh(),\n",
    "            # nn.Linear(512, 64),  \n",
    "            # nn.ReLU(),\n",
    "            # nn.Linear(64, 320),\n",
    "            # nn.ReLU(),\n",
    "            # nn.Linear(320, 224),\n",
    "            # nn.ReLU(),\n",
    "            # nn.Linear(224, 448),\n",
    "            # nn.ReLU(),\n",
    "            # nn.Linear(448, 2)  \n",
    "            nn.Linear(2, 224),\n",
    "            nn.ELU(),\n",
    "            nn.Linear(224, 64),\n",
    "            nn.Softplus(),\n",
    "            nn.Linear(64, 64),\n",
    "            # nn.ReLU(),\n",
    "            nn.Linear(64, 320),\n",
    "            nn.ReLU(),\n",
    "            nn.Linear(320, 2),\n",
    "            nn.ReLU()\n",
    "        )\n",
    "\n",
    "    def forward(self, x):\n",
    "        # Try adding log output?\n",
    "        # x_log = torch.log(torch.abs(self.model(x)+1e-5))\n",
    "        return self.model(x)\n",
    "        # return x_log"
   ],
   "metadata": {
    "collapsed": false,
    "ExecuteTime": {
     "end_time": "2023-10-16T00:32:17.263801100Z",
     "start_time": "2023-10-16T00:32:17.253796800Z"
    }
   },
   "id": "9b3015c7d4c84fe0"
  },
  {
   "cell_type": "code",
   "execution_count": 209,
   "outputs": [],
   "source": [
    "model = None"
   ],
   "metadata": {
    "collapsed": false,
    "ExecuteTime": {
     "end_time": "2023-10-16T00:32:18.133839900Z",
     "start_time": "2023-10-16T00:32:18.113841200Z"
    }
   },
   "id": "a31eba11bfcd272b"
  },
  {
   "cell_type": "code",
   "execution_count": 245,
   "outputs": [
    {
     "name": "stdout",
     "output_type": "stream",
     "text": [
      "Using device: cuda\n",
      "Epoch [1/10], Training Loss: 309516.8552, Validation Loss: 309389.6156\n"
     ]
    },
    {
     "ename": "KeyboardInterrupt",
     "evalue": "",
     "output_type": "error",
     "traceback": [
      "\u001B[1;31m---------------------------------------------------------------------------\u001B[0m",
      "\u001B[1;31mKeyboardInterrupt\u001B[0m                         Traceback (most recent call last)",
      "Cell \u001B[1;32mIn[245], line 39\u001B[0m\n\u001B[0;32m     35\u001B[0m \u001B[38;5;28;01mfor\u001B[39;00m epoch \u001B[38;5;129;01min\u001B[39;00m \u001B[38;5;28mrange\u001B[39m(epochs):\n\u001B[0;32m     36\u001B[0m     \u001B[38;5;66;03m# print(f\"\\nRunning Epoch {epoch}\\n\")\u001B[39;00m\n\u001B[0;32m     37\u001B[0m     model\u001B[38;5;241m.\u001B[39mtrain()\n\u001B[1;32m---> 39\u001B[0m     \u001B[38;5;28;01mfor\u001B[39;00m inputs, targets \u001B[38;5;129;01min\u001B[39;00m training_data_loader:\n\u001B[0;32m     40\u001B[0m         \u001B[38;5;66;03m# print(f\"\\nRunning TDL {inputs[0]}\\n\")\u001B[39;00m\n\u001B[0;32m     41\u001B[0m         inputs, targets \u001B[38;5;241m=\u001B[39m inputs\u001B[38;5;241m.\u001B[39mto(device), targets\u001B[38;5;241m.\u001B[39mto(device)\n\u001B[0;32m     42\u001B[0m         outputs \u001B[38;5;241m=\u001B[39m model(inputs)\n",
      "File \u001B[1;32m~\\anaconda3\\envs\\ECE504-Project1\\lib\\site-packages\\torch\\utils\\data\\dataloader.py:633\u001B[0m, in \u001B[0;36m_BaseDataLoaderIter.__next__\u001B[1;34m(self)\u001B[0m\n\u001B[0;32m    630\u001B[0m \u001B[38;5;28;01mif\u001B[39;00m \u001B[38;5;28mself\u001B[39m\u001B[38;5;241m.\u001B[39m_sampler_iter \u001B[38;5;129;01mis\u001B[39;00m \u001B[38;5;28;01mNone\u001B[39;00m:\n\u001B[0;32m    631\u001B[0m     \u001B[38;5;66;03m# TODO(https://github.com/pytorch/pytorch/issues/76750)\u001B[39;00m\n\u001B[0;32m    632\u001B[0m     \u001B[38;5;28mself\u001B[39m\u001B[38;5;241m.\u001B[39m_reset()  \u001B[38;5;66;03m# type: ignore[call-arg]\u001B[39;00m\n\u001B[1;32m--> 633\u001B[0m data \u001B[38;5;241m=\u001B[39m \u001B[38;5;28;43mself\u001B[39;49m\u001B[38;5;241;43m.\u001B[39;49m\u001B[43m_next_data\u001B[49m\u001B[43m(\u001B[49m\u001B[43m)\u001B[49m\n\u001B[0;32m    634\u001B[0m \u001B[38;5;28mself\u001B[39m\u001B[38;5;241m.\u001B[39m_num_yielded \u001B[38;5;241m+\u001B[39m\u001B[38;5;241m=\u001B[39m \u001B[38;5;241m1\u001B[39m\n\u001B[0;32m    635\u001B[0m \u001B[38;5;28;01mif\u001B[39;00m \u001B[38;5;28mself\u001B[39m\u001B[38;5;241m.\u001B[39m_dataset_kind \u001B[38;5;241m==\u001B[39m _DatasetKind\u001B[38;5;241m.\u001B[39mIterable \u001B[38;5;129;01mand\u001B[39;00m \\\n\u001B[0;32m    636\u001B[0m         \u001B[38;5;28mself\u001B[39m\u001B[38;5;241m.\u001B[39m_IterableDataset_len_called \u001B[38;5;129;01mis\u001B[39;00m \u001B[38;5;129;01mnot\u001B[39;00m \u001B[38;5;28;01mNone\u001B[39;00m \u001B[38;5;129;01mand\u001B[39;00m \\\n\u001B[0;32m    637\u001B[0m         \u001B[38;5;28mself\u001B[39m\u001B[38;5;241m.\u001B[39m_num_yielded \u001B[38;5;241m>\u001B[39m \u001B[38;5;28mself\u001B[39m\u001B[38;5;241m.\u001B[39m_IterableDataset_len_called:\n",
      "File \u001B[1;32m~\\anaconda3\\envs\\ECE504-Project1\\lib\\site-packages\\torch\\utils\\data\\dataloader.py:677\u001B[0m, in \u001B[0;36m_SingleProcessDataLoaderIter._next_data\u001B[1;34m(self)\u001B[0m\n\u001B[0;32m    675\u001B[0m \u001B[38;5;28;01mdef\u001B[39;00m \u001B[38;5;21m_next_data\u001B[39m(\u001B[38;5;28mself\u001B[39m):\n\u001B[0;32m    676\u001B[0m     index \u001B[38;5;241m=\u001B[39m \u001B[38;5;28mself\u001B[39m\u001B[38;5;241m.\u001B[39m_next_index()  \u001B[38;5;66;03m# may raise StopIteration\u001B[39;00m\n\u001B[1;32m--> 677\u001B[0m     data \u001B[38;5;241m=\u001B[39m \u001B[38;5;28;43mself\u001B[39;49m\u001B[38;5;241;43m.\u001B[39;49m\u001B[43m_dataset_fetcher\u001B[49m\u001B[38;5;241;43m.\u001B[39;49m\u001B[43mfetch\u001B[49m\u001B[43m(\u001B[49m\u001B[43mindex\u001B[49m\u001B[43m)\u001B[49m  \u001B[38;5;66;03m# may raise StopIteration\u001B[39;00m\n\u001B[0;32m    678\u001B[0m     \u001B[38;5;28;01mif\u001B[39;00m \u001B[38;5;28mself\u001B[39m\u001B[38;5;241m.\u001B[39m_pin_memory:\n\u001B[0;32m    679\u001B[0m         data \u001B[38;5;241m=\u001B[39m _utils\u001B[38;5;241m.\u001B[39mpin_memory\u001B[38;5;241m.\u001B[39mpin_memory(data, \u001B[38;5;28mself\u001B[39m\u001B[38;5;241m.\u001B[39m_pin_memory_device)\n",
      "File \u001B[1;32m~\\anaconda3\\envs\\ECE504-Project1\\lib\\site-packages\\torch\\utils\\data\\_utils\\fetch.py:51\u001B[0m, in \u001B[0;36m_MapDatasetFetcher.fetch\u001B[1;34m(self, possibly_batched_index)\u001B[0m\n\u001B[0;32m     49\u001B[0m         data \u001B[38;5;241m=\u001B[39m \u001B[38;5;28mself\u001B[39m\u001B[38;5;241m.\u001B[39mdataset\u001B[38;5;241m.\u001B[39m__getitems__(possibly_batched_index)\n\u001B[0;32m     50\u001B[0m     \u001B[38;5;28;01melse\u001B[39;00m:\n\u001B[1;32m---> 51\u001B[0m         data \u001B[38;5;241m=\u001B[39m [\u001B[38;5;28mself\u001B[39m\u001B[38;5;241m.\u001B[39mdataset[idx] \u001B[38;5;28;01mfor\u001B[39;00m idx \u001B[38;5;129;01min\u001B[39;00m possibly_batched_index]\n\u001B[0;32m     52\u001B[0m \u001B[38;5;28;01melse\u001B[39;00m:\n\u001B[0;32m     53\u001B[0m     data \u001B[38;5;241m=\u001B[39m \u001B[38;5;28mself\u001B[39m\u001B[38;5;241m.\u001B[39mdataset[possibly_batched_index]\n",
      "File \u001B[1;32m~\\anaconda3\\envs\\ECE504-Project1\\lib\\site-packages\\torch\\utils\\data\\_utils\\fetch.py:51\u001B[0m, in \u001B[0;36m<listcomp>\u001B[1;34m(.0)\u001B[0m\n\u001B[0;32m     49\u001B[0m         data \u001B[38;5;241m=\u001B[39m \u001B[38;5;28mself\u001B[39m\u001B[38;5;241m.\u001B[39mdataset\u001B[38;5;241m.\u001B[39m__getitems__(possibly_batched_index)\n\u001B[0;32m     50\u001B[0m     \u001B[38;5;28;01melse\u001B[39;00m:\n\u001B[1;32m---> 51\u001B[0m         data \u001B[38;5;241m=\u001B[39m [\u001B[38;5;28;43mself\u001B[39;49m\u001B[38;5;241;43m.\u001B[39;49m\u001B[43mdataset\u001B[49m\u001B[43m[\u001B[49m\u001B[43midx\u001B[49m\u001B[43m]\u001B[49m \u001B[38;5;28;01mfor\u001B[39;00m idx \u001B[38;5;129;01min\u001B[39;00m possibly_batched_index]\n\u001B[0;32m     52\u001B[0m \u001B[38;5;28;01melse\u001B[39;00m:\n\u001B[0;32m     53\u001B[0m     data \u001B[38;5;241m=\u001B[39m \u001B[38;5;28mself\u001B[39m\u001B[38;5;241m.\u001B[39mdataset[possibly_batched_index]\n",
      "File \u001B[1;32m~\\anaconda3\\envs\\ECE504-Project1\\lib\\site-packages\\torch\\utils\\data\\dataset.py:196\u001B[0m, in \u001B[0;36mTensorDataset.__getitem__\u001B[1;34m(self, index)\u001B[0m\n\u001B[0;32m    195\u001B[0m \u001B[38;5;28;01mdef\u001B[39;00m \u001B[38;5;21m__getitem__\u001B[39m(\u001B[38;5;28mself\u001B[39m, index):\n\u001B[1;32m--> 196\u001B[0m     \u001B[38;5;28;01mreturn\u001B[39;00m \u001B[38;5;28;43mtuple\u001B[39;49m\u001B[43m(\u001B[49m\u001B[43mtensor\u001B[49m\u001B[43m[\u001B[49m\u001B[43mindex\u001B[49m\u001B[43m]\u001B[49m\u001B[43m \u001B[49m\u001B[38;5;28;43;01mfor\u001B[39;49;00m\u001B[43m \u001B[49m\u001B[43mtensor\u001B[49m\u001B[43m \u001B[49m\u001B[38;5;129;43;01min\u001B[39;49;00m\u001B[43m \u001B[49m\u001B[38;5;28;43mself\u001B[39;49m\u001B[38;5;241;43m.\u001B[39;49m\u001B[43mtensors\u001B[49m\u001B[43m)\u001B[49m\n",
      "File \u001B[1;32m~\\anaconda3\\envs\\ECE504-Project1\\lib\\site-packages\\torch\\utils\\data\\dataset.py:196\u001B[0m, in \u001B[0;36m<genexpr>\u001B[1;34m(.0)\u001B[0m\n\u001B[0;32m    195\u001B[0m \u001B[38;5;28;01mdef\u001B[39;00m \u001B[38;5;21m__getitem__\u001B[39m(\u001B[38;5;28mself\u001B[39m, index):\n\u001B[1;32m--> 196\u001B[0m     \u001B[38;5;28;01mreturn\u001B[39;00m \u001B[38;5;28mtuple\u001B[39m(tensor[index] \u001B[38;5;28;01mfor\u001B[39;00m tensor \u001B[38;5;129;01min\u001B[39;00m \u001B[38;5;28mself\u001B[39m\u001B[38;5;241m.\u001B[39mtensors)\n",
      "\u001B[1;31mKeyboardInterrupt\u001B[0m: "
     ]
    }
   ],
   "source": [
    "from torch.utils.data import DataLoader, TensorDataset\n",
    "torch.set_default_dtype(torch.float64)\n",
    "train_new_model = True\n",
    "\n",
    "# Check for GPU availability\n",
    "device = torch.device(\"cuda\" if torch.cuda.is_available() else \"cpu\")\n",
    "print(f\"Using device: {device}\")\n",
    "\n",
    "if train_new_model:\n",
    "    model = None\n",
    "    model = TlineModel().to(device)\n",
    "    \n",
    "    #Set batch size: \n",
    "    batch_size=10000\n",
    "    \n",
    "    # Create datasets\n",
    "    training_dataset = TensorDataset(training_input_t.to(device), training_output_t.to(device))\n",
    "    val_dataset = TensorDataset(val_input_t.to(device), val_output_t.to(device))\n",
    "    \n",
    "    training_data_loader = DataLoader(training_dataset, batch_size = batch_size, shuffle=True)\n",
    "    val_data_loader = DataLoader(val_dataset, batch_size=batch_size, shuffle=False)\n",
    "    \n",
    "    # Define the loss function and optimizer\n",
    "    criterion = nn.MSELoss()  # Mean Squared Error Loss\n",
    "    optimizer = torch.optim.Rprop(model.parameters(), lr=0.001)\n",
    "\n",
    "    # Define weights for each output\n",
    "    weight_output_z0 = 3.0  # Adjust this weight based on importance\n",
    "    weight_output_el = 1.0  # Adjust this weight based on importance\n",
    "    \n",
    "    # Train\n",
    "    losses = []\n",
    "    val_losses = []\n",
    "    epochs = 10\n",
    "    for epoch in range(epochs):\n",
    "        # print(f\"\\nRunning Epoch {epoch}\\n\")\n",
    "        model.train()\n",
    "        \n",
    "        for inputs, targets in training_data_loader:\n",
    "            # print(f\"\\nRunning TDL {inputs[0]}\\n\")\n",
    "            inputs, targets = inputs.to(device), targets.to(device)\n",
    "            outputs = model(inputs)\n",
    "            # loss = criterion(outputs, targets)\n",
    "            # Weighted loss\n",
    "            loss = weight_output_z0 * criterion(outputs[:, 0], targets[:, 0]) + weight_output_el * criterion(outputs[:, 1], targets[:, 1])\n",
    "            losses.append(loss.item())\n",
    "            optimizer.zero_grad()\n",
    "            loss.backward()\n",
    "            optimizer.step()\n",
    "        \n",
    "        # Validate\n",
    "        model.eval()\n",
    "        with torch.no_grad():\n",
    "            for val_inputs, val_targets in val_data_loader:\n",
    "                # print(f\"\\nRunning VDL {val_inputs[0]}\\n\")\n",
    "                val_inputs, val_targets = val_inputs.to(device), val_targets.to(device)  # Move data to GPU\n",
    "                val_outputs = model(val_inputs)\n",
    "                # val_loss = criterion(val_outputs, val_targets)\n",
    "                # Weighted loss\n",
    "                val_loss = weight_output_z0 * criterion(val_outputs[:, 0], val_targets[:, 0]) + weight_output_el * criterion(val_outputs[:, 1], val_targets[:, 1])\n",
    "                val_losses.append(val_loss.item())\n",
    "\n",
    "        # print(f'Epoch [{epoch+1}/{epochs}], Training Loss: {loss.item():.4f}, Validation Loss: {val_loss.item():.4f}')\n",
    "        print(f'Epoch [{epoch+1}/{epochs}], Training Loss: {sum(losses)/len(losses):.4f}, Validation Loss: {sum(val_losses)/len(val_losses):.4f}')\n",
    "        \n",
    "        \n",
    "# Name and Value after 25 epoch, LR=0.01 for all, using huber loss\n",
    "# Adadelta          100.2, pred bad\n",
    "# Adagrad           69, bad\n",
    "# Adam              53, bad\n",
    "# AdamW             32, bad\n",
    "# SparseAdam        x\n",
    "# Adamax            66 bad\n",
    "# ASGD              16 really bad\n",
    "# LBFGS             x\n",
    "# NAdam             100 bad\n",
    "# RADAM             gigantic number\n",
    "# RMSprop           96 bad negative\n",
    "# Rprop             36 least bad?\n",
    "# SGD               53 bad\n"
   ],
   "metadata": {
    "collapsed": false,
    "ExecuteTime": {
     "end_time": "2023-10-16T01:11:03.413902200Z",
     "start_time": "2023-10-16T01:10:03.978318400Z"
    }
   },
   "id": "8a9fc97cb69cde0e"
  },
  {
   "cell_type": "code",
   "execution_count": 211,
   "outputs": [
    {
     "name": "stdout",
     "output_type": "stream",
     "text": [
      "Predictions:\n",
      "tensor([[  52.2583,  754.3062],\n",
      "        [  97.1017,  271.7640],\n",
      "        [ 103.5728, 1008.9057],\n",
      "        ...,\n",
      "        [  54.6247,  116.3961],\n",
      "        [  81.0473,  787.7940],\n",
      "        [  36.0629,  693.3220]], device='cuda:0')\n",
      "tensor([[  53.2770,  751.5713],\n",
      "        [  98.3075,  272.8990],\n",
      "        [ 103.3895, 1009.8720],\n",
      "        ...,\n",
      "        [  53.8333,  117.4296],\n",
      "        [  80.1476,  787.7499],\n",
      "        [  37.5190,  693.7832]], device='cuda:0')\n"
     ]
    }
   ],
   "source": [
    "with torch.no_grad():\n",
    "    predictions = model(test_input_t.to(device)).to(device)\n",
    "    print(\"Predictions:\")\n",
    "    print(predictions)\n",
    "    \n",
    "print(test_output_t.to(device))"
   ],
   "metadata": {
    "collapsed": false,
    "ExecuteTime": {
     "end_time": "2023-10-16T00:34:32.304931300Z",
     "start_time": "2023-10-16T00:34:31.177536500Z"
    }
   },
   "id": "a6d0e43fb41d2c75"
  },
  {
   "cell_type": "code",
   "execution_count": 251,
   "outputs": [],
   "source": [
    "predictions = None"
   ],
   "metadata": {
    "collapsed": false,
    "ExecuteTime": {
     "end_time": "2023-10-16T02:05:32.488784100Z",
     "start_time": "2023-10-16T02:05:32.448787800Z"
    }
   },
   "id": "1ed605aef1387280"
  },
  {
   "cell_type": "code",
   "execution_count": 253,
   "outputs": [
    {
     "name": "stdout",
     "output_type": "stream",
     "text": [
      "Time to predict all: 0.002008399984333664 seconds\n",
      "Number of Samples: 200000\n",
      "Time per Sample: 10.041999921668321 ns\n"
     ]
    }
   ],
   "source": [
    "# Check time to predict all values\n",
    "start_time = timer()\n",
    "predictions = model(test_input_t.to(device)).to(device)\n",
    "end_time = timer()\n",
    "total_time = end_time-start_time\n",
    "time_per_predict = total_time/len(test_input_t)\n",
    "print(f\"Time to predict all: {total_time} seconds\")\n",
    "print(f\"Number of Samples: {len(test_input_t)}\")\n",
    "print(f\"Time per Sample: {time_per_predict*1e9} ns\")"
   ],
   "metadata": {
    "collapsed": false,
    "ExecuteTime": {
     "end_time": "2023-10-16T02:05:51.889792200Z",
     "start_time": "2023-10-16T02:05:51.861792300Z"
    }
   },
   "id": "e6ff40f2c28044dd"
  },
  {
   "cell_type": "code",
   "execution_count": 244,
   "outputs": [
    {
     "name": "stdout",
     "output_type": "stream",
     "text": [
      "Predict: (12.71469610629463, 1920.3919580145105)\n",
      "Simulate: (14.488317257057858, 1922.240220706324)\n"
     ]
    }
   ],
   "source": [
    "# Some Spot Predictions\n",
    "\n",
    "twidth = 91.5\n",
    "tlength = 34433.\n",
    "\n",
    "check = torch.tensor([[twidth, tlength]]).to(device)\n",
    "# preds = model(test_input_t[0].to(device)).to(device)\n",
    "preds = model(check)\n",
    "pred_z0 = preds[0][0].item()\n",
    "pred_el= preds[0][1].item()\n",
    "\n",
    "sims = simulate_tline(twidth, tlength)\n",
    "\n",
    "print(f\"Predict: {pred_z0, pred_el}\")\n",
    "print(f\"Simulate: {sims.z0, sims.e_length}\")\n"
   ],
   "metadata": {
    "collapsed": false,
    "ExecuteTime": {
     "end_time": "2023-10-16T00:41:26.327710800Z",
     "start_time": "2023-10-16T00:41:26.286711900Z"
    }
   },
   "id": "5ae43a9c33d0a0a5"
  },
  {
   "cell_type": "markdown",
   "source": [],
   "metadata": {
    "collapsed": false
   },
   "id": "273e2bb4421648ae"
  },
  {
   "cell_type": "code",
   "execution_count": 241,
   "outputs": [
    {
     "data": {
      "text/plain": "           Unnamed: 0           width          length              z0  \\\ncount  1000000.000000  1000000.000000  1000000.000000  1000000.000000   \nmean    499999.500000       21.169422     7953.009622       53.892116   \nstd     288675.278933       18.403874     6922.440109       21.448189   \nmin          0.000000        0.356985      135.847705        3.038179   \n1%        9999.990000        2.786135     1043.336483       14.487946   \n10%      99999.900000        6.115408     2294.636145       27.264294   \n50%     499999.500000       15.977290     5998.074000       52.009800   \n90%     899999.100000       41.805797    15702.668714       83.101099   \n99%     989999.010000       91.502748    34433.629336      108.854294   \nmax     999999.000000      499.219254   190691.811237      168.013554   \n\n             e_length       exec_time  \ncount  1000000.000000  1000000.000000  \nmean       411.539366        0.000982  \nstd        358.530793        0.000067  \nmin          7.098624        0.000871  \n1%          53.965567        0.000892  \n10%        118.570721        0.000907  \n50%        310.305802        0.000978  \n90%        812.803701        0.001052  \n99%       1782.817863        0.001180  \nmax       9489.627757        0.004772  ",
      "text/html": "<div>\n<style scoped>\n    .dataframe tbody tr th:only-of-type {\n        vertical-align: middle;\n    }\n\n    .dataframe tbody tr th {\n        vertical-align: top;\n    }\n\n    .dataframe thead th {\n        text-align: right;\n    }\n</style>\n<table border=\"1\" class=\"dataframe\">\n  <thead>\n    <tr style=\"text-align: right;\">\n      <th></th>\n      <th>Unnamed: 0</th>\n      <th>width</th>\n      <th>length</th>\n      <th>z0</th>\n      <th>e_length</th>\n      <th>exec_time</th>\n    </tr>\n  </thead>\n  <tbody>\n    <tr>\n      <th>count</th>\n      <td>1000000.000000</td>\n      <td>1000000.000000</td>\n      <td>1000000.000000</td>\n      <td>1000000.000000</td>\n      <td>1000000.000000</td>\n      <td>1000000.000000</td>\n    </tr>\n    <tr>\n      <th>mean</th>\n      <td>499999.500000</td>\n      <td>21.169422</td>\n      <td>7953.009622</td>\n      <td>53.892116</td>\n      <td>411.539366</td>\n      <td>0.000982</td>\n    </tr>\n    <tr>\n      <th>std</th>\n      <td>288675.278933</td>\n      <td>18.403874</td>\n      <td>6922.440109</td>\n      <td>21.448189</td>\n      <td>358.530793</td>\n      <td>0.000067</td>\n    </tr>\n    <tr>\n      <th>min</th>\n      <td>0.000000</td>\n      <td>0.356985</td>\n      <td>135.847705</td>\n      <td>3.038179</td>\n      <td>7.098624</td>\n      <td>0.000871</td>\n    </tr>\n    <tr>\n      <th>1%</th>\n      <td>9999.990000</td>\n      <td>2.786135</td>\n      <td>1043.336483</td>\n      <td>14.487946</td>\n      <td>53.965567</td>\n      <td>0.000892</td>\n    </tr>\n    <tr>\n      <th>10%</th>\n      <td>99999.900000</td>\n      <td>6.115408</td>\n      <td>2294.636145</td>\n      <td>27.264294</td>\n      <td>118.570721</td>\n      <td>0.000907</td>\n    </tr>\n    <tr>\n      <th>50%</th>\n      <td>499999.500000</td>\n      <td>15.977290</td>\n      <td>5998.074000</td>\n      <td>52.009800</td>\n      <td>310.305802</td>\n      <td>0.000978</td>\n    </tr>\n    <tr>\n      <th>90%</th>\n      <td>899999.100000</td>\n      <td>41.805797</td>\n      <td>15702.668714</td>\n      <td>83.101099</td>\n      <td>812.803701</td>\n      <td>0.001052</td>\n    </tr>\n    <tr>\n      <th>99%</th>\n      <td>989999.010000</td>\n      <td>91.502748</td>\n      <td>34433.629336</td>\n      <td>108.854294</td>\n      <td>1782.817863</td>\n      <td>0.001180</td>\n    </tr>\n    <tr>\n      <th>max</th>\n      <td>999999.000000</td>\n      <td>499.219254</td>\n      <td>190691.811237</td>\n      <td>168.013554</td>\n      <td>9489.627757</td>\n      <td>0.004772</td>\n    </tr>\n  </tbody>\n</table>\n</div>"
     },
     "execution_count": 241,
     "metadata": {},
     "output_type": "execute_result"
    }
   ],
   "source": [
    "training_data_df.describe(percentiles=[0.01, 0.1,0.9,0.99])\n"
   ],
   "metadata": {
    "collapsed": false,
    "ExecuteTime": {
     "end_time": "2023-10-16T00:41:04.772756600Z",
     "start_time": "2023-10-16T00:41:04.613757Z"
    }
   },
   "id": "2ecb386e397855d4"
  },
  {
   "cell_type": "code",
   "execution_count": 213,
   "outputs": [
    {
     "data": {
      "text/plain": "tensor([[6000.,   40.]], device='cuda:0')"
     },
     "execution_count": 213,
     "metadata": {},
     "output_type": "execute_result"
    }
   ],
   "source": [
    "torch.tensor([[tlength, twidth]]).to(device)"
   ],
   "metadata": {
    "collapsed": false,
    "ExecuteTime": {
     "end_time": "2023-10-16T00:34:41.079408600Z",
     "start_time": "2023-10-16T00:34:41.061409100Z"
    }
   },
   "id": "580c8fb6a8dfdf30"
  },
  {
   "cell_type": "code",
   "execution_count": 214,
   "outputs": [
    {
     "data": {
      "text/plain": "[<matplotlib.lines.Line2D at 0x1cdfc6e92a0>]"
     },
     "execution_count": 214,
     "metadata": {},
     "output_type": "execute_result"
    },
    {
     "data": {
      "text/plain": "<Figure size 640x480 with 1 Axes>",
      "image/png": "[encoded data removed]"
     },
     "metadata": {},
     "output_type": "display_data"
    }
   ],
   "source": [
    "from matplotlib import pyplot as plt\n",
    "# plt.scatter(test_data_df['width'],test_output_z0)\n",
    "\n",
    "plot_x = test_output_z0\n",
    "plot_y = predictions[:,0].cpu()\n",
    "plt.scatter(plot_x, plot_y)\n",
    "plt.plot([0,100],[0,100],'r')"
   ],
   "metadata": {
    "collapsed": false,
    "ExecuteTime": {
     "end_time": "2023-10-16T00:34:46.096089800Z",
     "start_time": "2023-10-16T00:34:41.411736100Z"
    }
   },
   "id": "b4ab20bd74f6c6ee"
  },
  {
   "cell_type": "code",
   "execution_count": 215,
   "outputs": [
    {
     "data": {
      "text/plain": "[<matplotlib.lines.Line2D at 0x1cdfb9940a0>]"
     },
     "execution_count": 215,
     "metadata": {},
     "output_type": "execute_result"
    },
    {
     "data": {
      "text/plain": "<Figure size 640x480 with 1 Axes>",
      "image/png": "[encoded data removed]"
     },
     "metadata": {},
     "output_type": "display_data"
    }
   ],
   "source": [
    "plot_x = test_output_el\n",
    "plot_y = predictions[:,1].cpu()\n",
    "plt.scatter(plot_x, plot_y)\n",
    "plt.plot([0,10000],[0,10000],'r')"
   ],
   "metadata": {
    "collapsed": false,
    "ExecuteTime": {
     "end_time": "2023-10-16T00:34:58.610977800Z",
     "start_time": "2023-10-16T00:34:54.583838100Z"
    }
   },
   "id": "9cc66a5ff57458f7"
  },
  {
   "cell_type": "code",
   "execution_count": 216,
   "outputs": [
    {
     "data": {
      "text/plain": "[<matplotlib.lines.Line2D at 0x1cdfc4591b0>]"
     },
     "execution_count": 216,
     "metadata": {},
     "output_type": "execute_result"
    },
    {
     "data": {
      "text/plain": "<Figure size 640x480 with 1 Axes>",
      "image/png": "[encoded data removed]"
     },
     "metadata": {},
     "output_type": "display_data"
    }
   ],
   "source": [
    "plt.semilogy(losses)\n",
    "plt.semilogy(val_losses, 'r')"
   ],
   "metadata": {
    "collapsed": false,
    "ExecuteTime": {
     "end_time": "2023-10-16T00:35:17.869787200Z",
     "start_time": "2023-10-16T00:35:17.553751200Z"
    }
   },
   "id": "f5d8810816b3e1c6"
  },
  {
   "cell_type": "code",
   "execution_count": 194,
   "outputs": [
    {
     "name": "stdout",
     "output_type": "stream",
     "text": [
      "tensor([31.8182, 18.6971,  7.7771,  ..., 10.2487, 24.1844, 40.0780])\n",
      "tensor([33.2976, 47.3517, 75.0781,  ..., 66.0097, 40.1918, 28.1419])\n",
      "TlineModel(\n",
      "  (model): Sequential(\n",
      "    (0): MinMaxScalerLayer()\n",
      "    (1): Linear(in_features=2, out_features=512, bias=True)\n",
      "    (2): ReLU()\n",
      "    (3): Linear(in_features=512, out_features=64, bias=True)\n",
      "    (4): ReLU()\n",
      "    (5): Linear(in_features=64, out_features=320, bias=True)\n",
      "    (6): ReLU()\n",
      "    (7): Linear(in_features=320, out_features=224, bias=True)\n",
      "    (8): ReLU()\n",
      "    (9): Linear(in_features=224, out_features=448, bias=True)\n",
      "    (10): ReLU()\n",
      "    (11): Linear(in_features=448, out_features=2, bias=True)\n",
      "  )\n",
      ")\n"
     ]
    }
   ],
   "source": [
    "print(training_input_t[:,0])\n",
    "print(training_output_t[:,0])\n",
    "print(model)"
   ],
   "metadata": {
    "collapsed": false,
    "ExecuteTime": {
     "end_time": "2023-10-16T00:20:43.559129100Z",
     "start_time": "2023-10-16T00:20:43.539117800Z"
    }
   },
   "id": "5de2e23e0c6f91c5"
  },
  {
   "cell_type": "code",
   "execution_count": 195,
   "outputs": [
    {
     "name": "stdout",
     "output_type": "stream",
     "text": [
      "Saving model as of 2023_10_2_212631\n"
     ]
    },
    {
     "data": {
      "text/plain": "<Figure size 640x480 with 0 Axes>"
     },
     "metadata": {},
     "output_type": "display_data"
    }
   ],
   "source": [
    "    # New timestamp for trained models\n",
    "    # timestamp = datetime.datetime.now()\n",
    "    # timestamp_str = f\"{timestamp.year}_{timestamp.month}_{timestamp.day}_{timestamp.time().hour}{timestamp.time().minute}{timestamp.time().second}\"\n",
    "    timestamp = timestamp_str\n",
    "    print(f\"Saving model as of {timestamp}\")\n",
    "    \n",
    "    torch.save(model, f\"./models/{timestamp_str}.pt\")\n",
    "    outfile = f\"./models/losses/{timestamp_str}_loss\"\n",
    "    # np.save(outfile, losses)\n",
    "    outfile = f\"./models/losses/{timestamp_str}_val_loss\"\n",
    "    # np.save(outfile, val_losses)\n",
    "\n",
    "    import matplotlib.pyplot as plt\n",
    "    plt.plot(losses, label=\"Training Loss\")\n",
    "    plt.plot(val_losses, label=\"Validation Loss\")\n",
    "    plt.ylabel('MSE Loss')\n",
    "    plt.xlabel('Epoch Number')\n",
    "    plt.title(\"Training and Validation Loss\")\n",
    "    plt.legend()\n",
    "    plt.savefig(f\"./models/losses/{timestamp_str}_loss_plot.pdf\")\n",
    "    plt.clf()\n",
    "\n"
   ],
   "metadata": {
    "collapsed": false,
    "ExecuteTime": {
     "end_time": "2023-10-16T00:21:07.865493400Z",
     "start_time": "2023-10-16T00:21:07.526365300Z"
    }
   },
   "id": "a840d8459eb22d23"
  },
  {
   "cell_type": "code",
   "execution_count": 132,
   "outputs": [],
   "source": [
    "device = torch.device('cpu')\n",
    "model = torch.load(f\"./models/{timestamp_str}.pt\", map_location=device)\n",
    "# Move test input to cpu\n",
    "# test_input_c = test_input_t.to('cpu')\n",
    "model_predicted = model(test_input_t).detach().numpy()\n"
   ],
   "metadata": {
    "collapsed": false,
    "ExecuteTime": {
     "end_time": "2023-10-05T04:13:25.947801600Z",
     "start_time": "2023-10-05T04:13:25.855267300Z"
    }
   },
   "id": "37f8a18ab976e12b"
  },
  {
   "cell_type": "code",
   "execution_count": 167,
   "outputs": [
    {
     "data": {
      "text/plain": "tensor([[  56.4671,  755.6115],\n        [  21.3110,  286.3589],\n        [  79.5958, 1061.6104],\n        ...,\n        [   8.5562,  118.2415],\n        [  61.1580,  816.8117],\n        [  50.6188,  679.4067]], grad_fn=<CatBackward0>)"
     },
     "execution_count": 167,
     "metadata": {},
     "output_type": "execute_result"
    }
   ],
   "source": [
    "model.eval()\n",
    "model(test_input_t)\n"
   ],
   "metadata": {
    "collapsed": false,
    "ExecuteTime": {
     "end_time": "2023-10-06T01:21:10.962570200Z",
     "start_time": "2023-10-06T01:21:10.825371700Z"
    }
   },
   "id": "5ddded4e1e6b19ad"
  },
  {
   "cell_type": "code",
   "execution_count": 168,
   "outputs": [
    {
     "name": "stdout",
     "output_type": "stream",
     "text": [
      "tensor([[ 3.5540, 51.8322],\n",
      "        [ 0.5941, 16.5921]], grad_fn=<CatBackward0>)\n",
      "SimResult(z0=51.966864432492194, e_length=51.56354045282911, exec_time=0.001576300011947751)\n",
      "SimResult(z0=25.564457438711788, e_length=17.396382103352234, exec_time=0.001191000104881823)\n"
     ]
    }
   ],
   "source": [
    "# Example of predictions\n",
    "print(model(torch.tensor([[16,1000],[45.5,321]])))\n",
    "\n",
    "print(simulate_tline(16,1000))\n",
    "print(simulate_tline(45.5,321))\n",
    "\n",
    "\n"
   ],
   "metadata": {
    "collapsed": false,
    "ExecuteTime": {
     "end_time": "2023-10-06T01:21:12.927661600Z",
     "start_time": "2023-10-06T01:21:12.912659200Z"
    }
   },
   "id": "a9f0622a5d9ad2c6"
  },
  {
   "cell_type": "code",
   "execution_count": null,
   "outputs": [],
   "source": [
    "# Simbeor Cleanup\n",
    "simbeor.ReleaseLicense()\n",
    "simbeor.Cleanup()\n",
    "simbeor.Uninitialize()"
   ],
   "metadata": {
    "collapsed": false
   },
   "id": "3155673939dce1f9"
  }
 ],
 "metadata": {
  "kernelspec": {
   "display_name": "Python 3 (ipykernel)",
   "language": "python",
   "name": "python3"
  },
  "language_info": {
   "codemirror_mode": {
    "name": "ipython",
    "version": 3
   },
   "file_extension": ".py",
   "mimetype": "text/x-python",
   "name": "python",
   "nbconvert_exporter": "python",
   "pygments_lexer": "ipython3",
   "version": "3.10.13"
  }
 },
 "nbformat": 4,
 "nbformat_minor": 5
}
