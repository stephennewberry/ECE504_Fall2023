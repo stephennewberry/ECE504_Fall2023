{
 "cells": [
  {
   "cell_type": "markdown",
   "id": "92b91b43023157f3",
   "metadata": {},
   "source": [
    "# ECE504 Project 1\n",
    "Stephen Newberry"
   ]
  },
  {
   "cell_type": "code",
   "execution_count": 1,
   "outputs": [
    {
     "name": "stdout",
     "output_type": "stream",
     "text": [
      "Stephen Newberry - Project 1 - ECE504 - Fall 2023\n",
      "Running Python 3.10.13 | packaged by Anaconda, Inc. | (main, Sep 11 2023, 13:24:38) [MSC v.1916 64 bit (AMD64)]\n"
     ]
    }
   ],
   "source": [
    "import sys\n",
    "import logging\n",
    "from timeit import default_timer as timer\n",
    "from typing import NamedTuple\n",
    "import numpy as np\n",
    "import datetime\n",
    "\n",
    "# First line, make sure Python is set up/runs\n",
    "print(\"Stephen Newberry - Project 1 - ECE504 - Fall 2023\")\n",
    "print(f\"Running Python {sys.version}\")\n",
    "\n",
    "logging.basicConfig(format='[%(levelname)s] %(message)s',\n",
    "                    datefmt='%d/%m/%Y %I:%M:%S %p', level=logging.INFO)"
   ],
   "metadata": {
    "collapsed": false,
    "ExecuteTime": {
     "end_time": "2023-10-16T00:42:19.821247900Z",
     "start_time": "2023-10-16T00:42:19.611248300Z"
    }
   },
   "id": "initial_id"
  },
  {
   "cell_type": "code",
   "execution_count": 2,
   "id": "9a81c1dd64d1158e",
   "metadata": {
    "ExecuteTime": {
     "end_time": "2023-10-16T00:42:22.029532500Z",
     "start_time": "2023-10-16T00:42:19.824247500Z"
    }
   },
   "outputs": [],
   "source": [
    "# Import Simbeor for Field Solver\n",
    "sys.path.append(\"C:/Users/steph/Documents/Education/CLASS06_2023F_ECE504/projects/project1/code\")\n",
    "from simbeor_sdk import simbeor\n",
    "if not simbeor.Initialize():\n",
    "    logging.warning(\"Error initializing Simbeor\")\n",
    "\n",
    "if not simbeor.SetLicense(\n",
    "        'C:\\\\Users\\\\steph\\\\Documents\\\\ShieldDigitalDesign\\\\Software\\\\Licenses', 'simbeor_verify'):\n",
    "    logging.warning(\"Error setting Simbeor license\")\n"
   ]
  },
  {
   "cell_type": "markdown",
   "source": [
    "## Substrate Design\n",
    "\n",
    "The substrate will be a standard, uncoated microstrip. The metal will be 1.2mil thick (standard 1oz Cu after processing). Conductivity will use the ideal value of 5.8E+06 S/m for copper. \n",
    "The dielectric will be modeled after Isola FR408HR, which is a standard dielectric used for low- to medium-speed digital PCB applications.\n",
    "https://www.isola-group.com/pcb-laminates-prepreg/fr408hr-laminate-and-prepreg/\n",
    "We will use the dielectric values from an 8mil, 2x3313 weave, 55% resin content, core material. It has a Dk/Df of 3.68/0.0087 at 1 GHz.\n",
    "\n",
    "Copper roughness will not be modeled, nor will trace etch-back (rectangular cross-section)."
   ],
   "metadata": {
    "collapsed": false
   },
   "id": "d81eb2f925b5912d"
  },
  {
   "cell_type": "code",
   "execution_count": 3,
   "outputs": [],
   "source": [
    "# Configure substrate\n",
    "cu_thickness = 1.2 #mils\n",
    "diel_thickness = 8.0 #mils\n",
    "dk = 3.68\n",
    "df = 0.0087\n",
    "cu_cond = 5.80046403712e7 #S/m\n",
    "\n",
    "# NOTE: Ignoring roughness\n",
    "\n",
    "simbeor.ProjectDelete(\"TLINE\")  # In case it exists, delete\n",
    "model_name = \"tline_model\"\n",
    "prj = simbeor.ProjectCreate(\"TLINE\", True, True, 25.0)\n",
    "if (prj == 0):\n",
    "    logging.error(\"Project exists, delete project first\")\n",
    "\n",
    "# Configure frequency sweep\n",
    "freq_sweep = simbeor.InitFrequencySweep()\n",
    "freq_sweep['SweepType'] = 'Tabulated'\n",
    "freq_sweep['Start'] = 1 # GHz\n",
    "freq_sweep['Stop'] = 1 # GHz\n",
    "\n",
    "# Add materials to project\n",
    "# Air\n",
    "air = simbeor.MaterialAddDielectric(\"TLINE\\\\Air\", 1.0, 0.0, 1e9, 0, 1e4, 1e12)\n",
    "if (air == 0):\n",
    "    logging.error(\"Error creating air\")\n",
    "# Conductor\n",
    "rel_res = (1/cu_cond)/1.724e-8\n",
    "cond = simbeor.MaterialAddConductor(\"TLINE\\\\Copper\", rel_res, 0, 0.004)\n",
    "if (cond == 0):\n",
    "    logging.error(\"Error creating conductor\")\n",
    "# Dielectric\n",
    "diel = simbeor.MaterialAddDielectric(\n",
    "    \"TLINE\\\\Dielectric\", dk, df, 1e9, 0, 1e4, 1e12)\n",
    "if (diel == 0):\n",
    "    logging.error(\"Error creating dielectric\")\n",
    "\n",
    "# Create Stackup (top to bottom)\n",
    "layer1 = simbeor.LayerAddSignal(\"TLINE\\\\L1\", \"Copper\", \"Air\", simbeor.mil_to_m(cu_thickness))\n",
    "if (layer1 == 0):\n",
    "    logging.error(\"Error creating stackup Layer 1\")\n",
    "diel1 = simbeor.LayerAddMedium(\"TLINE\\\\DIEL\", \"Dielectric\", simbeor.mil_to_m(diel_thickness))\n",
    "if (diel1 == 0):\n",
    "    logging.error(\"Error creating stackup dielectric\")\n",
    "layer2 = simbeor.LayerAddCover(\"TLINE\\\\L2\", \"Copper\", simbeor.mil_to_m(0.1))\n"
   ],
   "metadata": {
    "collapsed": false,
    "ExecuteTime": {
     "end_time": "2023-10-16T00:42:25.820095400Z",
     "start_time": "2023-10-16T00:42:25.801146700Z"
    }
   },
   "id": "6e3e142bd2071c5e"
  },
  {
   "cell_type": "code",
   "execution_count": 4,
   "outputs": [],
   "source": [
    "# Set up a Named Tuple as output\n",
    "class SimResult(NamedTuple):\n",
    "    z0: float # Ohms\n",
    "    e_length: float # Degrees\n",
    "    exec_time: float # Seconds\n",
    "\n",
    "# Define field-solver simulation\n",
    "def simulate_tline(width, length) -> SimResult:\n",
    "    \"\"\"Takes input geometry of t-line and returns tuple containing Z0 (Ohms) and electrical length (deg). \n",
    "    Also returns execution time in seconds\n",
    "\n",
    "    :param width: trace width of the input line in mils \n",
    "    :param length: length of the transmission line in mils\n",
    "    \"\"\"\n",
    "    # T-Line\n",
    "    tline = simbeor.InitSingleTLine()\n",
    "    tline['Width'] = simbeor.mil_to_m(width)\n",
    "    tline['StripShape'] = \"Rectangular\"\n",
    "    tline['EtchFactor'] = 0  # No etch factor\n",
    "    tline['Clearance'] = 0.0  # Set to zero for no coplanar ground\n",
    "    tline['LayerName'] = \"L1\"\n",
    "    tline['BottomRefLayer'] = \"L2\"\n",
    "\n",
    "    simbeor.ModelDelete(model_name) # In case it exists\n",
    "    # Also, would like to time this specific function and record it\n",
    "    ##### MAIN SIMBEOR FUNCTION ######\n",
    "    start_time = timer()\n",
    "    results = simbeor.ModelSingleTLine_SFS(model_name, tline, freq_sweep, 0)\n",
    "    end_time = timer()\n",
    "    #logging.info(f\"Simbeor function elapsed time: {end_time-start_time} seconds\")\n",
    "    ##################################\n",
    "    \n",
    "    exec_time = end_time - start_time\n",
    "    \n",
    "    z0 = simbeor.GetCharacteristicImpedances(model_name, 50, 1)[0]\n",
    "    \n",
    "    # 1 radian/meter is 0.001455 deg per mil\n",
    "\n",
    "    e_length_rad_per_meter = simbeor.GetPropagationConstants(model_name, \"PhaseConstant\",1)[0]\n",
    "    e_length = e_length_rad_per_meter * 0.001455 * length\n",
    "    \n",
    "    sim_result = SimResult(\n",
    "        z0=z0,\n",
    "        e_length=e_length,\n",
    "        exec_time=exec_time\n",
    "    )\n",
    "    # logging.info(f\"For inputs {width}, {length}\\nResult: {sim_result}\\n\")\n",
    "    return sim_result\n"
   ],
   "metadata": {
    "collapsed": false,
    "ExecuteTime": {
     "end_time": "2023-10-16T00:42:27.338325800Z",
     "start_time": "2023-10-16T00:42:27.307336600Z"
    }
   },
   "id": "db0663a205b38150"
  },
  {
   "cell_type": "code",
   "execution_count": 5,
   "outputs": [
    {
     "data": {
      "text/plain": "SimResult(z0=51.22717033249684, e_length=508.4024955171149, exec_time=0.001296199974603951)"
     },
     "execution_count": 5,
     "metadata": {},
     "output_type": "execute_result"
    }
   ],
   "source": [
    "# Example\n",
    "simulate_tline(width=16, length=10000)"
   ],
   "metadata": {
    "collapsed": false,
    "ExecuteTime": {
     "end_time": "2023-10-16T00:42:30.615291100Z",
     "start_time": "2023-10-16T00:42:30.556259600Z"
    }
   },
   "id": "96b20517617edcbb"
  },
  {
   "cell_type": "markdown",
   "source": [
    "## Training Data\n",
    "Training data will be a Pandas dataframe. Each row is an instance. It will have the following columns:\n",
    "\n",
    "* Trace width, mils (input)\n",
    "* Trace length, mils (input)\n",
    "* Z0 at 1 GHz, ohms (output)\n",
    "* Electrical length at 1 GHz, degrees (output)\n",
    "* Execution time\n",
    "\n",
    "A typical microwave trace will be anywhere from 4mil upwards of 25mil or so on a PCB, but since we're fixing our substrate at 8mil thickness, that means we'd want to center on ~16mil for a 50ohm line. For length, we'll use 6\" as a mean with a Rayleigh distribution.\n",
    "\n",
    "Actually.... this distribution kinda sucks. Uniform for now...\n",
    "wait, lognormal!\n"
   ],
   "metadata": {
    "collapsed": false
   },
   "id": "635f3a9350c2101e"
  },
  {
   "cell_type": "code",
   "execution_count": 6,
   "outputs": [
    {
     "name": "stderr",
     "output_type": "stream",
     "text": [
      "[INFO] Note: NumExpr detected 32 cores but \"NUMEXPR_MAX_THREADS\" not set, so enforcing safe limit of 8.\n",
      "[INFO] NumExpr defaulting to 8 threads.\n"
     ]
    }
   ],
   "source": [
    "import pandas as pd\n",
    "\n",
    "# Next, we need to generate the training data\n",
    "generate_new_training_data = False\n",
    "num_training_points = 1000000\n",
    "num_validation_points = int(np.floor(.2 * num_training_points))\n",
    "num_test_points = int(np.floor(0.2 * num_training_points))\n",
    "\n",
    "if generate_new_training_data:\n",
    "    timestamp = datetime.datetime.now()\n",
    "    timestamp_str = f\"{timestamp.year}_{timestamp.month}_{timestamp.day}_{timestamp.time().hour}{timestamp.time().minute}{timestamp.time().second}\"\n",
    "    print(f\"Generating data as of {timestamp}\")\n",
    "    \n",
    "    if generate_new_training_data:\n",
    "        # Create blank CSV\n",
    "        fields = ['width', 'length', 'z0', 'e_length', 'exec_time']\n",
    "    \n",
    "        # Min/Max ranges\n",
    "        trace_width_min = 0.1 # mil\n",
    "        trace_width_max = 500.0\n",
    "        trace_width_mean = 16.0\n",
    "        trace_length_min = 1 # mil\n",
    "        trace_length_max = 100000 # 100 inches\n",
    "        trace_length_mean = 6000\n",
    "        \n",
    "        # Lognormal settings\n",
    "        sigma = 0.75\n",
    "    \n",
    "        train = pd.DataFrame(columns=fields)\n",
    "        for i in range(num_training_points):\n",
    "            width = np.random.lognormal(sigma=sigma, mean=np.log(trace_width_mean))\n",
    "            length = np.random.lognormal(sigma=sigma, mean=np.log(trace_length_mean))\n",
    "            \n",
    "            sim_result = simulate_tline(width,length)\n",
    "            \n",
    "            # Assign the result values\n",
    "            z0 = sim_result.z0\n",
    "            e_length = sim_result.e_length\n",
    "            exec_time = sim_result.exec_time\n",
    "            \n",
    "            new_row = pd.DataFrame([[width, length, z0, e_length, exec_time]], columns=fields)\n",
    "            \n",
    "            train = pd.concat([train, new_row], ignore_index=True)\n",
    "        train.to_csv(f'./training_data/{timestamp_str}_train.csv')\n",
    "    \n",
    "        # Probably should have this be some kind of function. Later :)\n",
    "        val = pd.DataFrame(columns=fields)\n",
    "        for i in range(num_validation_points):\n",
    "            width = np.random.lognormal(sigma=sigma, mean=np.log(trace_width_mean))\n",
    "            length = np.random.lognormal(sigma=sigma, mean=np.log(trace_length_mean))\n",
    "        \n",
    "            sim_result = simulate_tline(width,length)\n",
    "        \n",
    "            # Assign the result values\n",
    "            z0 = sim_result.z0\n",
    "            e_length = sim_result.e_length\n",
    "            exec_time = sim_result.exec_time\n",
    "\n",
    "            new_row = pd.DataFrame([[width, length, z0, e_length, exec_time]], columns=fields)\n",
    "\n",
    "            val = pd.concat([val, new_row], ignore_index=True)\n",
    "        val.to_csv(f'./training_data/{timestamp_str}_val.csv')\n",
    "\n",
    "        test = pd.DataFrame(columns=fields)\n",
    "        for i in range(num_test_points):\n",
    "            width = np.random.lognormal(sigma=sigma, mean=np.log(trace_width_mean))\n",
    "            length = np.random.lognormal(sigma=sigma, mean=np.log(trace_length_mean))\n",
    "        \n",
    "            sim_result = simulate_tline(width,length)\n",
    "        \n",
    "            # Assign the result values\n",
    "            z0 = sim_result.z0\n",
    "            e_length = sim_result.e_length\n",
    "            exec_time = sim_result.exec_time\n",
    "\n",
    "            new_row = pd.DataFrame([[width, length, z0, e_length, exec_time]], columns=fields)\n",
    "\n",
    "            test = pd.concat([test, new_row], ignore_index=True)\n",
    "        test.to_csv(f'./training_data/{timestamp_str}_test.csv')\n",
    "    \n",
    "    \n",
    "# Took 2.25hrs to train 1M points"
   ],
   "metadata": {
    "collapsed": false,
    "ExecuteTime": {
     "end_time": "2023-10-16T00:42:38.271542100Z",
     "start_time": "2023-10-16T00:42:37.900383800Z"
    }
   },
   "id": "25b4e85900614d27"
  },
  {
   "cell_type": "code",
   "execution_count": 7,
   "outputs": [],
   "source": [
    "# Move data around into various tensors\n",
    "import torch\n",
    "\n",
    "timestamp_str = \"2023_10_2_212631\"\n",
    "\n",
    "if timestamp_str is None:\n",
    "    timestamp_str = \"2023_10_2_212631\"\n",
    "\n",
    "# Re-read to dataframes\n",
    "training_data_df = pd.read_csv(f'./training_data/{timestamp_str}_train.csv')\n",
    "val_data_df = pd.read_csv(f'./training_data/{timestamp_str}_val.csv')\n",
    "test_data_df = pd.read_csv(f'./training_data/{timestamp_str}_test.csv')\n",
    "\n",
    "# Friendly data format\n",
    "training_input = []\n",
    "for i in range(len(training_data_df.index)):\n",
    "    training_input.append([training_data_df['width'].iloc[i], training_data_df['length'].iloc[i]])\n",
    "training_input_t = torch.tensor(training_input)\n",
    "\n",
    "training_output = []\n",
    "training_output_z0 = []\n",
    "training_output_el = []\n",
    "for i in range(len(training_data_df.index)):\n",
    "    training_output.append([training_data_df['z0'].iloc[i], training_data_df['e_length'].iloc[i]])\n",
    "    training_output_z0.append([training_data_df['z0'].iloc[i]])\n",
    "    training_output_el.append([training_data_df['e_length'].iloc[i]])\n",
    "training_output_t = torch.tensor(training_output)\n",
    "training_output_z0_t = torch.tensor(training_output_z0)\n",
    "training_output_el_t = torch.tensor(training_output_el)\n",
    "\n",
    "val_input = []\n",
    "for i in range(len(val_data_df.index)):\n",
    "    val_input.append([val_data_df['width'].iloc[i], val_data_df['length'].iloc[i]])\n",
    "val_input_t = torch.tensor(val_input)\n",
    "\n",
    "val_output = []\n",
    "val_output_z0 = []\n",
    "val_output_el = []\n",
    "for i in range(len(val_data_df.index)):\n",
    "    val_output.append([val_data_df['z0'].iloc[i], val_data_df['e_length'].iloc[i]])\n",
    "    val_output_z0.append([val_data_df['z0'].iloc[i]])\n",
    "    val_output_el.append([val_data_df['e_length'].iloc[i]])\n",
    "val_output_t = torch.tensor(val_output)\n",
    "val_output_z0_t = torch.tensor(val_output_z0)\n",
    "val_output_el_t = torch.tensor(val_output_el)\n",
    "\n",
    "test_input = []\n",
    "for i in range(len(test_data_df.index)):\n",
    "    test_input.append([test_data_df['width'].iloc[i], test_data_df['length'].iloc[i]])\n",
    "test_input_t = torch.tensor(test_input)\n",
    "\n",
    "test_output = []\n",
    "test_output_z0 = []\n",
    "test_output_el = []\n",
    "for i in range(len(test_data_df.index)):\n",
    "    test_output.append([test_data_df['z0'].iloc[i], test_data_df['e_length'].iloc[i]])\n",
    "    test_output_z0.append([test_data_df['z0'].iloc[i]])\n",
    "    test_output_el.append([test_data_df['e_length'].iloc[i]])\n",
    "test_output_t = torch.tensor(test_output)\n",
    "test_output_z0_t = torch.tensor(test_output_z0)\n",
    "test_output_el_t = torch.tensor(test_output_el)"
   ],
   "metadata": {
    "collapsed": false,
    "ExecuteTime": {
     "end_time": "2023-10-16T00:45:56.400348700Z",
     "start_time": "2023-10-16T00:44:23.199397500Z"
    }
   },
   "id": "c0e5ce9ac35d8c12"
  },
  {
   "cell_type": "code",
   "execution_count": 8,
   "outputs": [
    {
     "name": "stdout",
     "output_type": "stream",
     "text": [
      "Execution Time Average: 0.9819635386760346 ms per point\n",
      "Fastest Execution: 0.8709999965503 ms\n",
      "Slowest Execution: 4.7723000170663 ms\n",
      "Median Execution: 0.9781999979168001 ms\n",
      "\n",
      "Min/Median/Max Width: 0.357/15.977/499.219\n",
      "\n",
      "Min/Median/Max Length: 135.848/5998.074/190691.811\n"
     ]
    },
    {
     "data": {
      "text/plain": "<Figure size 640x480 with 2 Axes>",
      "image/png": "[encoded data removed]"
     },
     "metadata": {},
     "output_type": "display_data"
    }
   ],
   "source": [
    "# Plot training data distribution\n",
    "hist=training_data_df.hist(bins=100, column=['width', 'length'], log=True)\n",
    "print(f\"Execution Time Average: {sum(training_data_df['exec_time'])*1000/1000000} ms per point\")\n",
    "print(f\"Fastest Execution: {min(training_data_df['exec_time']*1000)} ms\")\n",
    "print(f\"Slowest Execution: {max(training_data_df['exec_time']*1000)} ms\")\n",
    "print(f\"Median Execution: {np.median(training_data_df['exec_time']*1000)} ms\")\n",
    "print(\"\\n\")\n",
    "print(f\"Min/Median/Max Width: {min(training_data_df['width']):.3f}/{np.median(training_data_df['width']):.3f}/{max(training_data_df['width']):.3f}\\n\")\n",
    "print(f\"Min/Median/Max Length: {min(training_data_df['length']):.3f}/{np.median(training_data_df['length']):.3f}/{max(training_data_df['length']):.3f}\")\n",
    "\n"
   ],
   "metadata": {
    "collapsed": false,
    "ExecuteTime": {
     "end_time": "2023-10-16T00:51:29.840851800Z",
     "start_time": "2023-10-16T00:51:27.401401900Z"
    }
   },
   "id": "428712c4e26ad8a3"
  },
  {
   "cell_type": "code",
   "execution_count": 10,
   "outputs": [],
   "source": [
    "import torch\n",
    "import torch.nn as nn"
   ],
   "metadata": {
    "collapsed": false,
    "ExecuteTime": {
     "end_time": "2023-10-16T00:52:59.275531Z",
     "start_time": "2023-10-16T00:52:59.244396900Z"
    }
   },
   "id": "af0c30ab116d9b8"
  },
  {
   "cell_type": "code",
   "execution_count": 11,
   "outputs": [],
   "source": [
    "# Create a scaler for sequential model\n",
    "\n",
    "class MinMaxScalerLayer(nn.Module):\n",
    "    def __init__(self, input_size):\n",
    "        super(MinMaxScalerLayer, self).__init__()\n",
    "        self.register_buffer('min_vals', torch.zeros(input_size))\n",
    "        self.register_buffer('max_vals', torch.ones(input_size))\n",
    "\n",
    "    def forward(self, x):\n",
    "        # Scale the input to the range [0, 1]\n",
    "        scaled_x = (x - self.min_vals) / (self.max_vals - self.min_vals)\n",
    "        return scaled_x\n",
    "\n",
    "    def inverse_scale(self, scaled_x):\n",
    "        # Inverse scale the input to the original range\n",
    "        return scaled_x * (self.max_vals - self.min_vals) + self.min_vals\n"
   ],
   "metadata": {
    "collapsed": false,
    "ExecuteTime": {
     "end_time": "2023-10-16T00:52:59.894533100Z",
     "start_time": "2023-10-16T00:52:59.862533500Z"
    }
   },
   "id": "fb35d900202b73e8"
  },
  {
   "cell_type": "code",
   "execution_count": 93,
   "outputs": [],
   "source": [
    "# Create my model\n",
    "\n",
    "class TlineModel(nn.Module):\n",
    "    def __init__(self):\n",
    "        super(TlineModel, self).__init__()\n",
    "        self.model = nn.Sequential(\n",
    "            MinMaxScalerLayer(2),\n",
    "            nn.Linear(2, 224),\n",
    "            nn.ReLU(),\n",
    "            nn.Linear(224, 64),\n",
    "            nn.ReLU(),\n",
    "            nn.Linear(64, 64),\n",
    "            nn.Linear(64, 320),\n",
    "            nn.ReLU(),\n",
    "            nn.Linear(320, 2),\n",
    "            nn.Softplus()\n",
    "        )\n",
    "\n",
    "    def forward(self, x):\n",
    "        return self.model(x)"
   ],
   "metadata": {
    "collapsed": false,
    "ExecuteTime": {
     "end_time": "2023-10-16T01:54:27.354055200Z",
     "start_time": "2023-10-16T01:54:27.342056200Z"
    }
   },
   "id": "2097f6c2000a9f48"
  },
  {
   "cell_type": "code",
   "execution_count": 83,
   "outputs": [],
   "source": [
    "# # Create my model\n",
    "# # THIS ONE IS WORKING, IDK WHY!\n",
    "# \n",
    "# class TlineModel(nn.Module):\n",
    "#     def __init__(self):\n",
    "#         super(TlineModel, self).__init__()\n",
    "#         self.model = nn.Sequential(\n",
    "#             MinMaxScalerLayer(2),\n",
    "#             nn.Linear(2, 512),\n",
    "#             nn.ReLU(),\n",
    "#             nn.Linear(512, 64),\n",
    "#             nn.ReLU(),\n",
    "#             nn.Linear(64, 320),\n",
    "#             nn.ReLU(),\n",
    "#             nn.Linear(320, 224),\n",
    "#             nn.ReLU(),\n",
    "#             nn.Linear(224, 448),\n",
    "#             nn.ReLU(),\n",
    "#             nn.Linear(448, 2)\n",
    "#             # nn.ReLU()\n",
    "#         )\n",
    "# \n",
    "#     def forward(self, x):\n",
    "#         return self.model(x)"
   ],
   "metadata": {
    "collapsed": false,
    "ExecuteTime": {
     "end_time": "2023-10-16T01:47:44.726303600Z",
     "start_time": "2023-10-16T01:47:44.691515600Z"
    }
   },
   "id": "89f5d5304b6032c"
  },
  {
   "cell_type": "code",
   "execution_count": 94,
   "outputs": [],
   "source": [
    "train_new_model = True\n",
    "model=None\n"
   ],
   "metadata": {
    "collapsed": false,
    "ExecuteTime": {
     "end_time": "2023-10-16T01:54:29.078085Z",
     "start_time": "2023-10-16T01:54:29.042067700Z"
    }
   },
   "id": "e0f762dfdf404312"
  },
  {
   "cell_type": "code",
   "execution_count": 95,
   "outputs": [
    {
     "name": "stdout",
     "output_type": "stream",
     "text": [
      "Using device: cuda\n",
      "Epoch [1/100], Training Loss: 554.2968, Validation Loss: 552.5583\n",
      "Epoch [2/100], Training Loss: 87.0977, Validation Loss: 86.6193\n",
      "Epoch [3/100], Training Loss: 8.5632, Validation Loss: 11.3495\n",
      "Epoch [4/100], Training Loss: 5.8620, Validation Loss: 8.2459\n",
      "Epoch [5/100], Training Loss: 5.8652, Validation Loss: 6.9067\n",
      "Epoch [6/100], Training Loss: 4.9993, Validation Loss: 6.8018\n",
      "Epoch [7/100], Training Loss: 5.0623, Validation Loss: 6.6669\n",
      "Epoch [8/100], Training Loss: 4.2997, Validation Loss: 6.3420\n",
      "Epoch [9/100], Training Loss: 4.2356, Validation Loss: 6.1535\n",
      "Epoch [10/100], Training Loss: 4.0576, Validation Loss: 5.9869\n",
      "Epoch [11/100], Training Loss: 3.9585, Validation Loss: 5.9335\n",
      "Epoch [12/100], Training Loss: 3.8959, Validation Loss: 5.9021\n",
      "Epoch [13/100], Training Loss: 5.0691, Validation Loss: 5.8909\n",
      "Epoch [14/100], Training Loss: 4.1204, Validation Loss: 5.7692\n",
      "Epoch [15/100], Training Loss: 3.8531, Validation Loss: 5.7761\n",
      "Epoch [16/100], Training Loss: 5.3526, Validation Loss: 5.7504\n",
      "Epoch [17/100], Training Loss: 4.7681, Validation Loss: 5.7810\n",
      "Epoch [18/100], Training Loss: 4.8126, Validation Loss: 5.6375\n",
      "Epoch [19/100], Training Loss: 3.9364, Validation Loss: 5.6636\n",
      "Epoch [20/100], Training Loss: 3.8477, Validation Loss: 5.6447\n",
      "Epoch [21/100], Training Loss: 3.8469, Validation Loss: 5.7138\n",
      "Epoch [22/100], Training Loss: 3.6531, Validation Loss: 5.6139\n",
      "Epoch [23/100], Training Loss: 4.0258, Validation Loss: 5.6437\n",
      "Epoch [24/100], Training Loss: 5.4252, Validation Loss: 5.5637\n",
      "Epoch [25/100], Training Loss: 3.7208, Validation Loss: 5.6427\n",
      "Epoch [26/100], Training Loss: 4.1657, Validation Loss: 5.5585\n",
      "Epoch [27/100], Training Loss: 3.8491, Validation Loss: 5.5423\n",
      "Epoch [28/100], Training Loss: 3.9750, Validation Loss: 5.4448\n",
      "Epoch [29/100], Training Loss: 4.2197, Validation Loss: 5.4923\n",
      "Epoch [30/100], Training Loss: 3.7961, Validation Loss: 5.4666\n",
      "Epoch [31/100], Training Loss: 4.4290, Validation Loss: 5.4685\n",
      "Epoch [32/100], Training Loss: 3.7059, Validation Loss: 5.4488\n",
      "Epoch [33/100], Training Loss: 4.3619, Validation Loss: 5.4204\n",
      "Epoch [34/100], Training Loss: 3.6752, Validation Loss: 5.4470\n",
      "Epoch [35/100], Training Loss: 4.2976, Validation Loss: 5.4009\n",
      "Epoch [36/100], Training Loss: 3.7605, Validation Loss: 5.3015\n",
      "Epoch [37/100], Training Loss: 4.0285, Validation Loss: 5.2501\n",
      "Epoch [38/100], Training Loss: 3.7422, Validation Loss: 5.4235\n",
      "Epoch [39/100], Training Loss: 3.8635, Validation Loss: 5.1157\n",
      "Epoch [40/100], Training Loss: 3.5800, Validation Loss: 4.9971\n",
      "Epoch [41/100], Training Loss: 3.2529, Validation Loss: 4.9950\n",
      "Epoch [42/100], Training Loss: 3.8628, Validation Loss: 4.9709\n",
      "Epoch [43/100], Training Loss: 3.6105, Validation Loss: 4.9562\n",
      "Epoch [44/100], Training Loss: 5.6678, Validation Loss: 4.9025\n",
      "Epoch [45/100], Training Loss: 3.4471, Validation Loss: 4.8682\n",
      "Epoch [46/100], Training Loss: 3.5981, Validation Loss: 4.8181\n",
      "Epoch [47/100], Training Loss: 3.6105, Validation Loss: 4.8433\n",
      "Epoch [48/100], Training Loss: 3.5766, Validation Loss: 4.7875\n",
      "Epoch [49/100], Training Loss: 3.2600, Validation Loss: 4.8845\n",
      "Epoch [50/100], Training Loss: 3.5532, Validation Loss: 4.7936\n",
      "Epoch [51/100], Training Loss: 3.4170, Validation Loss: 4.8023\n",
      "Epoch [52/100], Training Loss: 3.2406, Validation Loss: 4.7273\n",
      "Epoch [53/100], Training Loss: 3.5624, Validation Loss: 4.6847\n",
      "Epoch [54/100], Training Loss: 4.4807, Validation Loss: 4.6685\n",
      "Epoch [55/100], Training Loss: 3.3458, Validation Loss: 4.6918\n",
      "Epoch [56/100], Training Loss: 4.6951, Validation Loss: 4.6327\n",
      "Epoch [57/100], Training Loss: 3.3762, Validation Loss: 4.6317\n",
      "Epoch [58/100], Training Loss: 3.5436, Validation Loss: 4.5501\n",
      "Epoch [59/100], Training Loss: 3.3272, Validation Loss: 4.6598\n",
      "Epoch [60/100], Training Loss: 3.4630, Validation Loss: 4.7273\n",
      "Epoch [61/100], Training Loss: 3.8646, Validation Loss: 4.6556\n",
      "Epoch [62/100], Training Loss: 3.1858, Validation Loss: 4.7164\n",
      "Epoch [63/100], Training Loss: 3.5496, Validation Loss: 4.6041\n",
      "Epoch [64/100], Training Loss: 3.2672, Validation Loss: 4.5086\n",
      "Epoch [65/100], Training Loss: 3.1814, Validation Loss: 4.5716\n",
      "Epoch [66/100], Training Loss: 3.3117, Validation Loss: 4.5029\n",
      "Epoch [67/100], Training Loss: 4.3496, Validation Loss: 4.5141\n",
      "Epoch [68/100], Training Loss: 3.1364, Validation Loss: 4.5588\n",
      "Epoch [69/100], Training Loss: 3.6905, Validation Loss: 4.4378\n",
      "Epoch [70/100], Training Loss: 3.6540, Validation Loss: 4.4828\n",
      "Epoch [71/100], Training Loss: 3.1383, Validation Loss: 4.5122\n",
      "Epoch [72/100], Training Loss: 4.2203, Validation Loss: 4.5378\n",
      "Epoch [73/100], Training Loss: 3.3602, Validation Loss: 4.6427\n",
      "Epoch [74/100], Training Loss: 3.2934, Validation Loss: 4.5114\n",
      "Epoch [75/100], Training Loss: 3.1519, Validation Loss: 4.4657\n",
      "Epoch [76/100], Training Loss: 3.2968, Validation Loss: 4.5176\n",
      "Epoch [77/100], Training Loss: 3.2332, Validation Loss: 4.4507\n",
      "Epoch [78/100], Training Loss: 4.2317, Validation Loss: 4.4085\n",
      "Epoch [79/100], Training Loss: 3.6269, Validation Loss: 4.4293\n",
      "Epoch [80/100], Training Loss: 3.3016, Validation Loss: 4.4051\n",
      "Epoch [81/100], Training Loss: 3.9039, Validation Loss: 4.3933\n",
      "Epoch [82/100], Training Loss: 3.5675, Validation Loss: 4.4243\n",
      "Epoch [83/100], Training Loss: 3.0602, Validation Loss: 4.4883\n",
      "Epoch [84/100], Training Loss: 3.4653, Validation Loss: 4.4803\n",
      "Epoch [85/100], Training Loss: 3.5704, Validation Loss: 4.3686\n",
      "Epoch [86/100], Training Loss: 3.5312, Validation Loss: 4.3884\n",
      "Epoch [87/100], Training Loss: 3.8506, Validation Loss: 4.3973\n",
      "Epoch [88/100], Training Loss: 3.0117, Validation Loss: 4.4315\n",
      "Epoch [89/100], Training Loss: 3.4544, Validation Loss: 4.3708\n",
      "Epoch [90/100], Training Loss: 3.0870, Validation Loss: 4.3988\n",
      "Epoch [91/100], Training Loss: 3.9464, Validation Loss: 4.4691\n",
      "Epoch [92/100], Training Loss: 3.5764, Validation Loss: 4.3822\n",
      "Epoch [93/100], Training Loss: 3.2481, Validation Loss: 4.3998\n",
      "Epoch [94/100], Training Loss: 3.4099, Validation Loss: 4.3777\n",
      "Epoch [95/100], Training Loss: 3.6700, Validation Loss: 4.2581\n",
      "Epoch [96/100], Training Loss: 3.2688, Validation Loss: 4.2894\n",
      "Epoch [97/100], Training Loss: 3.0674, Validation Loss: 4.3086\n",
      "Epoch [98/100], Training Loss: 3.0508, Validation Loss: 4.2747\n",
      "Epoch [99/100], Training Loss: 3.1680, Validation Loss: 4.2831\n",
      "Epoch [100/100], Training Loss: 3.5964, Validation Loss: 4.2252\n"
     ]
    }
   ],
   "source": [
    "from torch.utils.data import DataLoader, TensorDataset\n",
    "torch.set_default_dtype(torch.float64)\n",
    "\n",
    "# Check for GPU availability\n",
    "device = torch.device(\"cuda\" if torch.cuda.is_available() else \"cpu\")\n",
    "print(f\"Using device: {device}\")\n",
    "\n",
    "if train_new_model:\n",
    "    model = None\n",
    "    model = TlineModel().to(device)\n",
    "\n",
    "    #Set batch size: \n",
    "    batch_size=10000\n",
    "\n",
    "    # Create datasets\n",
    "    training_dataset = TensorDataset(training_input_t.to(device), training_output_t.to(device))\n",
    "    val_dataset = TensorDataset(val_input_t.to(device), val_output_t.to(device))\n",
    "\n",
    "    training_data_loader = DataLoader(training_dataset, batch_size = batch_size, shuffle=True)\n",
    "    val_data_loader = DataLoader(val_dataset, batch_size=batch_size, shuffle=False)\n",
    "\n",
    "    # Define the loss function and optimizer\n",
    "    criterion = nn.MSELoss()  # Mean Squared Error Loss\n",
    "    optimizer = torch.optim.Rprop(model.parameters())\n",
    "\n",
    "    # Define weights for each output\n",
    "    weight_output_z0 = 0.75  # Adjust this weight based on importance\n",
    "    weight_output_el = 0.25  # Adjust this weight based on importance\n",
    "\n",
    "    # Train\n",
    "    losses = []\n",
    "    val_losses = []\n",
    "    epochs = 100\n",
    "    for epoch in range(epochs):\n",
    "        model.train()\n",
    "\n",
    "        for inputs, targets in training_data_loader:\n",
    "            inputs, targets = inputs.to(device), targets.to(device)\n",
    "            outputs = model(inputs)\n",
    "            # Weighted loss\n",
    "            loss = weight_output_z0 * criterion(outputs[:, 0], targets[:, 0]) + weight_output_el * criterion(outputs[:, 1], targets[:, 1])\n",
    "            losses.append(loss.item())\n",
    "            optimizer.zero_grad()\n",
    "            loss.backward()\n",
    "            optimizer.step()\n",
    "\n",
    "        # Validate\n",
    "        model.eval()\n",
    "        with torch.no_grad():\n",
    "            for val_inputs, val_targets in val_data_loader:\n",
    "                val_inputs, val_targets = val_inputs.to(device), val_targets.to(device)  # Move data to GPU\n",
    "                val_outputs = model(val_inputs)\n",
    "                # Weighted loss\n",
    "                val_loss = weight_output_z0 * criterion(val_outputs[:, 0], val_targets[:, 0]) + weight_output_el * criterion(val_outputs[:, 1], val_targets[:, 1])\n",
    "                val_losses.append(val_loss.item())\n",
    "\n",
    "        print(f'Epoch [{epoch+1}/{epochs}], Training Loss: {loss.item():.4f}, Validation Loss: {val_loss.item():.4f}')"
   ],
   "metadata": {
    "collapsed": false,
    "ExecuteTime": {
     "end_time": "2023-10-16T02:20:35.212458300Z",
     "start_time": "2023-10-16T01:54:30.354658700Z"
    }
   },
   "id": "e30efc10fcff9a35"
  },
  {
   "cell_type": "code",
   "execution_count": 96,
   "outputs": [
    {
     "name": "stdout",
     "output_type": "stream",
     "text": [
      "Predictions:\n",
      "tensor([[  56.0840,  750.8237],\n",
      "        [  95.4389,  272.7186],\n",
      "        [ 105.2665, 1008.1672],\n",
      "        ...,\n",
      "        [  52.7296,  116.4068],\n",
      "        [  75.0069,  785.3139],\n",
      "        [  36.2264,  693.7922]], device='cuda:0')\n",
      "tensor([[  53.2770,  751.5713],\n",
      "        [  98.3075,  272.8990],\n",
      "        [ 103.3895, 1009.8720],\n",
      "        ...,\n",
      "        [  53.8333,  117.4296],\n",
      "        [  80.1476,  787.7499],\n",
      "        [  37.5190,  693.7832]], device='cuda:0')\n"
     ]
    }
   ],
   "source": [
    "# Check real quick\n",
    "with torch.no_grad():\n",
    "    predictions = model(test_input_t.to(device)).to(device)\n",
    "    print(\"Predictions:\")\n",
    "    print(predictions)\n",
    "\n",
    "print(test_output_t.to(device))"
   ],
   "metadata": {
    "collapsed": false,
    "ExecuteTime": {
     "end_time": "2023-10-16T02:21:44.489075300Z",
     "start_time": "2023-10-16T02:21:43.564010300Z"
    }
   },
   "id": "a1e89104cba641f7"
  },
  {
   "cell_type": "code",
   "execution_count": 97,
   "outputs": [
    {
     "name": "stdout",
     "output_type": "stream",
     "text": [
      "Predict: (51.08770096865359, 1780.0081335558336)\n",
      "Simulate: (51.22717033249684, 1750.582312814082)\n"
     ]
    }
   ],
   "source": [
    "# Some Spot Predictions\n",
    "\n",
    "twidth = 16.\n",
    "tlength = 34433.\n",
    "\n",
    "check = torch.tensor([[twidth, tlength]]).to(device)\n",
    "# preds = model(test_input_t[0].to(device)).to(device)\n",
    "preds = model(check)\n",
    "pred_z0 = preds[0][0].item()\n",
    "pred_el= preds[0][1].item()\n",
    "\n",
    "sims = simulate_tline(twidth, tlength)\n",
    "\n",
    "print(f\"Predict: {pred_z0, pred_el}\")\n",
    "print(f\"Simulate: {sims.z0, sims.e_length}\")\n"
   ],
   "metadata": {
    "collapsed": false,
    "ExecuteTime": {
     "end_time": "2023-10-16T02:21:53.238548300Z",
     "start_time": "2023-10-16T02:21:53.222548900Z"
    }
   },
   "id": "73e464aaa77131f5"
  },
  {
   "cell_type": "code",
   "execution_count": 98,
   "outputs": [
    {
     "data": {
      "text/plain": "Text(0.5, 0, 'Ideal Z0 (Ohms)')"
     },
     "execution_count": 98,
     "metadata": {},
     "output_type": "execute_result"
    },
    {
     "data": {
      "text/plain": "<Figure size 640x480 with 1 Axes>",
      "image/png": "[encoded data removed]"
     },
     "metadata": {},
     "output_type": "display_data"
    }
   ],
   "source": [
    "from matplotlib import pyplot as plt\n",
    "# plt.scatter(test_data_df['width'],test_output_z0)\n",
    "\n",
    "plot_x = test_output_z0\n",
    "plot_y = predictions[:,0].cpu()\n",
    "plt.scatter(plot_x, plot_y)\n",
    "plt.plot([0,150],[0,150],'r')\n",
    "plt.title(\"Test Data: Z0 Predicted vs. Ideal\")\n",
    "plt.ylabel(\"Predicted Z0 (Ohms)\")\n",
    "plt.xlabel(\"Ideal Z0 (Ohms)\")"
   ],
   "metadata": {
    "collapsed": false,
    "ExecuteTime": {
     "end_time": "2023-10-16T02:22:04.358374Z",
     "start_time": "2023-10-16T02:21:59.637526400Z"
    }
   },
   "id": "fdfe2db3b3f969fd"
  },
  {
   "cell_type": "code",
   "execution_count": 99,
   "outputs": [
    {
     "data": {
      "text/plain": "Text(0.5, 0, 'Ideal Elec. Length (Degrees)')"
     },
     "execution_count": 99,
     "metadata": {},
     "output_type": "execute_result"
    },
    {
     "data": {
      "text/plain": "<Figure size 640x480 with 1 Axes>",
      "image/png": "[encoded data removed]"
     },
     "metadata": {},
     "output_type": "display_data"
    }
   ],
   "source": [
    "plot_x = test_output_el\n",
    "plot_y = predictions[:,1].cpu()\n",
    "plt.scatter(plot_x, plot_y)\n",
    "plt.plot([0,12000],[0,12000],'r')\n",
    "plt.title(\"Test Data: Elec. Length Predicted vs. Ideal\")\n",
    "plt.ylabel(\"Predicted Elec. Length (Degrees)\")\n",
    "plt.xlabel(\"Ideal Elec. Length (Degrees)\")"
   ],
   "metadata": {
    "collapsed": false,
    "ExecuteTime": {
     "end_time": "2023-10-16T02:24:12.865990600Z",
     "start_time": "2023-10-16T02:24:08.292650300Z"
    }
   },
   "id": "f3693cdfab8a0320"
  },
  {
   "cell_type": "code",
   "execution_count": 100,
   "outputs": [
    {
     "name": "stdout",
     "output_type": "stream",
     "text": [
      "Saving model as of 2023_10_2_212631\n"
     ]
    }
   ],
   "source": [
    "# Save Model\n",
    "timestamp = timestamp_str\n",
    "print(f\"Saving model as of {timestamp}\")\n",
    "\n",
    "torch.save(model, f\"./models_final/{timestamp_str}_analysis.pt\")\n"
   ],
   "metadata": {
    "collapsed": false,
    "ExecuteTime": {
     "end_time": "2023-10-16T02:26:33.614173400Z",
     "start_time": "2023-10-16T02:26:33.594232800Z"
    }
   },
   "id": "a524f84c80363685"
  },
  {
   "cell_type": "code",
   "execution_count": 121,
   "outputs": [
    {
     "name": "stdout",
     "output_type": "stream",
     "text": [
      "Analysis Benchmark\n",
      "Time to predict all: 0.0022859000018797815 seconds\n",
      "Number of Samples: 200000\n",
      "Time per Sample: 11.429500009398907 ns\n",
      "Sim Exec Time Sum: 936.4592156063969 us\n"
     ]
    }
   ],
   "source": [
    "# Check time to predict all values\n",
    "predictions = None\n",
    "start_time = timer()\n",
    "predictions = model(test_input_t.to(device)).to(device)\n",
    "end_time = timer()\n",
    "total_time = end_time-start_time\n",
    "time_per_predict = total_time/len(test_input_t)\n",
    "print(f\"Analysis Benchmark\")\n",
    "print(f\"Time to predict all: {total_time} seconds\")\n",
    "print(f\"Number of Samples: {len(test_input_t)}\")\n",
    "print(f\"Time per Sample: {time_per_predict*1e9} ns\")\n",
    "\n",
    "print(f\"Sim Exec Time Sum: {(test_data_df['exec_time'].sum()/len(test_data_df['exec_time']))*1e6} us\")"
   ],
   "metadata": {
    "collapsed": false,
    "ExecuteTime": {
     "end_time": "2023-10-16T02:33:34.541724300Z",
     "start_time": "2023-10-16T02:33:34.517722200Z"
    }
   },
   "id": "42afe7839a8e26e7"
  },
  {
   "cell_type": "markdown",
   "source": [
    "## Next, create synthesis model"
   ],
   "metadata": {
    "collapsed": false
   },
   "id": "2256987513f98559"
  },
  {
   "cell_type": "code",
   "execution_count": 155,
   "outputs": [
    {
     "name": "stdout",
     "output_type": "stream",
     "text": [
      "Using device: cuda\n",
      "Epoch [1/100], Training Loss: 4688.4019, Validation Loss: 5485.2436\n",
      "Epoch [2/100], Training Loss: 252.5581, Validation Loss: 506.2496\n",
      "Epoch [3/100], Training Loss: 224.7548, Validation Loss: 422.7733\n",
      "Epoch [4/100], Training Loss: 463.8479, Validation Loss: 381.4512\n",
      "Epoch [5/100], Training Loss: 216.0449, Validation Loss: 267.4866\n",
      "Epoch [6/100], Training Loss: 116.0875, Validation Loss: 182.1568\n",
      "Epoch [7/100], Training Loss: 151.8879, Validation Loss: 163.5951\n",
      "Epoch [8/100], Training Loss: 85.4522, Validation Loss: 158.0786\n",
      "Epoch [9/100], Training Loss: 249.4108, Validation Loss: 163.8419\n",
      "Epoch [10/100], Training Loss: 94.6319, Validation Loss: 157.0636\n",
      "Epoch [11/100], Training Loss: 105.1025, Validation Loss: 156.5633\n",
      "Epoch [12/100], Training Loss: 104.6767, Validation Loss: 143.1263\n",
      "Epoch [13/100], Training Loss: 245.3522, Validation Loss: 145.7801\n",
      "Epoch [14/100], Training Loss: 106.2146, Validation Loss: 137.7971\n",
      "Epoch [15/100], Training Loss: 202.7648, Validation Loss: 140.1369\n",
      "Epoch [16/100], Training Loss: 105.0170, Validation Loss: 138.2343\n",
      "Epoch [17/100], Training Loss: 356.0759, Validation Loss: 145.5958\n",
      "Epoch [18/100], Training Loss: 251.3132, Validation Loss: 145.6801\n",
      "Epoch [19/100], Training Loss: 104.2914, Validation Loss: 139.4050\n",
      "Epoch [20/100], Training Loss: 134.9801, Validation Loss: 137.6600\n",
      "Epoch [21/100], Training Loss: 114.3597, Validation Loss: 141.5431\n",
      "Epoch [22/100], Training Loss: 52.9300, Validation Loss: 133.8193\n",
      "Epoch [23/100], Training Loss: 112.7402, Validation Loss: 132.7676\n",
      "Epoch [24/100], Training Loss: 62.0016, Validation Loss: 131.5110\n",
      "Epoch [25/100], Training Loss: 75.9410, Validation Loss: 133.8242\n",
      "Epoch [26/100], Training Loss: 51.3235, Validation Loss: 129.9137\n",
      "Epoch [27/100], Training Loss: 93.9319, Validation Loss: 144.4342\n",
      "Epoch [28/100], Training Loss: 105.1063, Validation Loss: 133.1638\n",
      "Epoch [29/100], Training Loss: 100.2186, Validation Loss: 131.3871\n",
      "Epoch [30/100], Training Loss: 122.7724, Validation Loss: 127.3712\n",
      "Epoch [31/100], Training Loss: 72.3276, Validation Loss: 129.4890\n",
      "Epoch [32/100], Training Loss: 211.3188, Validation Loss: 126.5422\n",
      "Epoch [33/100], Training Loss: 57.1670, Validation Loss: 126.9448\n",
      "Epoch [34/100], Training Loss: 195.5878, Validation Loss: 142.3450\n",
      "Epoch [35/100], Training Loss: 143.4651, Validation Loss: 126.5494\n",
      "Epoch [36/100], Training Loss: 75.0676, Validation Loss: 128.2690\n",
      "Epoch [37/100], Training Loss: 59.4896, Validation Loss: 124.8741\n",
      "Epoch [38/100], Training Loss: 43.7024, Validation Loss: 123.3400\n",
      "Epoch [39/100], Training Loss: 54.7243, Validation Loss: 122.2874\n",
      "Epoch [40/100], Training Loss: 320.4811, Validation Loss: 125.6909\n",
      "Epoch [41/100], Training Loss: 94.0082, Validation Loss: 125.5375\n",
      "Epoch [42/100], Training Loss: 81.9730, Validation Loss: 121.6009\n",
      "Epoch [43/100], Training Loss: 130.5796, Validation Loss: 120.6089\n",
      "Epoch [44/100], Training Loss: 121.2785, Validation Loss: 121.6126\n",
      "Epoch [45/100], Training Loss: 45.3462, Validation Loss: 118.7438\n",
      "Epoch [46/100], Training Loss: 57.2881, Validation Loss: 117.8614\n",
      "Epoch [47/100], Training Loss: 65.1372, Validation Loss: 124.2524\n",
      "Epoch [48/100], Training Loss: 73.0347, Validation Loss: 116.0647\n",
      "Epoch [49/100], Training Loss: 49.3753, Validation Loss: 115.1257\n",
      "Epoch [50/100], Training Loss: 76.6937, Validation Loss: 114.3108\n",
      "Epoch [51/100], Training Loss: 46.1562, Validation Loss: 113.6252\n",
      "Epoch [52/100], Training Loss: 51.8861, Validation Loss: 111.6723\n",
      "Epoch [53/100], Training Loss: 54.8479, Validation Loss: 111.7274\n",
      "Epoch [54/100], Training Loss: 105.0665, Validation Loss: 113.6757\n",
      "Epoch [55/100], Training Loss: 272.8346, Validation Loss: 117.5495\n",
      "Epoch [56/100], Training Loss: 173.2798, Validation Loss: 111.1790\n",
      "Epoch [57/100], Training Loss: 234.9560, Validation Loss: 110.6919\n",
      "Epoch [58/100], Training Loss: 84.7179, Validation Loss: 111.5539\n",
      "Epoch [59/100], Training Loss: 43.9571, Validation Loss: 110.4821\n",
      "Epoch [60/100], Training Loss: 47.6822, Validation Loss: 109.7504\n",
      "Epoch [61/100], Training Loss: 73.4112, Validation Loss: 111.5239\n",
      "Epoch [62/100], Training Loss: 59.2156, Validation Loss: 107.4781\n",
      "Epoch [63/100], Training Loss: 121.4691, Validation Loss: 109.5545\n",
      "Epoch [64/100], Training Loss: 316.5885, Validation Loss: 110.4251\n",
      "Epoch [65/100], Training Loss: 70.3223, Validation Loss: 107.3275\n",
      "Epoch [66/100], Training Loss: 60.4412, Validation Loss: 119.4231\n",
      "Epoch [67/100], Training Loss: 90.7900, Validation Loss: 109.2251\n",
      "Epoch [68/100], Training Loss: 106.9056, Validation Loss: 108.4661\n",
      "Epoch [69/100], Training Loss: 104.8684, Validation Loss: 108.0795\n",
      "Epoch [70/100], Training Loss: 70.5835, Validation Loss: 112.9852\n",
      "Epoch [71/100], Training Loss: 153.0782, Validation Loss: 107.2174\n",
      "Epoch [72/100], Training Loss: 142.2733, Validation Loss: 108.0326\n",
      "Epoch [73/100], Training Loss: 40.2677, Validation Loss: 111.5588\n",
      "Epoch [74/100], Training Loss: 236.1269, Validation Loss: 111.5741\n",
      "Epoch [75/100], Training Loss: 232.1354, Validation Loss: 125.5034\n",
      "Epoch [76/100], Training Loss: 100.9946, Validation Loss: 112.5891\n",
      "Epoch [77/100], Training Loss: 96.9386, Validation Loss: 117.1523\n",
      "Epoch [78/100], Training Loss: 48.6104, Validation Loss: 108.5938\n",
      "Epoch [79/100], Training Loss: 69.5720, Validation Loss: 108.0681\n",
      "Epoch [80/100], Training Loss: 147.8900, Validation Loss: 107.3519\n",
      "Epoch [81/100], Training Loss: 93.3412, Validation Loss: 107.6939\n",
      "Epoch [82/100], Training Loss: 80.0419, Validation Loss: 106.0649\n",
      "Epoch [83/100], Training Loss: 40.9344, Validation Loss: 106.5748\n",
      "Epoch [84/100], Training Loss: 33.1753, Validation Loss: 109.8223\n",
      "Epoch [85/100], Training Loss: 62.9945, Validation Loss: 108.4389\n",
      "Epoch [86/100], Training Loss: 58.5701, Validation Loss: 106.5353\n",
      "Epoch [87/100], Training Loss: 80.6572, Validation Loss: 105.4037\n",
      "Epoch [88/100], Training Loss: 69.2501, Validation Loss: 107.0840\n",
      "Epoch [89/100], Training Loss: 75.4340, Validation Loss: 112.9457\n",
      "Epoch [90/100], Training Loss: 31.6199, Validation Loss: 105.6288\n",
      "Epoch [91/100], Training Loss: 100.0702, Validation Loss: 104.8955\n",
      "Epoch [92/100], Training Loss: 140.8350, Validation Loss: 111.7172\n",
      "Epoch [93/100], Training Loss: 91.9214, Validation Loss: 109.6725\n",
      "Epoch [94/100], Training Loss: 86.2329, Validation Loss: 103.5666\n",
      "Epoch [95/100], Training Loss: 63.9632, Validation Loss: 105.1358\n",
      "Epoch [96/100], Training Loss: 42.9990, Validation Loss: 103.8086\n",
      "Epoch [97/100], Training Loss: 34.9700, Validation Loss: 103.4098\n",
      "Epoch [98/100], Training Loss: 89.3414, Validation Loss: 103.8660\n",
      "Epoch [99/100], Training Loss: 59.8705, Validation Loss: 102.6173\n",
      "Epoch [100/100], Training Loss: 67.5500, Validation Loss: 103.9617\n"
     ]
    }
   ],
   "source": [
    "# For synth model, swap inputs and outputs\n",
    "from torch.utils.data import DataLoader, TensorDataset\n",
    "torch.set_default_dtype(torch.float64)\n",
    "\n",
    "# Check for GPU availability\n",
    "device = torch.device(\"cuda\" if torch.cuda.is_available() else \"cpu\")\n",
    "print(f\"Using device: {device}\")\n",
    "\n",
    "if train_new_model:\n",
    "    model_synth = None\n",
    "    model_synth = TlineModel().to(device)\n",
    "\n",
    "    #Set batch size: \n",
    "    batch_size=10000\n",
    "\n",
    "    # Create datasets\n",
    "    training_dataset = TensorDataset(training_output_t.to(device), training_input_t.to(device))\n",
    "    val_dataset = TensorDataset(val_output_t.to(device), val_input_t.to(device))\n",
    "\n",
    "    training_data_loader = DataLoader(training_dataset, batch_size = batch_size, shuffle=True)\n",
    "    val_data_loader = DataLoader(val_dataset, batch_size=batch_size, shuffle=False)\n",
    "\n",
    "    # Define the loss function and optimizer\n",
    "    criterion = nn.MSELoss()  # Mean Squared Error Loss\n",
    "    optimizer = torch.optim.Rprop(model_synth.parameters())\n",
    "\n",
    "    # Define weights for each output\n",
    "    weight_output_z0 = 0.9  # Adjust this weight based on importance\n",
    "    weight_output_el = 0.1  # Adjust this weight based on importance\n",
    "\n",
    "    # Train\n",
    "    losses = []\n",
    "    val_losses = []\n",
    "    epochs = 100\n",
    "    for epoch in range(epochs):\n",
    "        model_synth.train()\n",
    "\n",
    "        for inputs, targets in training_data_loader:\n",
    "            inputs, targets = inputs.to(device), targets.to(device)\n",
    "            outputs = model_synth(inputs)\n",
    "            # Weighted loss\n",
    "            loss = weight_output_z0 * criterion(outputs[:, 0], targets[:, 0]) + weight_output_el * criterion(outputs[:, 1], targets[:, 1])\n",
    "            losses.append(loss.item())\n",
    "            optimizer.zero_grad()\n",
    "            loss.backward()\n",
    "            optimizer.step()\n",
    "\n",
    "        # Validate\n",
    "        model_synth.eval()\n",
    "        with torch.no_grad():\n",
    "            for val_inputs, val_targets in val_data_loader:\n",
    "                val_inputs, val_targets = val_inputs.to(device), val_targets.to(device)  # Move data to GPU\n",
    "                val_outputs = model_synth(val_inputs)\n",
    "                # Weighted loss\n",
    "                val_loss = weight_output_z0 * criterion(val_outputs[:, 0], val_targets[:, 0]) + weight_output_el * criterion(val_outputs[:, 1], val_targets[:, 1])\n",
    "                val_losses.append(val_loss.item())\n",
    "\n",
    "        print(f'Epoch [{epoch+1}/{epochs}], Training Loss: {loss.item():.4f}, Validation Loss: {val_loss.item():.4f}')"
   ],
   "metadata": {
    "collapsed": false,
    "ExecuteTime": {
     "end_time": "2023-10-16T03:28:14.728666400Z",
     "start_time": "2023-10-16T03:07:35.989391900Z"
    }
   },
   "id": "dfd98f8a7e4ae5fb"
  },
  {
   "cell_type": "code",
   "execution_count": 156,
   "outputs": [
    {
     "name": "stdout",
     "output_type": "stream",
     "text": [
      "Predictions:\n",
      "tensor([[1.6160e+01, 1.4604e+04],\n",
      "        [5.0407e+00, 5.5265e+03],\n",
      "        [3.3349e+00, 2.0486e+04],\n",
      "        ...,\n",
      "        [1.4322e+01, 2.2851e+03],\n",
      "        [7.0572e+00, 1.5796e+04],\n",
      "        [2.7518e+01, 1.3142e+04]], device='cuda:0')\n",
      "tensor([[1.5325e+01, 1.4604e+04],\n",
      "        [3.8627e+00, 5.5325e+03],\n",
      "        [3.3035e+00, 2.0518e+04],\n",
      "        ...,\n",
      "        [1.5048e+01, 2.2836e+03],\n",
      "        [6.6804e+00, 1.5786e+04],\n",
      "        [2.6798e+01, 1.3131e+04]], device='cuda:0')\n"
     ]
    }
   ],
   "source": [
    "# Check real quick\n",
    "with torch.no_grad():\n",
    "    predictions = model_synth(test_output_t.to(device)).to(device)\n",
    "    print(\"Predictions:\")\n",
    "    print(predictions)\n",
    "\n",
    "print(test_input_t.to(device))"
   ],
   "metadata": {
    "collapsed": false,
    "ExecuteTime": {
     "end_time": "2023-10-16T03:28:19.210249500Z",
     "start_time": "2023-10-16T03:28:18.231656900Z"
    }
   },
   "id": "a5bad048f006f8a6"
  },
  {
   "cell_type": "code",
   "execution_count": 172,
   "outputs": [
    {
     "name": "stdout",
     "output_type": "stream",
     "text": [
      "Predict: (19.434604169968175, 28735.860232698273)\n",
      "Simulate: (45.60348866502941, 1474.8568575704458)\n",
      "Note: simulate isn't going backwards here.. just seeing how close\n"
     ]
    }
   ],
   "source": [
    "# Some Spot Predictions\n",
    "\n",
    "z0 = 45\n",
    "el = 1500\n",
    "\n",
    "check = torch.tensor([[z0, el]]).to(device)\n",
    "preds = model_synth(check)\n",
    "pred_w = preds[0][0].item()\n",
    "pred_l= preds[0][1].item()\n",
    "\n",
    "sims = simulate_tline(pred_w, pred_l)\n",
    "\n",
    "print(f\"Predict: {pred_w, pred_l}\")\n",
    "print(f\"Simulate: {sims.z0, sims.e_length}\")\n",
    "print(f\"Note: simulate isn't going backwards here.. just seeing how close\")\n"
   ],
   "metadata": {
    "collapsed": false,
    "ExecuteTime": {
     "end_time": "2023-10-16T03:30:27.265377400Z",
     "start_time": "2023-10-16T03:30:27.225367400Z"
    }
   },
   "id": "46e85e692917d9be"
  },
  {
   "cell_type": "code",
   "execution_count": 163,
   "outputs": [
    {
     "data": {
      "text/plain": "Text(0.5, 0, 'Ideal Width (mils)')"
     },
     "execution_count": 163,
     "metadata": {},
     "output_type": "execute_result"
    },
    {
     "data": {
      "text/plain": "<Figure size 640x480 with 1 Axes>",
      "image/png": "[encoded data removed]"
     },
     "metadata": {},
     "output_type": "display_data"
    }
   ],
   "source": [
    "from matplotlib import pyplot as plt\n",
    "# plt.scatter(test_data_df['width'],test_output_z0)\n",
    "\n",
    "plot_x = test_input_t[:,0] # width\n",
    "plot_y = predictions[:,0].cpu()\n",
    "plt.scatter(plot_x, plot_y)\n",
    "plt.plot([0,250],[0,250],'r')\n",
    "plt.title(\"Test Data: Width Predicted vs. Ideal\")\n",
    "plt.ylabel(\"Predicted Width (mils)\")\n",
    "plt.xlabel(\"Ideal Width (mils)\")"
   ],
   "metadata": {
    "collapsed": false,
    "ExecuteTime": {
     "end_time": "2023-10-16T03:29:18.894863200Z",
     "start_time": "2023-10-16T03:29:12.221133700Z"
    }
   },
   "id": "63e7ac44e1580a41"
  },
  {
   "cell_type": "code",
   "execution_count": 169,
   "outputs": [
    {
     "data": {
      "text/plain": "Text(0.5, 0, 'Ideal Physical Length (mils)')"
     },
     "execution_count": 169,
     "metadata": {},
     "output_type": "execute_result"
    },
    {
     "data": {
      "text/plain": "<Figure size 640x480 with 1 Axes>",
      "image/png": "[encoded data removed]"
     },
     "metadata": {},
     "output_type": "display_data"
    }
   ],
   "source": [
    "plot_x = test_input_t[:,1] # physical length\n",
    "plot_y = predictions[:,1].cpu()\n",
    "plt.scatter(plot_x, plot_y)\n",
    "plt.plot([0,200000],[0,200000],'r')\n",
    "plt.title(\"Test Data: Physical Length Predicted vs. Ideal\")\n",
    "plt.ylabel(\"Predicted Physical Length (mils)\")\n",
    "plt.xlabel(\"Ideal Physical Length (mils)\")"
   ],
   "metadata": {
    "collapsed": false,
    "ExecuteTime": {
     "end_time": "2023-10-16T03:30:06.325909400Z",
     "start_time": "2023-10-16T03:30:00.204518800Z"
    }
   },
   "id": "aae9b195f438659c"
  },
  {
   "cell_type": "code",
   "execution_count": 173,
   "outputs": [
    {
     "name": "stdout",
     "output_type": "stream",
     "text": [
      "Saving model as of 2023_10_2_212631\n"
     ]
    }
   ],
   "source": [
    "# Save Model\n",
    "timestamp = timestamp_str\n",
    "print(f\"Saving model as of {timestamp}\")\n",
    "\n",
    "torch.save(model_synth, f\"./models_final/{timestamp_str}_synthesis.pt\")\n"
   ],
   "metadata": {
    "collapsed": false,
    "ExecuteTime": {
     "end_time": "2023-10-16T03:34:14.760383300Z",
     "start_time": "2023-10-16T03:34:14.740393100Z"
    }
   },
   "id": "8da711e67595329"
  },
  {
   "cell_type": "code",
   "execution_count": 174,
   "outputs": [
    {
     "name": "stdout",
     "output_type": "stream",
     "text": [
      "Synthesis Benchmark\n",
      "Time to predict all: 0.0023957000230439007 seconds\n",
      "Number of Samples: 200000\n",
      "Time per Sample: 11.978500115219504 ns\n"
     ]
    }
   ],
   "source": [
    "# Check time to predict all values\n",
    "predictions = None\n",
    "start_time = timer()\n",
    "predictions = model_synth(test_output_t.to(device)).to(device)\n",
    "end_time = timer()\n",
    "total_time = end_time-start_time\n",
    "time_per_predict = total_time/len(test_input_t)\n",
    "print(f\"Synthesis Benchmark\")\n",
    "print(f\"Time to predict all: {total_time} seconds\")\n",
    "print(f\"Number of Samples: {len(test_input_t)}\")\n",
    "print(f\"Time per Sample: {time_per_predict*1e9} ns\")"
   ],
   "metadata": {
    "collapsed": false,
    "ExecuteTime": {
     "end_time": "2023-10-16T03:34:29.799361900Z",
     "start_time": "2023-10-16T03:34:29.786361400Z"
    }
   },
   "id": "c6da6d5371f3831c"
  },
  {
   "cell_type": "code",
   "execution_count": null,
   "outputs": [],
   "source": [
    "# Simbeor Cleanup\n",
    "simbeor.ReleaseLicense()\n",
    "simbeor.Cleanup()\n",
    "simbeor.Uninitialize()"
   ],
   "metadata": {
    "collapsed": false
   },
   "id": "3155673939dce1f9"
  },
  {
   "cell_type": "code",
   "execution_count": 175,
   "outputs": [
    {
     "data": {
      "text/plain": "           Unnamed: 0           width          length              z0  \\\ncount  1000000.000000  1000000.000000  1000000.000000  1000000.000000   \nmean    499999.500000       21.169422     7953.009622       53.892116   \nstd     288675.278933       18.403874     6922.440109       21.448189   \nmin          0.000000        0.356985      135.847705        3.038179   \n1%        9999.990000        2.786135     1043.336483       14.487946   \n10%      99999.900000        6.115408     2294.636145       27.264294   \n50%     499999.500000       15.977290     5998.074000       52.009800   \n90%     899999.100000       41.805797    15702.668714       83.101099   \n99%     989999.010000       91.502748    34433.629336      108.854294   \nmax     999999.000000      499.219254   190691.811237      168.013554   \n\n             e_length       exec_time  \ncount  1000000.000000  1000000.000000  \nmean       411.539366        0.000982  \nstd        358.530793        0.000067  \nmin          7.098624        0.000871  \n1%          53.965567        0.000892  \n10%        118.570721        0.000907  \n50%        310.305802        0.000978  \n90%        812.803701        0.001052  \n99%       1782.817863        0.001180  \nmax       9489.627757        0.004772  ",
      "text/html": "<div>\n<style scoped>\n    .dataframe tbody tr th:only-of-type {\n        vertical-align: middle;\n    }\n\n    .dataframe tbody tr th {\n        vertical-align: top;\n    }\n\n    .dataframe thead th {\n        text-align: right;\n    }\n</style>\n<table border=\"1\" class=\"dataframe\">\n  <thead>\n    <tr style=\"text-align: right;\">\n      <th></th>\n      <th>Unnamed: 0</th>\n      <th>width</th>\n      <th>length</th>\n      <th>z0</th>\n      <th>e_length</th>\n      <th>exec_time</th>\n    </tr>\n  </thead>\n  <tbody>\n    <tr>\n      <th>count</th>\n      <td>1000000.000000</td>\n      <td>1000000.000000</td>\n      <td>1000000.000000</td>\n      <td>1000000.000000</td>\n      <td>1000000.000000</td>\n      <td>1000000.000000</td>\n    </tr>\n    <tr>\n      <th>mean</th>\n      <td>499999.500000</td>\n      <td>21.169422</td>\n      <td>7953.009622</td>\n      <td>53.892116</td>\n      <td>411.539366</td>\n      <td>0.000982</td>\n    </tr>\n    <tr>\n      <th>std</th>\n      <td>288675.278933</td>\n      <td>18.403874</td>\n      <td>6922.440109</td>\n      <td>21.448189</td>\n      <td>358.530793</td>\n      <td>0.000067</td>\n    </tr>\n    <tr>\n      <th>min</th>\n      <td>0.000000</td>\n      <td>0.356985</td>\n      <td>135.847705</td>\n      <td>3.038179</td>\n      <td>7.098624</td>\n      <td>0.000871</td>\n    </tr>\n    <tr>\n      <th>1%</th>\n      <td>9999.990000</td>\n      <td>2.786135</td>\n      <td>1043.336483</td>\n      <td>14.487946</td>\n      <td>53.965567</td>\n      <td>0.000892</td>\n    </tr>\n    <tr>\n      <th>10%</th>\n      <td>99999.900000</td>\n      <td>6.115408</td>\n      <td>2294.636145</td>\n      <td>27.264294</td>\n      <td>118.570721</td>\n      <td>0.000907</td>\n    </tr>\n    <tr>\n      <th>50%</th>\n      <td>499999.500000</td>\n      <td>15.977290</td>\n      <td>5998.074000</td>\n      <td>52.009800</td>\n      <td>310.305802</td>\n      <td>0.000978</td>\n    </tr>\n    <tr>\n      <th>90%</th>\n      <td>899999.100000</td>\n      <td>41.805797</td>\n      <td>15702.668714</td>\n      <td>83.101099</td>\n      <td>812.803701</td>\n      <td>0.001052</td>\n    </tr>\n    <tr>\n      <th>99%</th>\n      <td>989999.010000</td>\n      <td>91.502748</td>\n      <td>34433.629336</td>\n      <td>108.854294</td>\n      <td>1782.817863</td>\n      <td>0.001180</td>\n    </tr>\n    <tr>\n      <th>max</th>\n      <td>999999.000000</td>\n      <td>499.219254</td>\n      <td>190691.811237</td>\n      <td>168.013554</td>\n      <td>9489.627757</td>\n      <td>0.004772</td>\n    </tr>\n  </tbody>\n</table>\n</div>"
     },
     "execution_count": 175,
     "metadata": {},
     "output_type": "execute_result"
    }
   ],
   "source": [
    "# Create application which queries the user!\n",
    "# Use this for limits\n",
    "training_data_df.describe(percentiles=[0.01, 0.1,0.9,0.99])"
   ],
   "metadata": {
    "collapsed": false,
    "ExecuteTime": {
     "end_time": "2023-10-16T03:35:57.042220200Z",
     "start_time": "2023-10-16T03:35:56.832231900Z"
    }
   },
   "id": "2d2149db31eae5c5"
  }
 ],
 "metadata": {
  "kernelspec": {
   "display_name": "Python 3 (ipykernel)",
   "language": "python",
   "name": "python3"
  },
  "language_info": {
   "codemirror_mode": {
    "name": "ipython",
    "version": 3
   },
   "file_extension": ".py",
   "mimetype": "text/x-python",
   "name": "python",
   "nbconvert_exporter": "python",
   "pygments_lexer": "ipython3",
   "version": "3.10.13"
  }
 },
 "nbformat": 4,
 "nbformat_minor": 5
}
