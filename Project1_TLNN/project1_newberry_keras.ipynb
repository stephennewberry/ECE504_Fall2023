{
 "cells": [
  {
   "cell_type": "markdown",
   "id": "92b91b43023157f3",
   "metadata": {},
   "source": [
    "# ECE504 Project 1\n",
    "Stephen Newberry"
   ]
  },
  {
   "cell_type": "code",
   "execution_count": 1,
   "outputs": [
    {
     "name": "stdout",
     "output_type": "stream",
     "text": [
      "Stephen Newberry - Project 1 - ECE504 - Fall 2023\n",
      "Running Python 3.10.13 | packaged by Anaconda, Inc. | (main, Sep 11 2023, 13:24:38) [MSC v.1916 64 bit (AMD64)]\n"
     ]
    }
   ],
   "source": [
    "import sys\n",
    "import logging\n",
    "from timeit import default_timer as timer\n",
    "from typing import NamedTuple\n",
    "import numpy as np\n",
    "import datetime\n",
    "\n",
    "# First line, make sure Python is set up/runs\n",
    "print(\"Stephen Newberry - Project 1 - ECE504 - Fall 2023\")\n",
    "print(f\"Running Python {sys.version}\")\n",
    "\n",
    "logging.basicConfig(format='[%(levelname)s] %(message)s',\n",
    "                    datefmt='%d/%m/%Y %I:%M:%S %p', level=logging.INFO)"
   ],
   "metadata": {
    "collapsed": false,
    "ExecuteTime": {
     "end_time": "2023-10-15T00:40:57.097670500Z",
     "start_time": "2023-10-15T00:40:56.978671800Z"
    }
   },
   "id": "initial_id"
  },
  {
   "cell_type": "code",
   "execution_count": 2,
   "id": "9a81c1dd64d1158e",
   "metadata": {
    "ExecuteTime": {
     "end_time": "2023-10-15T00:40:59.283525Z",
     "start_time": "2023-10-15T00:40:57.087671100Z"
    }
   },
   "outputs": [],
   "source": [
    "# Import Simbeor for Field Solver\n",
    "sys.path.append(\"C:/Users/steph/Documents/Education/CLASS06_2023F_ECE504/projects/project1/code\")\n",
    "from simbeor_sdk import simbeor\n",
    "if not simbeor.Initialize():\n",
    "    logging.warning(\"Error initializing Simbeor\")\n",
    "\n",
    "if not simbeor.SetLicense(\n",
    "        'C:\\\\Users\\\\steph\\\\Documents\\\\ShieldDigitalDesign\\\\Software\\\\Licenses', 'simbeor_verify'):\n",
    "    logging.warning(\"Error setting Simbeor license\")\n"
   ]
  },
  {
   "cell_type": "markdown",
   "source": [
    "## Substrate Design\n",
    "\n",
    "The substrate will be a standard, uncoated microstrip. The metal will be 1.2mil thick (standard 1oz Cu after processing). Conductivity will use the ideal value of 5.8E+06 S/m for copper. \n",
    "The dielectric will be modeled after Isola FR408HR, which is a standard dielectric used for low- to medium-speed digital PCB applications.\n",
    "https://www.isola-group.com/pcb-laminates-prepreg/fr408hr-laminate-and-prepreg/\n",
    "We will use the dielectric values from an 8mil, 2x3313 weave, 55% resin content, core material. It has a Dk/Df of 3.68/0.0087 at 1 GHz.\n",
    "\n",
    "Copper roughness will not be modeled, nor will trace etch-back (rectangular cross-section)."
   ],
   "metadata": {
    "collapsed": false
   },
   "id": "d81eb2f925b5912d"
  },
  {
   "cell_type": "code",
   "execution_count": 3,
   "outputs": [],
   "source": [
    "# Configure substrate\n",
    "cu_thickness = 1.2 #mils\n",
    "diel_thickness = 8.0 #mils\n",
    "dk = 3.68\n",
    "df = 0.0087\n",
    "cu_cond = 5.80046403712e7 #S/m\n",
    "\n",
    "# NOTE: Ignoring roughness\n",
    "\n",
    "simbeor.ProjectDelete(\"TLINE\")  # In case it exists, delete\n",
    "model_name = \"tline_model\"\n",
    "prj = simbeor.ProjectCreate(\"TLINE\", True, True, 25.0)\n",
    "if (prj == 0):\n",
    "    logging.error(\"Project exists, delete project first\")\n",
    "\n",
    "# Configure frequency sweep\n",
    "freq_sweep = simbeor.InitFrequencySweep()\n",
    "freq_sweep['SweepType'] = 'Tabulated'\n",
    "freq_sweep['Start'] = 1 # GHz\n",
    "freq_sweep['Stop'] = 1 # GHz\n",
    "\n",
    "# Add materials to project\n",
    "# Air\n",
    "air = simbeor.MaterialAddDielectric(\"TLINE\\\\Air\", 1.0, 0.0, 1e9, 0, 1e4, 1e12)\n",
    "if (air == 0):\n",
    "    logging.error(\"Error creating air\")\n",
    "# Conductor\n",
    "rel_res = (1/cu_cond)/1.724e-8\n",
    "cond = simbeor.MaterialAddConductor(\"TLINE\\\\Copper\", rel_res, 0, 0.004)\n",
    "if (cond == 0):\n",
    "    logging.error(\"Error creating conductor\")\n",
    "# Dielectric\n",
    "diel = simbeor.MaterialAddDielectric(\n",
    "    \"TLINE\\\\Dielectric\", dk, df, 1e9, 0, 1e4, 1e12)\n",
    "if (diel == 0):\n",
    "    logging.error(\"Error creating dielectric\")\n",
    "\n",
    "# Create Stackup (top to bottom)\n",
    "layer1 = simbeor.LayerAddSignal(\"TLINE\\\\L1\", \"Copper\", \"Air\", simbeor.mil_to_m(cu_thickness))\n",
    "if (layer1 == 0):\n",
    "    logging.error(\"Error creating stackup Layer 1\")\n",
    "diel1 = simbeor.LayerAddMedium(\"TLINE\\\\DIEL\", \"Dielectric\", simbeor.mil_to_m(diel_thickness))\n",
    "if (diel1 == 0):\n",
    "    logging.error(\"Error creating stackup dielectric\")\n",
    "layer2 = simbeor.LayerAddCover(\"TLINE\\\\L2\", \"Copper\", simbeor.mil_to_m(0.1))\n"
   ],
   "metadata": {
    "collapsed": false,
    "ExecuteTime": {
     "end_time": "2023-10-15T00:40:59.298538Z",
     "start_time": "2023-10-15T00:40:59.287525500Z"
    }
   },
   "id": "6e3e142bd2071c5e"
  },
  {
   "cell_type": "code",
   "execution_count": 4,
   "outputs": [],
   "source": [
    "# Set up a Named Tuple as output\n",
    "class SimResult(NamedTuple):\n",
    "    z0: float # Ohms\n",
    "    e_length: float # Degrees\n",
    "    exec_time: float # Seconds\n",
    "\n",
    "# Define field-solver simulation\n",
    "def simulate_tline(width, length) -> SimResult:\n",
    "    \"\"\"Takes input geometry of t-line and returns tuple containing Z0 (Ohms) and electrical length (deg). \n",
    "    Also returns execution time in seconds\n",
    "\n",
    "    :param width: trace width of the input line in mils \n",
    "    :param length: length of the transmission line in mils\n",
    "    \"\"\"\n",
    "    # T-Line\n",
    "    tline = simbeor.InitSingleTLine()\n",
    "    tline['Width'] = simbeor.mil_to_m(width)\n",
    "    tline['StripShape'] = \"Rectangular\"\n",
    "    tline['EtchFactor'] = 0  # No etch factor\n",
    "    tline['Clearance'] = 0.0  # Set to zero for no coplanar ground\n",
    "    tline['LayerName'] = \"L1\"\n",
    "    tline['BottomRefLayer'] = \"L2\"\n",
    "\n",
    "    simbeor.ModelDelete(model_name) # In case it exists\n",
    "    # Also, would like to time this specific function and record it\n",
    "    ##### MAIN SIMBEOR FUNCTION ######\n",
    "    start_time = timer()\n",
    "    results = simbeor.ModelSingleTLine_SFS(model_name, tline, freq_sweep, 0)\n",
    "    end_time = timer()\n",
    "    #logging.info(f\"Simbeor function elapsed time: {end_time-start_time} seconds\")\n",
    "    ##################################\n",
    "    \n",
    "    exec_time = end_time - start_time\n",
    "    \n",
    "    z0 = simbeor.GetCharacteristicImpedances(model_name, 50, 1)[0]\n",
    "    \n",
    "    # 1 radian/meter is 0.001455 deg per mil\n",
    "\n",
    "    e_length_rad_per_meter = simbeor.GetPropagationConstants(model_name, \"PhaseConstant\",1)[0]\n",
    "    e_length = e_length_rad_per_meter * 0.001455 * length\n",
    "    \n",
    "    sim_result = SimResult(\n",
    "        z0=z0,\n",
    "        e_length=e_length,\n",
    "        exec_time=exec_time\n",
    "    )\n",
    "    # logging.info(f\"For inputs {width}, {length}\\nResult: {sim_result}\\n\")\n",
    "    return sim_result\n"
   ],
   "metadata": {
    "collapsed": false,
    "ExecuteTime": {
     "end_time": "2023-10-15T00:40:59.332539300Z",
     "start_time": "2023-10-15T00:40:59.304537100Z"
    }
   },
   "id": "db0663a205b38150"
  },
  {
   "cell_type": "code",
   "execution_count": 5,
   "outputs": [
    {
     "data": {
      "text/plain": "SimResult(z0=51.22717033249684, e_length=508.4024955171149, exec_time=0.0012652000004891306)"
     },
     "execution_count": 5,
     "metadata": {},
     "output_type": "execute_result"
    }
   ],
   "source": [
    "# Example\n",
    "simulate_tline(width=16, length=10000)"
   ],
   "metadata": {
    "collapsed": false,
    "ExecuteTime": {
     "end_time": "2023-10-15T00:40:59.332539300Z",
     "start_time": "2023-10-15T00:40:59.317537600Z"
    }
   },
   "id": "96b20517617edcbb"
  },
  {
   "cell_type": "markdown",
   "source": [
    "## Training Data\n",
    "Training data will be a Pandas dataframe. Each row is an instance. It will have the following columns:\n",
    "\n",
    "* Trace width, mils (input)\n",
    "* Trace length, mils (input)\n",
    "* Z0 at 1 GHz, ohms (output)\n",
    "* Electrical length at 1 GHz, degrees (output)\n",
    "* Execution time\n",
    "\n",
    "A typical microwave trace will be anywhere from 4mil upwards of 25mil or so on a PCB, but since we're fixing our substrate at 8mil thickness, that means we'd want to center on ~16mil for a 50ohm line. For length, we'll use 6\" as a mean with a Rayleigh distribution.\n",
    "\n",
    "Actually.... this distribution kinda sucks. Uniform for now...\n",
    "wait, lognormal!\n"
   ],
   "metadata": {
    "collapsed": false
   },
   "id": "635f3a9350c2101e"
  },
  {
   "cell_type": "code",
   "execution_count": 6,
   "outputs": [
    {
     "name": "stderr",
     "output_type": "stream",
     "text": [
      "[INFO] Note: NumExpr detected 32 cores but \"NUMEXPR_MAX_THREADS\" not set, so enforcing safe limit of 8.\n",
      "[INFO] NumExpr defaulting to 8 threads.\n"
     ]
    }
   ],
   "source": [
    "import pandas as pd\n",
    "\n",
    "# Next, we need to generate the training data\n",
    "generate_new_training_data = False\n",
    "num_training_points = 1000000\n",
    "num_validation_points = int(np.floor(.2 * num_training_points))\n",
    "num_test_points = int(np.floor(0.2 * num_training_points))\n",
    "\n",
    "if generate_new_training_data:\n",
    "    timestamp = datetime.datetime.now()\n",
    "    timestamp_str = f\"{timestamp.year}_{timestamp.month}_{timestamp.day}_{timestamp.time().hour}{timestamp.time().minute}{timestamp.time().second}\"\n",
    "    print(f\"Generating data as of {timestamp}\")\n",
    "    \n",
    "    if generate_new_training_data:\n",
    "        # Create blank CSV\n",
    "        fields = ['width', 'length', 'z0', 'e_length', 'exec_time']\n",
    "    \n",
    "        # Min/Max ranges\n",
    "        trace_width_min = 0.1 # mil\n",
    "        trace_width_max = 500.0\n",
    "        trace_width_mean = 16.0\n",
    "        trace_length_min = 1 # mil\n",
    "        trace_length_max = 100000 # 100 inches\n",
    "        trace_length_mean = 6000\n",
    "        \n",
    "        # Lognormal settings\n",
    "        sigma = 0.75\n",
    "    \n",
    "        train = pd.DataFrame(columns=fields)\n",
    "        for i in range(num_training_points):\n",
    "            width = np.random.lognormal(sigma=sigma, mean=np.log(trace_width_mean))\n",
    "            length = np.random.lognormal(sigma=sigma, mean=np.log(trace_length_mean))\n",
    "            \n",
    "            sim_result = simulate_tline(width,length)\n",
    "            \n",
    "            # Assign the result values\n",
    "            z0 = sim_result.z0\n",
    "            e_length = sim_result.e_length\n",
    "            exec_time = sim_result.exec_time\n",
    "            \n",
    "            new_row = pd.DataFrame([[width, length, z0, e_length, exec_time]], columns=fields)\n",
    "            \n",
    "            train = pd.concat([train, new_row], ignore_index=True)\n",
    "        train.to_csv(f'./training_data/{timestamp_str}_train.csv')\n",
    "    \n",
    "        # Probably should have this be some kind of function. Later :)\n",
    "        val = pd.DataFrame(columns=fields)\n",
    "        for i in range(num_validation_points):\n",
    "            width = np.random.lognormal(sigma=sigma, mean=np.log(trace_width_mean))\n",
    "            length = np.random.lognormal(sigma=sigma, mean=np.log(trace_length_mean))\n",
    "        \n",
    "            sim_result = simulate_tline(width,length)\n",
    "        \n",
    "            # Assign the result values\n",
    "            z0 = sim_result.z0\n",
    "            e_length = sim_result.e_length\n",
    "            exec_time = sim_result.exec_time\n",
    "\n",
    "            new_row = pd.DataFrame([[width, length, z0, e_length, exec_time]], columns=fields)\n",
    "\n",
    "            val = pd.concat([val, new_row], ignore_index=True)\n",
    "        val.to_csv(f'./training_data/{timestamp_str}_val.csv')\n",
    "\n",
    "        test = pd.DataFrame(columns=fields)\n",
    "        for i in range(num_test_points):\n",
    "            width = np.random.lognormal(sigma=sigma, mean=np.log(trace_width_mean))\n",
    "            length = np.random.lognormal(sigma=sigma, mean=np.log(trace_length_mean))\n",
    "        \n",
    "            sim_result = simulate_tline(width,length)\n",
    "        \n",
    "            # Assign the result values\n",
    "            z0 = sim_result.z0\n",
    "            e_length = sim_result.e_length\n",
    "            exec_time = sim_result.exec_time\n",
    "\n",
    "            new_row = pd.DataFrame([[width, length, z0, e_length, exec_time]], columns=fields)\n",
    "\n",
    "            test = pd.concat([test, new_row], ignore_index=True)\n",
    "        test.to_csv(f'./training_data/{timestamp_str}_test.csv')\n",
    "    \n",
    "    \n",
    "# Took 2.25hrs to train 1M points"
   ],
   "metadata": {
    "collapsed": false,
    "ExecuteTime": {
     "end_time": "2023-10-15T00:40:59.714537400Z",
     "start_time": "2023-10-15T00:40:59.338539400Z"
    }
   },
   "id": "25b4e85900614d27"
  },
  {
   "cell_type": "code",
   "execution_count": 7,
   "outputs": [],
   "source": [
    "from keras.models import Sequential\n",
    "from keras.layers import Dense\n",
    "\n",
    "timestamp_str = \"2023_10_2_212631\"\n",
    "\n",
    "if timestamp_str is None:\n",
    "    timestamp_str = \"2023_10_2_212631\"\n",
    "    \n",
    "# Re-read to dataframes\n",
    "training_data_df = pd.read_csv(f'./training_data/{timestamp_str}_train.csv')\n",
    "val_data_df = pd.read_csv(f'./training_data/{timestamp_str}_val.csv')\n",
    "test_data_df = pd.read_csv(f'./training_data/{timestamp_str}_test.csv')\n",
    "\n",
    "# Friendly data format\n",
    "training_input = []\n",
    "for i in range(len(training_data_df.index)):\n",
    "    training_input.append([training_data_df['width'].iloc[i], training_data_df['length'].iloc[i]])\n",
    "\n",
    "training_output = []\n",
    "training_output_z0 = []\n",
    "training_output_el = []\n",
    "for i in range(len(training_data_df.index)):\n",
    "    training_output.append([training_data_df['z0'].iloc[i], training_data_df['e_length'].iloc[i]])\n",
    "    training_output_z0.append([training_data_df['z0'].iloc[i]])\n",
    "    training_output_el.append([training_data_df['e_length'].iloc[i]])\n",
    "\n",
    "val_input = []\n",
    "for i in range(len(val_data_df.index)):\n",
    "    val_input.append([val_data_df['width'].iloc[i], val_data_df['length'].iloc[i]])\n",
    "\n",
    "val_output = []\n",
    "val_output_z0 = []\n",
    "val_output_el = []\n",
    "for i in range(len(val_data_df.index)):\n",
    "    val_output.append([val_data_df['z0'].iloc[i], val_data_df['e_length'].iloc[i]])\n",
    "    val_output_z0.append([val_data_df['z0'].iloc[i]])\n",
    "    val_output_el.append([val_data_df['e_length'].iloc[i]])   \n",
    "\n",
    "test_input = []\n",
    "for i in range(len(test_data_df.index)):\n",
    "    test_input.append([test_data_df['width'].iloc[i], test_data_df['length'].iloc[i]])\n",
    "\n",
    "test_output = []\n",
    "test_output_z0 = []\n",
    "test_output_el = []\n",
    "for i in range(len(test_data_df.index)):\n",
    "    test_output.append([test_data_df['z0'].iloc[i], test_data_df['e_length'].iloc[i]])\n",
    "    test_output_z0.append([test_data_df['z0'].iloc[i]])\n",
    "    test_output_el.append([test_data_df['e_length'].iloc[i]])"
   ],
   "metadata": {
    "collapsed": false,
    "ExecuteTime": {
     "end_time": "2023-10-15T00:42:28.654612Z",
     "start_time": "2023-10-15T00:40:59.720540400Z"
    }
   },
   "id": "c0e5ce9ac35d8c12"
  },
  {
   "cell_type": "code",
   "execution_count": 8,
   "outputs": [
    {
     "name": "stdout",
     "output_type": "stream",
     "text": [
      "Execution Time Average: 0.9819635386760346 ms per point\n",
      "Fastest Execution: 0.8709999965503 ms\n",
      "Slowest Execution: 4.7723000170663 ms\n",
      "Median Execution: 0.9781999979168001 ms\n",
      "\n",
      "Min/Median/Max Width: 0.357/15.977/499.219\n",
      "\n",
      "Min/Median/Max Length: 135.848/5998.074/190691.811\n"
     ]
    },
    {
     "data": {
      "text/plain": "<Figure size 640x480 with 2 Axes>",
      "image/png": "[encoded data removed]"
     },
     "metadata": {},
     "output_type": "display_data"
    }
   ],
   "source": [
    "# Plot training data distribution\n",
    "hist=training_data_df.hist(bins=100, column=['width', 'length'], log=True)\n",
    "print(f\"Execution Time Average: {sum(training_data_df['exec_time'])*1000/1000000} ms per point\")\n",
    "print(f\"Fastest Execution: {min(training_data_df['exec_time']*1000)} ms\")\n",
    "print(f\"Slowest Execution: {max(training_data_df['exec_time']*1000)} ms\")\n",
    "print(f\"Median Execution: {np.median(training_data_df['exec_time']*1000)} ms\")\n",
    "print(\"\\n\")\n",
    "print(f\"Min/Median/Max Width: {min(training_data_df['width']):.3f}/{np.median(training_data_df['width']):.3f}/{max(training_data_df['width']):.3f}\\n\")\n",
    "print(f\"Min/Median/Max Length: {min(training_data_df['length']):.3f}/{np.median(training_data_df['length']):.3f}/{max(training_data_df['length']):.3f}\")\n",
    "\n"
   ],
   "metadata": {
    "collapsed": false,
    "ExecuteTime": {
     "end_time": "2023-10-15T00:42:30.843962500Z",
     "start_time": "2023-10-15T00:42:28.657609600Z"
    }
   },
   "id": "428712c4e26ad8a3"
  },
  {
   "cell_type": "markdown",
   "source": [
    "## Tuning of Model\n",
    "\n",
    "Using Keras Tuner:\n",
    "https://www.tensorflow.org/tutorials/keras/keras_tuner\n",
    "\n",
    "Search the following options:\n",
    "* Number of layers (between 2 and 5)\n",
    "* Nodes: 32 to 512 in steps of 32\n",
    "* Activation between relu, elu, tanh, linear, softplus\n",
    "* Optimizer between adam, sgd, adagrad, adadelta, nadam\n",
    "* loss between MSE, MAE, mean sq. log., huber\n",
    "* learning rate between 0.1, 0.01, 0.001? Leaving default for now\n",
    "\n",
    "Note that we will keep the \"metric\" as MSE for all cases, so we can easily compare"
   ],
   "metadata": {
    "collapsed": false
   },
   "id": "4285b4234b927cfa"
  },
  {
   "cell_type": "code",
   "execution_count": 304,
   "outputs": [],
   "source": [
    "import keras_tuner as kt\n",
    "\n",
    "activation_list = ['linear', 'relu', 'tanh', 'elu', 'softplus']\n",
    "optimizer_list = ['adam', 'sgd', 'adagrad', 'adadelta', 'nadam']\n",
    "loss_list = ['mean_squared_error', 'mean_absolute_error', 'mean_squared_logarithmic_error', 'huber']\n",
    "lr_list = [0.1, 0.01, 0.001]\n",
    "\n",
    "\n",
    "def build_tuning_model(hp):\n",
    "    \n",
    "    model = keras.Sequential()\n",
    "    \n",
    "    # Number of Layers\n",
    "    for i in range(hp.Int('num_layers', min_value = 2, max_value=5)):\n",
    "        model.add(keras.layers.Dense(units=hp.Int('units_' + str(i), min_value=32, max_value=512, step=32),\n",
    "                                     activation=hp.Choice('activation_'+str(i), values = activation_list)))\n",
    "        \n",
    "    # Output\n",
    "    model.add(keras.layers.Dense(units=1, activation='linear'))\n",
    "    \n",
    "    # Compile\n",
    "    # model.compile(optimizer=hp.Choice('optimizer', values=optimizer_list), loss=hp.Choice('loss', values=loss_list), metrics=['mse'])\n",
    "    model.compile(optimizer=hp.Choice('optimizer', values=optimizer_list), loss='mse', metrics='mse')\n",
    "\n",
    "\n",
    "    return model"
   ],
   "metadata": {
    "collapsed": false,
    "ExecuteTime": {
     "end_time": "2023-10-15T18:12:23.973516200Z",
     "start_time": "2023-10-15T18:12:23.961518600Z"
    }
   },
   "id": "e95e2a50f01936b0"
  },
  {
   "cell_type": "code",
   "execution_count": 305,
   "outputs": [],
   "source": [
    "tuner = kt.tuners.Hyperband(build_tuning_model, objective='val_loss', max_epochs=10, factor=3, project_name='tune_z0_only')"
   ],
   "metadata": {
    "collapsed": false,
    "ExecuteTime": {
     "end_time": "2023-10-15T18:12:27.003279800Z",
     "start_time": "2023-10-15T18:12:26.972671100Z"
    }
   },
   "id": "2a12cd80897a99d"
  },
  {
   "cell_type": "code",
   "execution_count": 16,
   "outputs": [],
   "source": [
    "train_new_model = False\n"
   ],
   "metadata": {
    "collapsed": false,
    "ExecuteTime": {
     "end_time": "2023-10-15T00:44:02.611101Z",
     "start_time": "2023-10-15T00:44:02.593101100Z"
    }
   },
   "id": "e0f762dfdf404312"
  },
  {
   "cell_type": "code",
   "execution_count": 302,
   "outputs": [],
   "source": [
    "x_train = np.array(training_input)\n",
    "y_train = np.array(training_output_z0)\n",
    "x_test = np.array(val_input)\n",
    "y_test = np.array(val_output_z0)"
   ],
   "metadata": {
    "collapsed": false,
    "ExecuteTime": {
     "end_time": "2023-10-15T18:11:30.749382900Z",
     "start_time": "2023-10-15T18:11:30.039285100Z"
    }
   },
   "id": "609898b2d5ed0f6a"
  },
  {
   "cell_type": "code",
   "execution_count": 306,
   "outputs": [
    {
     "name": "stdout",
     "output_type": "stream",
     "text": [
      "Trial 20 Complete [00h 10m 52s]\n",
      "val_loss: 7.8533101081848145\n",
      "\n",
      "Best val_loss So Far: 2.092315196990967\n",
      "Total elapsed time: 02h 00m 04s\n",
      "\n",
      "Search: Running Trial #21\n",
      "\n",
      "Value             |Best Value So Far |Hyperparameter\n",
      "5                 |4                 |num_layers\n",
      "288               |416               |units_0\n",
      "tanh              |relu              |activation_0\n",
      "96                |320               |units_1\n",
      "softplus          |tanh              |activation_1\n",
      "adagrad           |adadelta          |optimizer\n",
      "320               |352               |units_2\n",
      "relu              |tanh              |activation_2\n",
      "224               |416               |units_3\n",
      "softplus          |relu              |activation_3\n",
      "448               |224               |units_4\n",
      "tanh              |tanh              |activation_4\n",
      "10                |10                |tuner/epochs\n",
      "0                 |4                 |tuner/initial_epoch\n",
      "0                 |1                 |tuner/bracket\n",
      "0                 |1                 |tuner/round\n",
      "Epoch 1/10\n",
      "31250/31250 [==============================] - 124s 4ms/step - loss: 141.7162 - mse: 141.7162 - val_loss: 16.9113 - val_mse: 16.9113\n",
      "Epoch 2/10\n",
      "31250/31250 [==============================] - 119s 4ms/step - loss: 11.6025 - mse: 11.6025 - val_loss: 6.4299 - val_mse: 6.4299\n",
      "Epoch 3/10\n",
      "31250/31250 [==============================] - 125s 4ms/step - loss: 5.5069 - mse: 5.5069 - val_loss: 3.7188 - val_mse: 3.7188\n",
      "Epoch 4/10\n",
      "31250/31250 [==============================] - 124s 4ms/step - loss: 3.4911 - mse: 3.4911 - val_loss: 2.5203 - val_mse: 2.5203\n",
      "Epoch 5/10\n",
      "31250/31250 [==============================] - 120s 4ms/step - loss: 2.4761 - mse: 2.4761 - val_loss: 1.8723 - val_mse: 1.8723\n",
      "Epoch 6/10\n",
      "31250/31250 [==============================] - 127s 4ms/step - loss: 1.9189 - mse: 1.9189 - val_loss: 1.4918 - val_mse: 1.4918\n",
      "Epoch 7/10\n",
      "31250/31250 [==============================] - 128s 4ms/step - loss: 1.5915 - mse: 1.5915 - val_loss: 1.2397 - val_mse: 1.2397\n",
      "Epoch 8/10\n",
      " 8906/31250 [=======>......................] - ETA: 1:20 - loss: 1.4450 - mse: 1.4450"
     ]
    },
    {
     "ename": "KeyboardInterrupt",
     "evalue": "",
     "output_type": "error",
     "traceback": [
      "\u001B[1;31m---------------------------------------------------------------------------\u001B[0m",
      "\u001B[1;31mKeyboardInterrupt\u001B[0m                         Traceback (most recent call last)",
      "Cell \u001B[1;32mIn[306], line 3\u001B[0m\n\u001B[0;32m      1\u001B[0m \u001B[38;5;28;01mimport\u001B[39;00m \u001B[38;5;21;01mkeras\u001B[39;00m\n\u001B[0;32m      2\u001B[0m \u001B[38;5;28;01mif\u001B[39;00m train_new_model:\n\u001B[1;32m----> 3\u001B[0m     \u001B[43mtuner\u001B[49m\u001B[38;5;241;43m.\u001B[39;49m\u001B[43msearch\u001B[49m\u001B[43m(\u001B[49m\u001B[43mx_train\u001B[49m\u001B[43m,\u001B[49m\u001B[43m \u001B[49m\u001B[43my_train\u001B[49m\u001B[43m,\u001B[49m\u001B[43m \u001B[49m\u001B[43mepochs\u001B[49m\u001B[38;5;241;43m=\u001B[39;49m\u001B[38;5;241;43m10\u001B[39;49m\u001B[43m,\u001B[49m\u001B[43m \u001B[49m\u001B[43mvalidation_data\u001B[49m\u001B[38;5;241;43m=\u001B[39;49m\u001B[43m(\u001B[49m\u001B[43mx_test\u001B[49m\u001B[43m,\u001B[49m\u001B[43m \u001B[49m\u001B[43my_test\u001B[49m\u001B[43m)\u001B[49m\u001B[43m)\u001B[49m  \n\u001B[0;32m      5\u001B[0m     best_hyperparams \u001B[38;5;241m=\u001B[39m tuner\u001B[38;5;241m.\u001B[39mget_best_hyperparameters()[\u001B[38;5;241m0\u001B[39m]\n\u001B[0;32m      7\u001B[0m     final_model \u001B[38;5;241m=\u001B[39m tuner\u001B[38;5;241m.\u001B[39mhypermodel\u001B[38;5;241m.\u001B[39mbuild(best_hyperparams)\n",
      "File \u001B[1;32m~\\anaconda3\\envs\\ECE504-Project1\\lib\\site-packages\\keras_tuner\\src\\engine\\base_tuner.py:233\u001B[0m, in \u001B[0;36mBaseTuner.search\u001B[1;34m(self, *fit_args, **fit_kwargs)\u001B[0m\n\u001B[0;32m    230\u001B[0m         \u001B[38;5;28;01mcontinue\u001B[39;00m\n\u001B[0;32m    232\u001B[0m     \u001B[38;5;28mself\u001B[39m\u001B[38;5;241m.\u001B[39mon_trial_begin(trial)\n\u001B[1;32m--> 233\u001B[0m     \u001B[38;5;28mself\u001B[39m\u001B[38;5;241m.\u001B[39m_try_run_and_update_trial(trial, \u001B[38;5;241m*\u001B[39mfit_args, \u001B[38;5;241m*\u001B[39m\u001B[38;5;241m*\u001B[39mfit_kwargs)\n\u001B[0;32m    234\u001B[0m     \u001B[38;5;28mself\u001B[39m\u001B[38;5;241m.\u001B[39mon_trial_end(trial)\n\u001B[0;32m    235\u001B[0m \u001B[38;5;28mself\u001B[39m\u001B[38;5;241m.\u001B[39mon_search_end()\n",
      "File \u001B[1;32m~\\anaconda3\\envs\\ECE504-Project1\\lib\\site-packages\\keras_tuner\\src\\engine\\base_tuner.py:273\u001B[0m, in \u001B[0;36mBaseTuner._try_run_and_update_trial\u001B[1;34m(self, trial, *fit_args, **fit_kwargs)\u001B[0m\n\u001B[0;32m    271\u001B[0m \u001B[38;5;28;01mdef\u001B[39;00m \u001B[38;5;21m_try_run_and_update_trial\u001B[39m(\u001B[38;5;28mself\u001B[39m, trial, \u001B[38;5;241m*\u001B[39mfit_args, \u001B[38;5;241m*\u001B[39m\u001B[38;5;241m*\u001B[39mfit_kwargs):\n\u001B[0;32m    272\u001B[0m     \u001B[38;5;28;01mtry\u001B[39;00m:\n\u001B[1;32m--> 273\u001B[0m         \u001B[38;5;28mself\u001B[39m\u001B[38;5;241m.\u001B[39m_run_and_update_trial(trial, \u001B[38;5;241m*\u001B[39mfit_args, \u001B[38;5;241m*\u001B[39m\u001B[38;5;241m*\u001B[39mfit_kwargs)\n\u001B[0;32m    274\u001B[0m         trial\u001B[38;5;241m.\u001B[39mstatus \u001B[38;5;241m=\u001B[39m trial_module\u001B[38;5;241m.\u001B[39mTrialStatus\u001B[38;5;241m.\u001B[39mCOMPLETED\n\u001B[0;32m    275\u001B[0m         \u001B[38;5;28;01mreturn\u001B[39;00m\n",
      "File \u001B[1;32m~\\anaconda3\\envs\\ECE504-Project1\\lib\\site-packages\\keras_tuner\\src\\engine\\base_tuner.py:238\u001B[0m, in \u001B[0;36mBaseTuner._run_and_update_trial\u001B[1;34m(self, trial, *fit_args, **fit_kwargs)\u001B[0m\n\u001B[0;32m    237\u001B[0m \u001B[38;5;28;01mdef\u001B[39;00m \u001B[38;5;21m_run_and_update_trial\u001B[39m(\u001B[38;5;28mself\u001B[39m, trial, \u001B[38;5;241m*\u001B[39mfit_args, \u001B[38;5;241m*\u001B[39m\u001B[38;5;241m*\u001B[39mfit_kwargs):\n\u001B[1;32m--> 238\u001B[0m     results \u001B[38;5;241m=\u001B[39m \u001B[38;5;28mself\u001B[39m\u001B[38;5;241m.\u001B[39mrun_trial(trial, \u001B[38;5;241m*\u001B[39mfit_args, \u001B[38;5;241m*\u001B[39m\u001B[38;5;241m*\u001B[39mfit_kwargs)\n\u001B[0;32m    239\u001B[0m     \u001B[38;5;28;01mif\u001B[39;00m \u001B[38;5;28mself\u001B[39m\u001B[38;5;241m.\u001B[39moracle\u001B[38;5;241m.\u001B[39mget_trial(trial\u001B[38;5;241m.\u001B[39mtrial_id)\u001B[38;5;241m.\u001B[39mmetrics\u001B[38;5;241m.\u001B[39mexists(\n\u001B[0;32m    240\u001B[0m         \u001B[38;5;28mself\u001B[39m\u001B[38;5;241m.\u001B[39moracle\u001B[38;5;241m.\u001B[39mobjective\u001B[38;5;241m.\u001B[39mname\n\u001B[0;32m    241\u001B[0m     ):\n\u001B[0;32m    242\u001B[0m         \u001B[38;5;66;03m# The oracle is updated by calling `self.oracle.update_trial()` in\u001B[39;00m\n\u001B[0;32m    243\u001B[0m         \u001B[38;5;66;03m# `Tuner.run_trial()`. For backward compatibility, we support this\u001B[39;00m\n\u001B[0;32m    244\u001B[0m         \u001B[38;5;66;03m# use case. No further action needed in this case.\u001B[39;00m\n\u001B[0;32m    245\u001B[0m         warnings\u001B[38;5;241m.\u001B[39mwarn(\n\u001B[0;32m    246\u001B[0m             \u001B[38;5;124m\"\u001B[39m\u001B[38;5;124mThe use case of calling \u001B[39m\u001B[38;5;124m\"\u001B[39m\n\u001B[0;32m    247\u001B[0m             \u001B[38;5;124m\"\u001B[39m\u001B[38;5;124m`self.oracle.update_trial(trial_id, metrics)` \u001B[39m\u001B[38;5;124m\"\u001B[39m\n\u001B[1;32m   (...)\u001B[0m\n\u001B[0;32m    253\u001B[0m             stacklevel\u001B[38;5;241m=\u001B[39m\u001B[38;5;241m2\u001B[39m,\n\u001B[0;32m    254\u001B[0m         )\n",
      "File \u001B[1;32m~\\anaconda3\\envs\\ECE504-Project1\\lib\\site-packages\\keras_tuner\\src\\tuners\\hyperband.py:427\u001B[0m, in \u001B[0;36mHyperband.run_trial\u001B[1;34m(self, trial, *fit_args, **fit_kwargs)\u001B[0m\n\u001B[0;32m    425\u001B[0m     fit_kwargs[\u001B[38;5;124m\"\u001B[39m\u001B[38;5;124mepochs\u001B[39m\u001B[38;5;124m\"\u001B[39m] \u001B[38;5;241m=\u001B[39m hp\u001B[38;5;241m.\u001B[39mvalues[\u001B[38;5;124m\"\u001B[39m\u001B[38;5;124mtuner/epochs\u001B[39m\u001B[38;5;124m\"\u001B[39m]\n\u001B[0;32m    426\u001B[0m     fit_kwargs[\u001B[38;5;124m\"\u001B[39m\u001B[38;5;124minitial_epoch\u001B[39m\u001B[38;5;124m\"\u001B[39m] \u001B[38;5;241m=\u001B[39m hp\u001B[38;5;241m.\u001B[39mvalues[\u001B[38;5;124m\"\u001B[39m\u001B[38;5;124mtuner/initial_epoch\u001B[39m\u001B[38;5;124m\"\u001B[39m]\n\u001B[1;32m--> 427\u001B[0m \u001B[38;5;28;01mreturn\u001B[39;00m \u001B[38;5;28msuper\u001B[39m()\u001B[38;5;241m.\u001B[39mrun_trial(trial, \u001B[38;5;241m*\u001B[39mfit_args, \u001B[38;5;241m*\u001B[39m\u001B[38;5;241m*\u001B[39mfit_kwargs)\n",
      "File \u001B[1;32m~\\anaconda3\\envs\\ECE504-Project1\\lib\\site-packages\\keras_tuner\\src\\engine\\tuner.py:314\u001B[0m, in \u001B[0;36mTuner.run_trial\u001B[1;34m(self, trial, *args, **kwargs)\u001B[0m\n\u001B[0;32m    312\u001B[0m     callbacks\u001B[38;5;241m.\u001B[39mappend(model_checkpoint)\n\u001B[0;32m    313\u001B[0m     copied_kwargs[\u001B[38;5;124m\"\u001B[39m\u001B[38;5;124mcallbacks\u001B[39m\u001B[38;5;124m\"\u001B[39m] \u001B[38;5;241m=\u001B[39m callbacks\n\u001B[1;32m--> 314\u001B[0m     obj_value \u001B[38;5;241m=\u001B[39m \u001B[38;5;28mself\u001B[39m\u001B[38;5;241m.\u001B[39m_build_and_fit_model(trial, \u001B[38;5;241m*\u001B[39margs, \u001B[38;5;241m*\u001B[39m\u001B[38;5;241m*\u001B[39mcopied_kwargs)\n\u001B[0;32m    316\u001B[0m     histories\u001B[38;5;241m.\u001B[39mappend(obj_value)\n\u001B[0;32m    317\u001B[0m \u001B[38;5;28;01mreturn\u001B[39;00m histories\n",
      "File \u001B[1;32m~\\anaconda3\\envs\\ECE504-Project1\\lib\\site-packages\\keras_tuner\\src\\engine\\tuner.py:233\u001B[0m, in \u001B[0;36mTuner._build_and_fit_model\u001B[1;34m(self, trial, *args, **kwargs)\u001B[0m\n\u001B[0;32m    231\u001B[0m hp \u001B[38;5;241m=\u001B[39m trial\u001B[38;5;241m.\u001B[39mhyperparameters\n\u001B[0;32m    232\u001B[0m model \u001B[38;5;241m=\u001B[39m \u001B[38;5;28mself\u001B[39m\u001B[38;5;241m.\u001B[39m_try_build(hp)\n\u001B[1;32m--> 233\u001B[0m results \u001B[38;5;241m=\u001B[39m \u001B[38;5;28mself\u001B[39m\u001B[38;5;241m.\u001B[39mhypermodel\u001B[38;5;241m.\u001B[39mfit(hp, model, \u001B[38;5;241m*\u001B[39margs, \u001B[38;5;241m*\u001B[39m\u001B[38;5;241m*\u001B[39mkwargs)\n\u001B[0;32m    235\u001B[0m \u001B[38;5;66;03m# Save the build config for model loading later.\u001B[39;00m\n\u001B[0;32m    236\u001B[0m \u001B[38;5;28;01mif\u001B[39;00m backend\u001B[38;5;241m.\u001B[39mconfig\u001B[38;5;241m.\u001B[39mmulti_backend():\n",
      "File \u001B[1;32m~\\anaconda3\\envs\\ECE504-Project1\\lib\\site-packages\\keras_tuner\\src\\engine\\hypermodel.py:149\u001B[0m, in \u001B[0;36mHyperModel.fit\u001B[1;34m(self, hp, model, *args, **kwargs)\u001B[0m\n\u001B[0;32m    125\u001B[0m \u001B[38;5;28;01mdef\u001B[39;00m \u001B[38;5;21mfit\u001B[39m(\u001B[38;5;28mself\u001B[39m, hp, model, \u001B[38;5;241m*\u001B[39margs, \u001B[38;5;241m*\u001B[39m\u001B[38;5;241m*\u001B[39mkwargs):\n\u001B[0;32m    126\u001B[0m \u001B[38;5;250m    \u001B[39m\u001B[38;5;124;03m\"\"\"Train the model.\u001B[39;00m\n\u001B[0;32m    127\u001B[0m \n\u001B[0;32m    128\u001B[0m \u001B[38;5;124;03m    Args:\u001B[39;00m\n\u001B[1;32m   (...)\u001B[0m\n\u001B[0;32m    147\u001B[0m \u001B[38;5;124;03m        If return a float, it should be the `objective` value.\u001B[39;00m\n\u001B[0;32m    148\u001B[0m \u001B[38;5;124;03m    \"\"\"\u001B[39;00m\n\u001B[1;32m--> 149\u001B[0m     \u001B[38;5;28;01mreturn\u001B[39;00m model\u001B[38;5;241m.\u001B[39mfit(\u001B[38;5;241m*\u001B[39margs, \u001B[38;5;241m*\u001B[39m\u001B[38;5;241m*\u001B[39mkwargs)\n",
      "File \u001B[1;32m~\\anaconda3\\envs\\ECE504-Project1\\lib\\site-packages\\keras\\src\\utils\\traceback_utils.py:65\u001B[0m, in \u001B[0;36mfilter_traceback.<locals>.error_handler\u001B[1;34m(*args, **kwargs)\u001B[0m\n\u001B[0;32m     63\u001B[0m filtered_tb \u001B[38;5;241m=\u001B[39m \u001B[38;5;28;01mNone\u001B[39;00m\n\u001B[0;32m     64\u001B[0m \u001B[38;5;28;01mtry\u001B[39;00m:\n\u001B[1;32m---> 65\u001B[0m     \u001B[38;5;28;01mreturn\u001B[39;00m fn(\u001B[38;5;241m*\u001B[39margs, \u001B[38;5;241m*\u001B[39m\u001B[38;5;241m*\u001B[39mkwargs)\n\u001B[0;32m     66\u001B[0m \u001B[38;5;28;01mexcept\u001B[39;00m \u001B[38;5;167;01mException\u001B[39;00m \u001B[38;5;28;01mas\u001B[39;00m e:\n\u001B[0;32m     67\u001B[0m     filtered_tb \u001B[38;5;241m=\u001B[39m _process_traceback_frames(e\u001B[38;5;241m.\u001B[39m__traceback__)\n",
      "File \u001B[1;32m~\\anaconda3\\envs\\ECE504-Project1\\lib\\site-packages\\keras\\src\\engine\\training.py:1783\u001B[0m, in \u001B[0;36mModel.fit\u001B[1;34m(self, x, y, batch_size, epochs, verbose, callbacks, validation_split, validation_data, shuffle, class_weight, sample_weight, initial_epoch, steps_per_epoch, validation_steps, validation_batch_size, validation_freq, max_queue_size, workers, use_multiprocessing)\u001B[0m\n\u001B[0;32m   1775\u001B[0m \u001B[38;5;28;01mwith\u001B[39;00m tf\u001B[38;5;241m.\u001B[39mprofiler\u001B[38;5;241m.\u001B[39mexperimental\u001B[38;5;241m.\u001B[39mTrace(\n\u001B[0;32m   1776\u001B[0m     \u001B[38;5;124m\"\u001B[39m\u001B[38;5;124mtrain\u001B[39m\u001B[38;5;124m\"\u001B[39m,\n\u001B[0;32m   1777\u001B[0m     epoch_num\u001B[38;5;241m=\u001B[39mepoch,\n\u001B[1;32m   (...)\u001B[0m\n\u001B[0;32m   1780\u001B[0m     _r\u001B[38;5;241m=\u001B[39m\u001B[38;5;241m1\u001B[39m,\n\u001B[0;32m   1781\u001B[0m ):\n\u001B[0;32m   1782\u001B[0m     callbacks\u001B[38;5;241m.\u001B[39mon_train_batch_begin(step)\n\u001B[1;32m-> 1783\u001B[0m     tmp_logs \u001B[38;5;241m=\u001B[39m \u001B[38;5;28;43mself\u001B[39;49m\u001B[38;5;241;43m.\u001B[39;49m\u001B[43mtrain_function\u001B[49m\u001B[43m(\u001B[49m\u001B[43miterator\u001B[49m\u001B[43m)\u001B[49m\n\u001B[0;32m   1784\u001B[0m     \u001B[38;5;28;01mif\u001B[39;00m data_handler\u001B[38;5;241m.\u001B[39mshould_sync:\n\u001B[0;32m   1785\u001B[0m         context\u001B[38;5;241m.\u001B[39masync_wait()\n",
      "File \u001B[1;32m~\\anaconda3\\envs\\ECE504-Project1\\lib\\site-packages\\tensorflow\\python\\util\\traceback_utils.py:150\u001B[0m, in \u001B[0;36mfilter_traceback.<locals>.error_handler\u001B[1;34m(*args, **kwargs)\u001B[0m\n\u001B[0;32m    148\u001B[0m filtered_tb \u001B[38;5;241m=\u001B[39m \u001B[38;5;28;01mNone\u001B[39;00m\n\u001B[0;32m    149\u001B[0m \u001B[38;5;28;01mtry\u001B[39;00m:\n\u001B[1;32m--> 150\u001B[0m   \u001B[38;5;28;01mreturn\u001B[39;00m fn(\u001B[38;5;241m*\u001B[39margs, \u001B[38;5;241m*\u001B[39m\u001B[38;5;241m*\u001B[39mkwargs)\n\u001B[0;32m    151\u001B[0m \u001B[38;5;28;01mexcept\u001B[39;00m \u001B[38;5;167;01mException\u001B[39;00m \u001B[38;5;28;01mas\u001B[39;00m e:\n\u001B[0;32m    152\u001B[0m   filtered_tb \u001B[38;5;241m=\u001B[39m _process_traceback_frames(e\u001B[38;5;241m.\u001B[39m__traceback__)\n",
      "File \u001B[1;32m~\\anaconda3\\envs\\ECE504-Project1\\lib\\site-packages\\tensorflow\\python\\eager\\polymorphic_function\\polymorphic_function.py:831\u001B[0m, in \u001B[0;36mFunction.__call__\u001B[1;34m(self, *args, **kwds)\u001B[0m\n\u001B[0;32m    828\u001B[0m compiler \u001B[38;5;241m=\u001B[39m \u001B[38;5;124m\"\u001B[39m\u001B[38;5;124mxla\u001B[39m\u001B[38;5;124m\"\u001B[39m \u001B[38;5;28;01mif\u001B[39;00m \u001B[38;5;28mself\u001B[39m\u001B[38;5;241m.\u001B[39m_jit_compile \u001B[38;5;28;01melse\u001B[39;00m \u001B[38;5;124m\"\u001B[39m\u001B[38;5;124mnonXla\u001B[39m\u001B[38;5;124m\"\u001B[39m\n\u001B[0;32m    830\u001B[0m \u001B[38;5;28;01mwith\u001B[39;00m OptionalXlaContext(\u001B[38;5;28mself\u001B[39m\u001B[38;5;241m.\u001B[39m_jit_compile):\n\u001B[1;32m--> 831\u001B[0m   result \u001B[38;5;241m=\u001B[39m \u001B[38;5;28mself\u001B[39m\u001B[38;5;241m.\u001B[39m_call(\u001B[38;5;241m*\u001B[39margs, \u001B[38;5;241m*\u001B[39m\u001B[38;5;241m*\u001B[39mkwds)\n\u001B[0;32m    833\u001B[0m new_tracing_count \u001B[38;5;241m=\u001B[39m \u001B[38;5;28mself\u001B[39m\u001B[38;5;241m.\u001B[39mexperimental_get_tracing_count()\n\u001B[0;32m    834\u001B[0m without_tracing \u001B[38;5;241m=\u001B[39m (tracing_count \u001B[38;5;241m==\u001B[39m new_tracing_count)\n",
      "File \u001B[1;32m~\\anaconda3\\envs\\ECE504-Project1\\lib\\site-packages\\tensorflow\\python\\eager\\polymorphic_function\\polymorphic_function.py:867\u001B[0m, in \u001B[0;36mFunction._call\u001B[1;34m(self, *args, **kwds)\u001B[0m\n\u001B[0;32m    864\u001B[0m   \u001B[38;5;28mself\u001B[39m\u001B[38;5;241m.\u001B[39m_lock\u001B[38;5;241m.\u001B[39mrelease()\n\u001B[0;32m    865\u001B[0m   \u001B[38;5;66;03m# In this case we have created variables on the first call, so we run the\u001B[39;00m\n\u001B[0;32m    866\u001B[0m   \u001B[38;5;66;03m# defunned version which is guaranteed to never create variables.\u001B[39;00m\n\u001B[1;32m--> 867\u001B[0m   \u001B[38;5;28;01mreturn\u001B[39;00m \u001B[43mtracing_compilation\u001B[49m\u001B[38;5;241;43m.\u001B[39;49m\u001B[43mcall_function\u001B[49m\u001B[43m(\u001B[49m\n\u001B[0;32m    868\u001B[0m \u001B[43m      \u001B[49m\u001B[43margs\u001B[49m\u001B[43m,\u001B[49m\u001B[43m \u001B[49m\u001B[43mkwds\u001B[49m\u001B[43m,\u001B[49m\u001B[43m \u001B[49m\u001B[38;5;28;43mself\u001B[39;49m\u001B[38;5;241;43m.\u001B[39;49m\u001B[43m_no_variable_creation_config\u001B[49m\n\u001B[0;32m    869\u001B[0m \u001B[43m  \u001B[49m\u001B[43m)\u001B[49m\n\u001B[0;32m    870\u001B[0m \u001B[38;5;28;01melif\u001B[39;00m \u001B[38;5;28mself\u001B[39m\u001B[38;5;241m.\u001B[39m_variable_creation_config \u001B[38;5;129;01mis\u001B[39;00m \u001B[38;5;129;01mnot\u001B[39;00m \u001B[38;5;28;01mNone\u001B[39;00m:\n\u001B[0;32m    871\u001B[0m   \u001B[38;5;66;03m# Release the lock early so that multiple threads can perform the call\u001B[39;00m\n\u001B[0;32m    872\u001B[0m   \u001B[38;5;66;03m# in parallel.\u001B[39;00m\n\u001B[0;32m    873\u001B[0m   \u001B[38;5;28mself\u001B[39m\u001B[38;5;241m.\u001B[39m_lock\u001B[38;5;241m.\u001B[39mrelease()\n",
      "File \u001B[1;32m~\\anaconda3\\envs\\ECE504-Project1\\lib\\site-packages\\tensorflow\\python\\eager\\polymorphic_function\\tracing_compilation.py:139\u001B[0m, in \u001B[0;36mcall_function\u001B[1;34m(args, kwargs, tracing_options)\u001B[0m\n\u001B[0;32m    137\u001B[0m bound_args \u001B[38;5;241m=\u001B[39m function\u001B[38;5;241m.\u001B[39mfunction_type\u001B[38;5;241m.\u001B[39mbind(\u001B[38;5;241m*\u001B[39margs, \u001B[38;5;241m*\u001B[39m\u001B[38;5;241m*\u001B[39mkwargs)\n\u001B[0;32m    138\u001B[0m flat_inputs \u001B[38;5;241m=\u001B[39m function\u001B[38;5;241m.\u001B[39mfunction_type\u001B[38;5;241m.\u001B[39munpack_inputs(bound_args)\n\u001B[1;32m--> 139\u001B[0m \u001B[38;5;28;01mreturn\u001B[39;00m \u001B[43mfunction\u001B[49m\u001B[38;5;241;43m.\u001B[39;49m\u001B[43m_call_flat\u001B[49m\u001B[43m(\u001B[49m\u001B[43m  \u001B[49m\u001B[38;5;66;43;03m# pylint: disable=protected-access\u001B[39;49;00m\n\u001B[0;32m    140\u001B[0m \u001B[43m    \u001B[49m\u001B[43mflat_inputs\u001B[49m\u001B[43m,\u001B[49m\u001B[43m \u001B[49m\u001B[43mcaptured_inputs\u001B[49m\u001B[38;5;241;43m=\u001B[39;49m\u001B[43mfunction\u001B[49m\u001B[38;5;241;43m.\u001B[39;49m\u001B[43mcaptured_inputs\u001B[49m\n\u001B[0;32m    141\u001B[0m \u001B[43m\u001B[49m\u001B[43m)\u001B[49m\n",
      "File \u001B[1;32m~\\anaconda3\\envs\\ECE504-Project1\\lib\\site-packages\\tensorflow\\python\\eager\\polymorphic_function\\concrete_function.py:1264\u001B[0m, in \u001B[0;36mConcreteFunction._call_flat\u001B[1;34m(self, tensor_inputs, captured_inputs)\u001B[0m\n\u001B[0;32m   1260\u001B[0m possible_gradient_type \u001B[38;5;241m=\u001B[39m gradients_util\u001B[38;5;241m.\u001B[39mPossibleTapeGradientTypes(args)\n\u001B[0;32m   1261\u001B[0m \u001B[38;5;28;01mif\u001B[39;00m (possible_gradient_type \u001B[38;5;241m==\u001B[39m gradients_util\u001B[38;5;241m.\u001B[39mPOSSIBLE_GRADIENT_TYPES_NONE\n\u001B[0;32m   1262\u001B[0m     \u001B[38;5;129;01mand\u001B[39;00m executing_eagerly):\n\u001B[0;32m   1263\u001B[0m   \u001B[38;5;66;03m# No tape is watching; skip to running the function.\u001B[39;00m\n\u001B[1;32m-> 1264\u001B[0m   \u001B[38;5;28;01mreturn\u001B[39;00m \u001B[38;5;28;43mself\u001B[39;49m\u001B[38;5;241;43m.\u001B[39;49m\u001B[43m_inference_function\u001B[49m\u001B[38;5;241;43m.\u001B[39;49m\u001B[43mflat_call\u001B[49m\u001B[43m(\u001B[49m\u001B[43margs\u001B[49m\u001B[43m)\u001B[49m\n\u001B[0;32m   1265\u001B[0m forward_backward \u001B[38;5;241m=\u001B[39m \u001B[38;5;28mself\u001B[39m\u001B[38;5;241m.\u001B[39m_select_forward_and_backward_functions(\n\u001B[0;32m   1266\u001B[0m     args,\n\u001B[0;32m   1267\u001B[0m     possible_gradient_type,\n\u001B[0;32m   1268\u001B[0m     executing_eagerly)\n\u001B[0;32m   1269\u001B[0m forward_function, args_with_tangents \u001B[38;5;241m=\u001B[39m forward_backward\u001B[38;5;241m.\u001B[39mforward()\n",
      "File \u001B[1;32m~\\anaconda3\\envs\\ECE504-Project1\\lib\\site-packages\\tensorflow\\python\\eager\\polymorphic_function\\atomic_function.py:217\u001B[0m, in \u001B[0;36mAtomicFunction.flat_call\u001B[1;34m(self, args)\u001B[0m\n\u001B[0;32m    215\u001B[0m \u001B[38;5;28;01mdef\u001B[39;00m \u001B[38;5;21mflat_call\u001B[39m(\u001B[38;5;28mself\u001B[39m, args: Sequence[core\u001B[38;5;241m.\u001B[39mTensor]) \u001B[38;5;241m-\u001B[39m\u001B[38;5;241m>\u001B[39m Any:\n\u001B[0;32m    216\u001B[0m \u001B[38;5;250m  \u001B[39m\u001B[38;5;124;03m\"\"\"Calls with tensor inputs and returns the structured output.\"\"\"\u001B[39;00m\n\u001B[1;32m--> 217\u001B[0m   flat_outputs \u001B[38;5;241m=\u001B[39m \u001B[38;5;28;43mself\u001B[39;49m\u001B[43m(\u001B[49m\u001B[38;5;241;43m*\u001B[39;49m\u001B[43margs\u001B[49m\u001B[43m)\u001B[49m\n\u001B[0;32m    218\u001B[0m   \u001B[38;5;28;01mreturn\u001B[39;00m \u001B[38;5;28mself\u001B[39m\u001B[38;5;241m.\u001B[39mfunction_type\u001B[38;5;241m.\u001B[39mpack_output(flat_outputs)\n",
      "File \u001B[1;32m~\\anaconda3\\envs\\ECE504-Project1\\lib\\site-packages\\tensorflow\\python\\eager\\polymorphic_function\\atomic_function.py:252\u001B[0m, in \u001B[0;36mAtomicFunction.__call__\u001B[1;34m(self, *args)\u001B[0m\n\u001B[0;32m    250\u001B[0m \u001B[38;5;28;01mwith\u001B[39;00m record\u001B[38;5;241m.\u001B[39mstop_recording():\n\u001B[0;32m    251\u001B[0m   \u001B[38;5;28;01mif\u001B[39;00m \u001B[38;5;28mself\u001B[39m\u001B[38;5;241m.\u001B[39m_bound_context\u001B[38;5;241m.\u001B[39mexecuting_eagerly():\n\u001B[1;32m--> 252\u001B[0m     outputs \u001B[38;5;241m=\u001B[39m \u001B[38;5;28;43mself\u001B[39;49m\u001B[38;5;241;43m.\u001B[39;49m\u001B[43m_bound_context\u001B[49m\u001B[38;5;241;43m.\u001B[39;49m\u001B[43mcall_function\u001B[49m\u001B[43m(\u001B[49m\n\u001B[0;32m    253\u001B[0m \u001B[43m        \u001B[49m\u001B[38;5;28;43mself\u001B[39;49m\u001B[38;5;241;43m.\u001B[39;49m\u001B[43mname\u001B[49m\u001B[43m,\u001B[49m\n\u001B[0;32m    254\u001B[0m \u001B[43m        \u001B[49m\u001B[38;5;28;43mlist\u001B[39;49m\u001B[43m(\u001B[49m\u001B[43margs\u001B[49m\u001B[43m)\u001B[49m\u001B[43m,\u001B[49m\n\u001B[0;32m    255\u001B[0m \u001B[43m        \u001B[49m\u001B[38;5;28;43mlen\u001B[39;49m\u001B[43m(\u001B[49m\u001B[38;5;28;43mself\u001B[39;49m\u001B[38;5;241;43m.\u001B[39;49m\u001B[43mfunction_type\u001B[49m\u001B[38;5;241;43m.\u001B[39;49m\u001B[43mflat_outputs\u001B[49m\u001B[43m)\u001B[49m\u001B[43m,\u001B[49m\n\u001B[0;32m    256\u001B[0m \u001B[43m    \u001B[49m\u001B[43m)\u001B[49m\n\u001B[0;32m    257\u001B[0m   \u001B[38;5;28;01melse\u001B[39;00m:\n\u001B[0;32m    258\u001B[0m     outputs \u001B[38;5;241m=\u001B[39m make_call_op_in_graph(\n\u001B[0;32m    259\u001B[0m         \u001B[38;5;28mself\u001B[39m,\n\u001B[0;32m    260\u001B[0m         \u001B[38;5;28mlist\u001B[39m(args),\n\u001B[0;32m    261\u001B[0m         \u001B[38;5;28mself\u001B[39m\u001B[38;5;241m.\u001B[39m_bound_context\u001B[38;5;241m.\u001B[39mfunction_call_options\u001B[38;5;241m.\u001B[39mas_attrs(),\n\u001B[0;32m    262\u001B[0m     )\n",
      "File \u001B[1;32m~\\anaconda3\\envs\\ECE504-Project1\\lib\\site-packages\\tensorflow\\python\\eager\\context.py:1479\u001B[0m, in \u001B[0;36mContext.call_function\u001B[1;34m(self, name, tensor_inputs, num_outputs)\u001B[0m\n\u001B[0;32m   1477\u001B[0m cancellation_context \u001B[38;5;241m=\u001B[39m cancellation\u001B[38;5;241m.\u001B[39mcontext()\n\u001B[0;32m   1478\u001B[0m \u001B[38;5;28;01mif\u001B[39;00m cancellation_context \u001B[38;5;129;01mis\u001B[39;00m \u001B[38;5;28;01mNone\u001B[39;00m:\n\u001B[1;32m-> 1479\u001B[0m   outputs \u001B[38;5;241m=\u001B[39m \u001B[43mexecute\u001B[49m\u001B[38;5;241;43m.\u001B[39;49m\u001B[43mexecute\u001B[49m\u001B[43m(\u001B[49m\n\u001B[0;32m   1480\u001B[0m \u001B[43m      \u001B[49m\u001B[43mname\u001B[49m\u001B[38;5;241;43m.\u001B[39;49m\u001B[43mdecode\u001B[49m\u001B[43m(\u001B[49m\u001B[38;5;124;43m\"\u001B[39;49m\u001B[38;5;124;43mutf-8\u001B[39;49m\u001B[38;5;124;43m\"\u001B[39;49m\u001B[43m)\u001B[49m\u001B[43m,\u001B[49m\n\u001B[0;32m   1481\u001B[0m \u001B[43m      \u001B[49m\u001B[43mnum_outputs\u001B[49m\u001B[38;5;241;43m=\u001B[39;49m\u001B[43mnum_outputs\u001B[49m\u001B[43m,\u001B[49m\n\u001B[0;32m   1482\u001B[0m \u001B[43m      \u001B[49m\u001B[43minputs\u001B[49m\u001B[38;5;241;43m=\u001B[39;49m\u001B[43mtensor_inputs\u001B[49m\u001B[43m,\u001B[49m\n\u001B[0;32m   1483\u001B[0m \u001B[43m      \u001B[49m\u001B[43mattrs\u001B[49m\u001B[38;5;241;43m=\u001B[39;49m\u001B[43mattrs\u001B[49m\u001B[43m,\u001B[49m\n\u001B[0;32m   1484\u001B[0m \u001B[43m      \u001B[49m\u001B[43mctx\u001B[49m\u001B[38;5;241;43m=\u001B[39;49m\u001B[38;5;28;43mself\u001B[39;49m\u001B[43m,\u001B[49m\n\u001B[0;32m   1485\u001B[0m \u001B[43m  \u001B[49m\u001B[43m)\u001B[49m\n\u001B[0;32m   1486\u001B[0m \u001B[38;5;28;01melse\u001B[39;00m:\n\u001B[0;32m   1487\u001B[0m   outputs \u001B[38;5;241m=\u001B[39m execute\u001B[38;5;241m.\u001B[39mexecute_with_cancellation(\n\u001B[0;32m   1488\u001B[0m       name\u001B[38;5;241m.\u001B[39mdecode(\u001B[38;5;124m\"\u001B[39m\u001B[38;5;124mutf-8\u001B[39m\u001B[38;5;124m\"\u001B[39m),\n\u001B[0;32m   1489\u001B[0m       num_outputs\u001B[38;5;241m=\u001B[39mnum_outputs,\n\u001B[1;32m   (...)\u001B[0m\n\u001B[0;32m   1493\u001B[0m       cancellation_manager\u001B[38;5;241m=\u001B[39mcancellation_context,\n\u001B[0;32m   1494\u001B[0m   )\n",
      "File \u001B[1;32m~\\anaconda3\\envs\\ECE504-Project1\\lib\\site-packages\\tensorflow\\python\\eager\\execute.py:60\u001B[0m, in \u001B[0;36mquick_execute\u001B[1;34m(op_name, num_outputs, inputs, attrs, ctx, name)\u001B[0m\n\u001B[0;32m     53\u001B[0m   \u001B[38;5;66;03m# Convert any objects of type core_types.Tensor to Tensor.\u001B[39;00m\n\u001B[0;32m     54\u001B[0m   inputs \u001B[38;5;241m=\u001B[39m [\n\u001B[0;32m     55\u001B[0m       tensor_conversion_registry\u001B[38;5;241m.\u001B[39mconvert(t)\n\u001B[0;32m     56\u001B[0m       \u001B[38;5;28;01mif\u001B[39;00m \u001B[38;5;28misinstance\u001B[39m(t, core_types\u001B[38;5;241m.\u001B[39mTensor)\n\u001B[0;32m     57\u001B[0m       \u001B[38;5;28;01melse\u001B[39;00m t\n\u001B[0;32m     58\u001B[0m       \u001B[38;5;28;01mfor\u001B[39;00m t \u001B[38;5;129;01min\u001B[39;00m inputs\n\u001B[0;32m     59\u001B[0m   ]\n\u001B[1;32m---> 60\u001B[0m   tensors \u001B[38;5;241m=\u001B[39m \u001B[43mpywrap_tfe\u001B[49m\u001B[38;5;241;43m.\u001B[39;49m\u001B[43mTFE_Py_Execute\u001B[49m\u001B[43m(\u001B[49m\u001B[43mctx\u001B[49m\u001B[38;5;241;43m.\u001B[39;49m\u001B[43m_handle\u001B[49m\u001B[43m,\u001B[49m\u001B[43m \u001B[49m\u001B[43mdevice_name\u001B[49m\u001B[43m,\u001B[49m\u001B[43m \u001B[49m\u001B[43mop_name\u001B[49m\u001B[43m,\u001B[49m\n\u001B[0;32m     61\u001B[0m \u001B[43m                                      \u001B[49m\u001B[43minputs\u001B[49m\u001B[43m,\u001B[49m\u001B[43m \u001B[49m\u001B[43mattrs\u001B[49m\u001B[43m,\u001B[49m\u001B[43m \u001B[49m\u001B[43mnum_outputs\u001B[49m\u001B[43m)\u001B[49m\n\u001B[0;32m     62\u001B[0m \u001B[38;5;28;01mexcept\u001B[39;00m core\u001B[38;5;241m.\u001B[39m_NotOkStatusException \u001B[38;5;28;01mas\u001B[39;00m e:\n\u001B[0;32m     63\u001B[0m   \u001B[38;5;28;01mif\u001B[39;00m name \u001B[38;5;129;01mis\u001B[39;00m \u001B[38;5;129;01mnot\u001B[39;00m \u001B[38;5;28;01mNone\u001B[39;00m:\n",
      "\u001B[1;31mKeyboardInterrupt\u001B[0m: "
     ]
    }
   ],
   "source": [
    "import keras\n",
    "if train_new_model:\n",
    "    tuner.search(x_train, y_train, epochs=10, validation_data=(x_test, y_test))  \n",
    "    \n",
    "    best_hyperparams = tuner.get_best_hyperparameters()[0]\n",
    "    \n",
    "    final_model = tuner.hypermodel.build(best_hyperparams)\n",
    "    \n",
    "    print(best_hyperparams)\n",
    "    \n",
    "    "
   ],
   "metadata": {
    "collapsed": false
   },
   "id": "bbae3c21b02d3622"
  },
  {
   "cell_type": "code",
   "execution_count": 307,
   "outputs": [
    {
     "name": "stdout",
     "output_type": "stream",
     "text": [
      "<keras_tuner.src.engine.hyperparameters.hyperparameters.HyperParameters object at 0x0000016820000640>\n"
     ]
    }
   ],
   "source": [
    "best_hyperparams = tuner.get_best_hyperparameters()[0]\n",
    "\n",
    "final_model = tuner.hypermodel.build(best_hyperparams)\n",
    "\n",
    "print(best_hyperparams)"
   ],
   "metadata": {
    "collapsed": false,
    "ExecuteTime": {
     "end_time": "2023-10-15T20:27:40.801290400Z",
     "start_time": "2023-10-15T20:27:40.741287600Z"
    }
   },
   "id": "b2c2ec2d14b51500"
  },
  {
   "cell_type": "code",
   "execution_count": 308,
   "outputs": [
    {
     "name": "stdout",
     "output_type": "stream",
     "text": [
      "Results summary\n",
      "Results in .\\tune_z0_only\n",
      "Showing 10 best trials\n",
      "Objective(name=\"val_loss\", direction=\"min\")\n",
      "\n",
      "Trial 0018 summary\n",
      "Hyperparameters:\n",
      "num_layers: 4\n",
      "units_0: 416\n",
      "activation_0: relu\n",
      "units_1: 320\n",
      "activation_1: tanh\n",
      "optimizer: adadelta\n",
      "units_2: 352\n",
      "activation_2: tanh\n",
      "units_3: 416\n",
      "activation_3: relu\n",
      "units_4: 224\n",
      "activation_4: tanh\n",
      "tuner/epochs: 10\n",
      "tuner/initial_epoch: 4\n",
      "tuner/bracket: 1\n",
      "tuner/round: 1\n",
      "tuner/trial_id: 0012\n",
      "Score: 2.092315196990967\n",
      "\n",
      "Trial 0004 summary\n",
      "Hyperparameters:\n",
      "num_layers: 4\n",
      "units_0: 192\n",
      "activation_0: elu\n",
      "units_1: 448\n",
      "activation_1: tanh\n",
      "optimizer: adadelta\n",
      "units_2: 192\n",
      "activation_2: linear\n",
      "units_3: 96\n",
      "activation_3: softplus\n",
      "units_4: 192\n",
      "activation_4: linear\n",
      "tuner/epochs: 2\n",
      "tuner/initial_epoch: 0\n",
      "tuner/bracket: 2\n",
      "tuner/round: 0\n",
      "Score: 3.5169081687927246\n",
      "\n",
      "Trial 0012 summary\n",
      "Hyperparameters:\n",
      "num_layers: 4\n",
      "units_0: 416\n",
      "activation_0: relu\n",
      "units_1: 320\n",
      "activation_1: tanh\n",
      "optimizer: adadelta\n",
      "units_2: 352\n",
      "activation_2: tanh\n",
      "units_3: 416\n",
      "activation_3: relu\n",
      "units_4: 224\n",
      "activation_4: tanh\n",
      "tuner/epochs: 4\n",
      "tuner/initial_epoch: 0\n",
      "tuner/bracket: 1\n",
      "tuner/round: 0\n",
      "Score: 4.150871753692627\n",
      "\n",
      "Trial 0019 summary\n",
      "Hyperparameters:\n",
      "num_layers: 4\n",
      "units_0: 160\n",
      "activation_0: elu\n",
      "units_1: 224\n",
      "activation_1: tanh\n",
      "optimizer: adagrad\n",
      "units_2: 320\n",
      "activation_2: relu\n",
      "units_3: 320\n",
      "activation_3: softplus\n",
      "units_4: 352\n",
      "activation_4: elu\n",
      "tuner/epochs: 10\n",
      "tuner/initial_epoch: 4\n",
      "tuner/bracket: 1\n",
      "tuner/round: 1\n",
      "tuner/trial_id: 0016\n",
      "Score: 7.8533101081848145\n",
      "\n",
      "Trial 0016 summary\n",
      "Hyperparameters:\n",
      "num_layers: 4\n",
      "units_0: 160\n",
      "activation_0: elu\n",
      "units_1: 224\n",
      "activation_1: tanh\n",
      "optimizer: adagrad\n",
      "units_2: 320\n",
      "activation_2: relu\n",
      "units_3: 320\n",
      "activation_3: softplus\n",
      "units_4: 352\n",
      "activation_4: elu\n",
      "tuner/epochs: 4\n",
      "tuner/initial_epoch: 0\n",
      "tuner/bracket: 1\n",
      "tuner/round: 0\n",
      "Score: 15.634261131286621\n",
      "\n",
      "Trial 0017 summary\n",
      "Hyperparameters:\n",
      "num_layers: 2\n",
      "units_0: 64\n",
      "activation_0: relu\n",
      "units_1: 448\n",
      "activation_1: linear\n",
      "optimizer: nadam\n",
      "units_2: 320\n",
      "activation_2: softplus\n",
      "units_3: 224\n",
      "activation_3: softplus\n",
      "units_4: 128\n",
      "activation_4: relu\n",
      "tuner/epochs: 4\n",
      "tuner/initial_epoch: 0\n",
      "tuner/bracket: 1\n",
      "tuner/round: 0\n",
      "Score: 78.69743347167969\n",
      "\n",
      "Trial 0005 summary\n",
      "Hyperparameters:\n",
      "num_layers: 4\n",
      "units_0: 416\n",
      "activation_0: linear\n",
      "units_1: 448\n",
      "activation_1: elu\n",
      "optimizer: adadelta\n",
      "units_2: 32\n",
      "activation_2: linear\n",
      "units_3: 288\n",
      "activation_3: relu\n",
      "units_4: 320\n",
      "activation_4: relu\n",
      "tuner/epochs: 2\n",
      "tuner/initial_epoch: 0\n",
      "tuner/bracket: 2\n",
      "tuner/round: 0\n",
      "Score: 192.92733764648438\n",
      "\n",
      "Trial 0013 summary\n",
      "Hyperparameters:\n",
      "num_layers: 5\n",
      "units_0: 224\n",
      "activation_0: softplus\n",
      "units_1: 352\n",
      "activation_1: linear\n",
      "optimizer: adagrad\n",
      "units_2: 64\n",
      "activation_2: tanh\n",
      "units_3: 256\n",
      "activation_3: softplus\n",
      "units_4: 192\n",
      "activation_4: relu\n",
      "tuner/epochs: 4\n",
      "tuner/initial_epoch: 0\n",
      "tuner/bracket: 1\n",
      "tuner/round: 0\n",
      "Score: 459.5852355957031\n",
      "\n",
      "Trial 0002 summary\n",
      "Hyperparameters:\n",
      "num_layers: 3\n",
      "units_0: 320\n",
      "activation_0: softplus\n",
      "units_1: 32\n",
      "activation_1: tanh\n",
      "optimizer: adagrad\n",
      "units_2: 128\n",
      "activation_2: linear\n",
      "units_3: 352\n",
      "activation_3: linear\n",
      "tuner/epochs: 2\n",
      "tuner/initial_epoch: 0\n",
      "tuner/bracket: 2\n",
      "tuner/round: 0\n",
      "Score: 459.5873718261719\n",
      "\n",
      "Trial 0000 summary\n",
      "Hyperparameters:\n",
      "num_layers: 4\n",
      "units_0: 352\n",
      "activation_0: softplus\n",
      "units_1: 352\n",
      "activation_1: tanh\n",
      "optimizer: adam\n",
      "tuner/epochs: 2\n",
      "tuner/initial_epoch: 0\n",
      "tuner/bracket: 2\n",
      "tuner/round: 0\n",
      "units_2: 32\n",
      "activation_2: linear\n",
      "units_3: 32\n",
      "activation_3: linear\n",
      "Score: 459.5932922363281\n"
     ]
    }
   ],
   "source": [
    "tuner.results_summary()"
   ],
   "metadata": {
    "collapsed": false,
    "ExecuteTime": {
     "end_time": "2023-10-15T20:27:43.384352800Z",
     "start_time": "2023-10-15T20:27:43.373354400Z"
    }
   },
   "id": "eab8fec19d72e7d3"
  },
  {
   "cell_type": "code",
   "execution_count": 309,
   "outputs": [],
   "source": [
    "model=tuner.hypermodel.build(best_hyperparams)"
   ],
   "metadata": {
    "collapsed": false,
    "ExecuteTime": {
     "end_time": "2023-10-15T20:27:57.302679800Z",
     "start_time": "2023-10-15T20:27:57.268679200Z"
    }
   },
   "id": "3809958d86ae7fa"
  },
  {
   "cell_type": "markdown",
   "source": [
    "Took best hyperparam model but modified a bit further"
   ],
   "metadata": {
    "collapsed": false
   },
   "id": "8dea3418a871d86d"
  },
  {
   "cell_type": "code",
   "execution_count": 289,
   "outputs": [],
   "source": [
    "def build_final_model():\n",
    "\n",
    "    model = keras.Sequential()\n",
    "\n",
    "    model.add(keras.layers.BatchNormalization(axis=-1, input_shape=(2,)))\n",
    "\n",
    "    # Number of Layers\n",
    "    model.add(keras.layers.Dense(units=16, input_shape=(2,), activation='tanh'))\n",
    "    # model.add(keras.layers.Dense(units=64, activation='relu'))\n",
    "    model.add(keras.layers.Dense(units=32, activation='relu'))\n",
    "    # model.add(keras.layers.Dense(units=224, activation='relu'))\n",
    "    model.add(keras.layers.Dense(units=16, activation='relu'))\n",
    "\n",
    "\n",
    "    # Output\n",
    "    model.add(keras.layers.Dense(units=1, activation='linear'))\n",
    "\n",
    "    # Compile\n",
    "    model.compile(optimizer=keras.optimizers.Adam(learning_rate=0.001), loss='mae', metrics='mse')\n",
    "\n",
    "    return model"
   ],
   "metadata": {
    "collapsed": false,
    "ExecuteTime": {
     "end_time": "2023-10-15T06:04:34.361684600Z",
     "start_time": "2023-10-15T06:04:34.336684900Z"
    }
   },
   "id": "814323c2476b63a9"
  },
  {
   "cell_type": "code",
   "execution_count": 290,
   "outputs": [],
   "source": [
    "model = None"
   ],
   "metadata": {
    "collapsed": false,
    "ExecuteTime": {
     "end_time": "2023-10-15T06:04:35.915338200Z",
     "start_time": "2023-10-15T06:04:35.910337300Z"
    }
   },
   "id": "574e6b122cc0c0e9"
  },
  {
   "cell_type": "code",
   "execution_count": 291,
   "outputs": [
    {
     "name": "stdout",
     "output_type": "stream",
     "text": [
      "Model: \"sequential_53\"\n",
      "____________________________________________________________________________\n",
      " Layer (type)                Output Shape              Param #   Trainable  \n",
      "============================================================================\n",
      " batch_normalization_31 (Ba  (None, 2)                 8         Y          \n",
      " tchNormalization)                                                          \n",
      "                                                                            \n",
      " dense_240 (Dense)           (None, 16)                48        Y          \n",
      "                                                                            \n",
      " dense_241 (Dense)           (None, 32)                544       Y          \n",
      "                                                                            \n",
      " dense_242 (Dense)           (None, 16)                528       Y          \n",
      "                                                                            \n",
      " dense_243 (Dense)           (None, 1)                 17        Y          \n",
      "                                                                            \n",
      "============================================================================\n",
      "Total params: 1145 (4.47 KB)\n",
      "Trainable params: 1141 (4.46 KB)\n",
      "Non-trainable params: 4 (16.00 Byte)\n",
      "____________________________________________________________________________\n"
     ]
    }
   ],
   "source": [
    "model = build_final_model()\n",
    "model.summary(expand_nested=True, show_trainable=True)"
   ],
   "metadata": {
    "collapsed": false,
    "ExecuteTime": {
     "end_time": "2023-10-15T06:04:36.484950200Z",
     "start_time": "2023-10-15T06:04:36.408630500Z"
    }
   },
   "id": "64666f841a6ef62e"
  },
  {
   "cell_type": "markdown",
   "source": [],
   "metadata": {
    "collapsed": false
   },
   "id": "bcd9044aa111c3c2"
  },
  {
   "cell_type": "code",
   "execution_count": 311,
   "outputs": [
    {
     "name": "stdout",
     "output_type": "stream",
     "text": [
      "Epoch 1/100\n",
      "100/100 [==============================] - 15s 141ms/step - loss: 3234.2000 - mse: 3234.2000 - val_loss: 3144.1606 - val_mse: 3144.1606\n",
      "Epoch 2/100\n",
      "100/100 [==============================] - 14s 140ms/step - loss: 3059.8755 - mse: 3059.8760 - val_loss: 2947.5266 - val_mse: 2947.5264\n",
      "Epoch 3/100\n",
      "100/100 [==============================] - 14s 140ms/step - loss: 2794.7954 - mse: 2794.7954 - val_loss: 2573.7407 - val_mse: 2573.7407\n",
      "Epoch 4/100\n",
      "100/100 [==============================] - 14s 141ms/step - loss: 2208.2837 - mse: 2208.2837 - val_loss: 1730.3064 - val_mse: 1730.3064\n",
      "Epoch 5/100\n",
      "100/100 [==============================] - 14s 141ms/step - loss: 1199.0020 - mse: 1199.0020 - val_loss: 734.4716 - val_mse: 734.4716\n",
      "Epoch 6/100\n",
      "100/100 [==============================] - 14s 141ms/step - loss: 550.1268 - mse: 550.1268 - val_loss: 454.0094 - val_mse: 454.0094\n",
      "Epoch 7/100\n",
      "100/100 [==============================] - 14s 141ms/step - loss: 435.8362 - mse: 435.8362 - val_loss: 422.6900 - val_mse: 422.6900\n",
      "Epoch 8/100\n",
      "100/100 [==============================] - 14s 142ms/step - loss: 417.2232 - mse: 417.2232 - val_loss: 407.3490 - val_mse: 407.3490\n",
      "Epoch 9/100\n",
      "100/100 [==============================] - 14s 141ms/step - loss: 403.8164 - mse: 403.8164 - val_loss: 393.1497 - val_mse: 393.1497\n",
      "Epoch 10/100\n",
      "100/100 [==============================] - 14s 142ms/step - loss: 387.9731 - mse: 387.9731 - val_loss: 379.4417 - val_mse: 379.4417\n",
      "Epoch 11/100\n",
      "100/100 [==============================] - 14s 141ms/step - loss: 372.3203 - mse: 372.3203 - val_loss: 360.7016 - val_mse: 360.7016\n",
      "Epoch 12/100\n",
      "100/100 [==============================] - 14s 141ms/step - loss: 354.6095 - mse: 354.6095 - val_loss: 338.9085 - val_mse: 338.9085\n",
      "Epoch 13/100\n",
      "100/100 [==============================] - 14s 141ms/step - loss: 337.4267 - mse: 337.4267 - val_loss: 330.7334 - val_mse: 330.7334\n",
      "Epoch 14/100\n",
      "100/100 [==============================] - 14s 141ms/step - loss: 321.1527 - mse: 321.1527 - val_loss: 305.5645 - val_mse: 305.5645\n",
      "Epoch 15/100\n",
      "100/100 [==============================] - 14s 141ms/step - loss: 304.1512 - mse: 304.1512 - val_loss: 285.0504 - val_mse: 285.0504\n",
      "Epoch 16/100\n",
      "100/100 [==============================] - 14s 141ms/step - loss: 291.3595 - mse: 291.3595 - val_loss: 266.2644 - val_mse: 266.2644\n",
      "Epoch 17/100\n",
      "100/100 [==============================] - 14s 141ms/step - loss: 279.1205 - mse: 279.1205 - val_loss: 250.0002 - val_mse: 250.0002\n",
      "Epoch 18/100\n",
      "100/100 [==============================] - 14s 141ms/step - loss: 269.8461 - mse: 269.8461 - val_loss: 240.9231 - val_mse: 240.9231\n",
      "Epoch 19/100\n",
      "100/100 [==============================] - 14s 141ms/step - loss: 259.4789 - mse: 259.4789 - val_loss: 239.4095 - val_mse: 239.4095\n",
      "Epoch 20/100\n",
      "100/100 [==============================] - 14s 141ms/step - loss: 251.8723 - mse: 251.8723 - val_loss: 222.5969 - val_mse: 222.5969\n",
      "Epoch 21/100\n",
      "100/100 [==============================] - 14s 141ms/step - loss: 242.2630 - mse: 242.2630 - val_loss: 211.3263 - val_mse: 211.3263\n",
      "Epoch 22/100\n",
      "100/100 [==============================] - 14s 141ms/step - loss: 234.2997 - mse: 234.2997 - val_loss: 211.2014 - val_mse: 211.2014\n",
      "Epoch 23/100\n",
      "100/100 [==============================] - 14s 140ms/step - loss: 223.6010 - mse: 223.6010 - val_loss: 194.0341 - val_mse: 194.0341\n",
      "Epoch 24/100\n",
      "100/100 [==============================] - 14s 141ms/step - loss: 215.5611 - mse: 215.5611 - val_loss: 212.8248 - val_mse: 212.8248\n",
      "Epoch 25/100\n",
      "100/100 [==============================] - 14s 141ms/step - loss: 207.5020 - mse: 207.5020 - val_loss: 182.0072 - val_mse: 182.0072\n",
      "Epoch 26/100\n",
      "100/100 [==============================] - 14s 141ms/step - loss: 194.1139 - mse: 194.1139 - val_loss: 210.2612 - val_mse: 210.2612\n",
      "Epoch 27/100\n",
      "100/100 [==============================] - 14s 141ms/step - loss: 186.8960 - mse: 186.8960 - val_loss: 238.8510 - val_mse: 238.8510\n",
      "Epoch 28/100\n",
      "100/100 [==============================] - 14s 140ms/step - loss: 180.0464 - mse: 180.0464 - val_loss: 218.0216 - val_mse: 218.0216\n",
      "Epoch 29/100\n",
      "100/100 [==============================] - 14s 141ms/step - loss: 175.5580 - mse: 175.5580 - val_loss: 144.6061 - val_mse: 144.6061\n",
      "Epoch 30/100\n",
      "100/100 [==============================] - 14s 141ms/step - loss: 169.1791 - mse: 169.1791 - val_loss: 151.0888 - val_mse: 151.0888\n",
      "Epoch 31/100\n",
      "100/100 [==============================] - 14s 141ms/step - loss: 162.4737 - mse: 162.4737 - val_loss: 193.5758 - val_mse: 193.5758\n",
      "Epoch 32/100\n",
      "100/100 [==============================] - 14s 141ms/step - loss: 159.5083 - mse: 159.5083 - val_loss: 145.7547 - val_mse: 145.7547\n",
      "Epoch 33/100\n",
      "100/100 [==============================] - 14s 141ms/step - loss: 154.1355 - mse: 154.1355 - val_loss: 162.4510 - val_mse: 162.4510\n",
      "Epoch 34/100\n",
      "100/100 [==============================] - 14s 141ms/step - loss: 152.8256 - mse: 152.8256 - val_loss: 158.6066 - val_mse: 158.6066\n",
      "Epoch 35/100\n",
      "100/100 [==============================] - 14s 141ms/step - loss: 148.5759 - mse: 148.5759 - val_loss: 154.7602 - val_mse: 154.7602\n",
      "Epoch 36/100\n",
      "100/100 [==============================] - 14s 141ms/step - loss: 146.2665 - mse: 146.2665 - val_loss: 140.5344 - val_mse: 140.5344\n",
      "Epoch 37/100\n",
      "100/100 [==============================] - 14s 141ms/step - loss: 144.4606 - mse: 144.4606 - val_loss: 133.5492 - val_mse: 133.5492\n",
      "Epoch 38/100\n",
      "100/100 [==============================] - 14s 141ms/step - loss: 141.6559 - mse: 141.6559 - val_loss: 132.0540 - val_mse: 132.0540\n",
      "Epoch 39/100\n",
      "100/100 [==============================] - 14s 141ms/step - loss: 139.2304 - mse: 139.2304 - val_loss: 136.8845 - val_mse: 136.8845\n",
      "Epoch 40/100\n",
      "100/100 [==============================] - 14s 141ms/step - loss: 137.4852 - mse: 137.4852 - val_loss: 158.3417 - val_mse: 158.3417\n",
      "Epoch 41/100\n",
      "100/100 [==============================] - 14s 141ms/step - loss: 136.7351 - mse: 136.7351 - val_loss: 182.1198 - val_mse: 182.1198\n",
      "Epoch 42/100\n",
      "100/100 [==============================] - 14s 141ms/step - loss: 134.2236 - mse: 134.2236 - val_loss: 179.6995 - val_mse: 179.6995\n",
      "Epoch 43/100\n",
      "100/100 [==============================] - 14s 141ms/step - loss: 131.0576 - mse: 131.0576 - val_loss: 119.0496 - val_mse: 119.0496\n",
      "Epoch 44/100\n",
      "100/100 [==============================] - 14s 141ms/step - loss: 128.6040 - mse: 128.6040 - val_loss: 136.6621 - val_mse: 136.6621\n",
      "Epoch 45/100\n",
      "100/100 [==============================] - 14s 140ms/step - loss: 128.0047 - mse: 128.0047 - val_loss: 126.2148 - val_mse: 126.2148\n",
      "Epoch 46/100\n",
      "100/100 [==============================] - 14s 141ms/step - loss: 125.6349 - mse: 125.6349 - val_loss: 141.4869 - val_mse: 141.4869\n",
      "Epoch 47/100\n",
      "100/100 [==============================] - 14s 141ms/step - loss: 124.9105 - mse: 124.9105 - val_loss: 98.7394 - val_mse: 98.7394\n",
      "Epoch 48/100\n",
      "100/100 [==============================] - 14s 141ms/step - loss: 121.9358 - mse: 121.9358 - val_loss: 123.0760 - val_mse: 123.0760\n",
      "Epoch 49/100\n",
      "100/100 [==============================] - 14s 140ms/step - loss: 119.7760 - mse: 119.7760 - val_loss: 111.6092 - val_mse: 111.6092\n",
      "Epoch 50/100\n",
      "100/100 [==============================] - 14s 140ms/step - loss: 115.9290 - mse: 115.9290 - val_loss: 124.3948 - val_mse: 124.3948\n",
      "Epoch 51/100\n",
      "100/100 [==============================] - 14s 141ms/step - loss: 116.2880 - mse: 116.2880 - val_loss: 92.7166 - val_mse: 92.7166\n",
      "Epoch 52/100\n",
      "100/100 [==============================] - 14s 141ms/step - loss: 116.0554 - mse: 116.0554 - val_loss: 111.2697 - val_mse: 111.2697\n",
      "Epoch 53/100\n",
      "100/100 [==============================] - 14s 141ms/step - loss: 116.3371 - mse: 116.3371 - val_loss: 136.6736 - val_mse: 136.6736\n",
      "Epoch 54/100\n",
      "100/100 [==============================] - 14s 141ms/step - loss: 114.7242 - mse: 114.7242 - val_loss: 106.8711 - val_mse: 106.8711\n",
      "Epoch 55/100\n",
      "100/100 [==============================] - 14s 141ms/step - loss: 114.8822 - mse: 114.8822 - val_loss: 143.0660 - val_mse: 143.0660\n",
      "Epoch 56/100\n",
      "100/100 [==============================] - 14s 141ms/step - loss: 113.9068 - mse: 113.9068 - val_loss: 135.4765 - val_mse: 135.4765\n",
      "Epoch 57/100\n",
      "100/100 [==============================] - 14s 140ms/step - loss: 112.4910 - mse: 112.4911 - val_loss: 114.6376 - val_mse: 114.6376\n",
      "Epoch 58/100\n",
      "100/100 [==============================] - 14s 140ms/step - loss: 111.1075 - mse: 111.1075 - val_loss: 115.6263 - val_mse: 115.6263\n",
      "Epoch 59/100\n",
      "100/100 [==============================] - 14s 141ms/step - loss: 110.5256 - mse: 110.5256 - val_loss: 138.4835 - val_mse: 138.4835\n",
      "Epoch 60/100\n",
      "100/100 [==============================] - 14s 141ms/step - loss: 109.9131 - mse: 109.9131 - val_loss: 102.1515 - val_mse: 102.1515\n",
      "Epoch 61/100\n",
      "100/100 [==============================] - 14s 140ms/step - loss: 109.3931 - mse: 109.3931 - val_loss: 127.2722 - val_mse: 127.2722\n",
      "Epoch 62/100\n",
      "100/100 [==============================] - 14s 140ms/step - loss: 108.5437 - mse: 108.5437 - val_loss: 127.7107 - val_mse: 127.7107\n",
      "Epoch 63/100\n",
      "100/100 [==============================] - 14s 140ms/step - loss: 108.1425 - mse: 108.1425 - val_loss: 129.7348 - val_mse: 129.7348\n",
      "Epoch 64/100\n",
      "100/100 [==============================] - 14s 141ms/step - loss: 108.6045 - mse: 108.6045 - val_loss: 105.5445 - val_mse: 105.5445\n",
      "Epoch 65/100\n",
      "100/100 [==============================] - 14s 140ms/step - loss: 107.0867 - mse: 107.0867 - val_loss: 134.9825 - val_mse: 134.9825\n",
      "Epoch 66/100\n",
      "100/100 [==============================] - 14s 140ms/step - loss: 106.7611 - mse: 106.7611 - val_loss: 111.7082 - val_mse: 111.7082\n",
      "Epoch 67/100\n",
      "100/100 [==============================] - 14s 141ms/step - loss: 107.6021 - mse: 107.6021 - val_loss: 92.9200 - val_mse: 92.9200\n",
      "Epoch 68/100\n",
      "100/100 [==============================] - 14s 141ms/step - loss: 106.1840 - mse: 106.1840 - val_loss: 112.2657 - val_mse: 112.2657\n",
      "Epoch 69/100\n",
      "100/100 [==============================] - 14s 141ms/step - loss: 106.4776 - mse: 106.4776 - val_loss: 117.2717 - val_mse: 117.2717\n",
      "Epoch 70/100\n",
      "100/100 [==============================] - 14s 141ms/step - loss: 105.3367 - mse: 105.3367 - val_loss: 109.3017 - val_mse: 109.3017\n",
      "Epoch 71/100\n",
      "100/100 [==============================] - 14s 141ms/step - loss: 105.7323 - mse: 105.7323 - val_loss: 109.7650 - val_mse: 109.7650\n",
      "Epoch 72/100\n",
      "100/100 [==============================] - 14s 141ms/step - loss: 104.9651 - mse: 104.9651 - val_loss: 99.8518 - val_mse: 99.8518\n",
      "Epoch 73/100\n",
      "100/100 [==============================] - 14s 141ms/step - loss: 104.7005 - mse: 104.7005 - val_loss: 119.7748 - val_mse: 119.7748\n",
      "Epoch 74/100\n",
      "100/100 [==============================] - 14s 141ms/step - loss: 103.3015 - mse: 103.3015 - val_loss: 109.2589 - val_mse: 109.2589\n",
      "Epoch 75/100\n",
      "100/100 [==============================] - 14s 141ms/step - loss: 103.5523 - mse: 103.5523 - val_loss: 106.4069 - val_mse: 106.4069\n",
      "Epoch 76/100\n",
      "100/100 [==============================] - 14s 141ms/step - loss: 102.7450 - mse: 102.7450 - val_loss: 122.2970 - val_mse: 122.2970\n",
      "Epoch 77/100\n",
      "100/100 [==============================] - 14s 141ms/step - loss: 102.8186 - mse: 102.8186 - val_loss: 102.9431 - val_mse: 102.9431\n",
      "Epoch 78/100\n",
      "100/100 [==============================] - 14s 141ms/step - loss: 102.3310 - mse: 102.3310 - val_loss: 111.2248 - val_mse: 111.2248\n",
      "Epoch 79/100\n",
      "100/100 [==============================] - 14s 140ms/step - loss: 102.6560 - mse: 102.6560 - val_loss: 109.3915 - val_mse: 109.3915\n",
      "Epoch 80/100\n",
      "100/100 [==============================] - 14s 140ms/step - loss: 102.4496 - mse: 102.4496 - val_loss: 118.3460 - val_mse: 118.3460\n",
      "Epoch 81/100\n",
      "100/100 [==============================] - 14s 141ms/step - loss: 101.7363 - mse: 101.7363 - val_loss: 102.9212 - val_mse: 102.9212\n",
      "Epoch 82/100\n",
      "100/100 [==============================] - 14s 141ms/step - loss: 101.9166 - mse: 101.9166 - val_loss: 105.3652 - val_mse: 105.3652\n",
      "Epoch 83/100\n",
      "100/100 [==============================] - 14s 140ms/step - loss: 101.5682 - mse: 101.5682 - val_loss: 104.2611 - val_mse: 104.2611\n",
      "Epoch 84/100\n",
      "100/100 [==============================] - 14s 141ms/step - loss: 100.9880 - mse: 100.9880 - val_loss: 109.3892 - val_mse: 109.3892\n",
      "Epoch 85/100\n",
      "100/100 [==============================] - 14s 140ms/step - loss: 99.8324 - mse: 99.8324 - val_loss: 106.0136 - val_mse: 106.0136\n",
      "Epoch 86/100\n",
      "100/100 [==============================] - 14s 141ms/step - loss: 100.2445 - mse: 100.2445 - val_loss: 110.4336 - val_mse: 110.4336\n",
      "Epoch 87/100\n",
      "100/100 [==============================] - 14s 140ms/step - loss: 99.0513 - mse: 99.0513 - val_loss: 103.2856 - val_mse: 103.2856\n",
      "Epoch 88/100\n",
      "100/100 [==============================] - 14s 141ms/step - loss: 98.8103 - mse: 98.8103 - val_loss: 101.3747 - val_mse: 101.3747\n",
      "Epoch 89/100\n",
      "100/100 [==============================] - 14s 141ms/step - loss: 98.0396 - mse: 98.0396 - val_loss: 89.0584 - val_mse: 89.0584\n",
      "Epoch 90/100\n",
      "100/100 [==============================] - 14s 141ms/step - loss: 97.0879 - mse: 97.0879 - val_loss: 98.5647 - val_mse: 98.5647\n",
      "Epoch 91/100\n",
      "100/100 [==============================] - 14s 141ms/step - loss: 96.4709 - mse: 96.4709 - val_loss: 97.1854 - val_mse: 97.1854\n",
      "Epoch 92/100\n",
      "100/100 [==============================] - 14s 141ms/step - loss: 95.7357 - mse: 95.7357 - val_loss: 89.6703 - val_mse: 89.6703\n",
      "Epoch 93/100\n",
      "100/100 [==============================] - 14s 140ms/step - loss: 95.1106 - mse: 95.1106 - val_loss: 87.8666 - val_mse: 87.8666\n",
      "Epoch 94/100\n",
      "100/100 [==============================] - 14s 140ms/step - loss: 94.2533 - mse: 94.2533 - val_loss: 99.6359 - val_mse: 99.6359\n",
      "Epoch 95/100\n",
      "100/100 [==============================] - 14s 141ms/step - loss: 94.2393 - mse: 94.2393 - val_loss: 95.3969 - val_mse: 95.3969\n",
      "Epoch 96/100\n",
      "100/100 [==============================] - 14s 141ms/step - loss: 93.3229 - mse: 93.3229 - val_loss: 82.4273 - val_mse: 82.4273\n",
      "Epoch 97/100\n",
      "100/100 [==============================] - 14s 141ms/step - loss: 93.0426 - mse: 93.0426 - val_loss: 88.1554 - val_mse: 88.1554\n",
      "Epoch 98/100\n",
      "100/100 [==============================] - 14s 140ms/step - loss: 92.3363 - mse: 92.3363 - val_loss: 85.1064 - val_mse: 85.1064\n",
      "Epoch 99/100\n",
      "100/100 [==============================] - 14s 141ms/step - loss: 91.8357 - mse: 91.8357 - val_loss: 79.4804 - val_mse: 79.4804\n",
      "Epoch 100/100\n",
      "100/100 [==============================] - 14s 140ms/step - loss: 90.6329 - mse: 90.6329 - val_loss: 82.9018 - val_mse: 82.9018\n"
     ]
    }
   ],
   "source": [
    "history = model.fit(x_train, y_train, epochs=100, batch_size=10000, validation_data=(x_test, y_test))\n",
    "# history = model.fit(x_train, y_train[:,1], epochs=100, batch_size=10000)\n"
   ],
   "metadata": {
    "collapsed": false,
    "ExecuteTime": {
     "end_time": "2023-10-15T20:52:16.100430300Z",
     "start_time": "2023-10-15T20:28:48.703376300Z"
    }
   },
   "id": "879b021da58fe9ae"
  },
  {
   "cell_type": "code",
   "execution_count": 312,
   "outputs": [
    {
     "data": {
      "text/plain": "<Figure size 640x480 with 1 Axes>",
      "image/png": "[encoded data removed]"
     },
     "metadata": {},
     "output_type": "display_data"
    }
   ],
   "source": [
    "# Plot loss\n",
    "import matplotlib.pyplot as plt\n",
    "plt.semilogy(history.history['loss'], label='Training Loss')\n",
    "plt.semilogy(history.history['val_loss'], label='Validation Loss')\n",
    "plt.title('Training and Validation Loss')\n",
    "plt.xlabel('Epoch')\n",
    "plt.ylabel('Loss')\n",
    "plt.legend()\n",
    "plt.show()"
   ],
   "metadata": {
    "collapsed": false,
    "ExecuteTime": {
     "end_time": "2023-10-15T20:55:28.816043200Z",
     "start_time": "2023-10-15T20:55:28.567029700Z"
    }
   },
   "id": "2845fcf54ad90ee4"
  },
  {
   "cell_type": "code",
   "execution_count": 124,
   "outputs": [
    {
     "name": "stdout",
     "output_type": "stream",
     "text": [
      "6250/6250 [==============================] - 9s 1ms/step - loss: 0.5422 - mean_squared_logarithmic_error: 0.5422\n",
      "6250/6250 [==============================] - 9s 1ms/step - loss: 0.5455 - mean_squared_logarithmic_error: 0.5455\n"
     ]
    }
   ],
   "source": [
    "loss = model.evaluate(x_test, y_test)\n",
    "\n",
    "x_unseen = np.array(test_input)\n",
    "y_unseen = np.array(test_output)\n",
    "loss_new = model.evaluate(x_unseen, y_unseen)"
   ],
   "metadata": {
    "collapsed": false,
    "ExecuteTime": {
     "end_time": "2023-10-15T04:21:54.258999300Z",
     "start_time": "2023-10-15T04:21:36.677862500Z"
    }
   },
   "id": "62e5e6566d3c8e47"
  },
  {
   "cell_type": "code",
   "execution_count": null,
   "outputs": [],
   "source": [
    "model.save(f'./models_k/model_{timestamp_str}.keras')"
   ],
   "metadata": {
    "collapsed": false
   },
   "id": "3adb6302cad77735"
  },
  {
   "cell_type": "code",
   "execution_count": 313,
   "outputs": [
    {
     "name": "stdout",
     "output_type": "stream",
     "text": [
      "1/1 [==============================] - 0s 67ms/step\n",
      "Predictions are:  [[45.52143 ]\n",
      " [26.398302]]\n",
      "SimResult(z0=51.22717033249684, e_length=50.840249551711494, exec_time=0.0010742999729700387)\n",
      "SimResult(z0=25.257306588425404, e_length=17.190317714778836, exec_time=0.0008866999996826053)\n"
     ]
    }
   ],
   "source": [
    "# Example of predictions\n",
    "samples = np.array([[16,1000],[45.5,321]])\n",
    "preds = model.predict(samples)\n",
    "\n",
    "print(f\"Predictions are: \",preds)\n",
    "\n",
    "print(simulate_tline(16,1000))\n",
    "print(simulate_tline(45.5,321))\n",
    "\n",
    "# PREDICTIONS - somewhere in here, don't forget to check execution time of predictions"
   ],
   "metadata": {
    "collapsed": false,
    "ExecuteTime": {
     "end_time": "2023-10-15T20:55:35.117429900Z",
     "start_time": "2023-10-15T20:55:35.003442200Z"
    }
   },
   "id": "b3301c3e1772077b"
  },
  {
   "cell_type": "code",
   "execution_count": 266,
   "outputs": [
    {
     "name": "stdout",
     "output_type": "stream",
     "text": [
      "1/1 [==============================] - 0s 75ms/step\n",
      "[[64.29753]]\n",
      "SimResult(z0=8.725620611491474, e_length=56.49072449745346, exec_time=0.0011832000454887748)\n"
     ]
    }
   ],
   "source": [
    "print(model.predict([[160,1000]]))\n",
    "print(simulate_tline(160,1000))"
   ],
   "metadata": {
    "collapsed": false,
    "ExecuteTime": {
     "end_time": "2023-10-15T05:59:00.209398100Z",
     "start_time": "2023-10-15T05:59:00.076820100Z"
    }
   },
   "id": "1365a58459e6a758"
  },
  {
   "cell_type": "code",
   "execution_count": null,
   "outputs": [],
   "source": [
    "# Simbeor Cleanup\n",
    "simbeor.ReleaseLicense()\n",
    "simbeor.Cleanup()\n",
    "simbeor.Uninitialize()"
   ],
   "metadata": {
    "collapsed": false
   },
   "id": "3155673939dce1f9"
  },
  {
   "cell_type": "code",
   "execution_count": null,
   "outputs": [],
   "source": [
    "# Create 2nd machine learning model (reverse)"
   ],
   "metadata": {
    "collapsed": false
   },
   "id": "9309a6821536e6d6"
  },
  {
   "cell_type": "code",
   "execution_count": null,
   "outputs": [],
   "source": [
    "# Create application which queries the user!"
   ],
   "metadata": {
    "collapsed": false
   },
   "id": "2d2149db31eae5c5"
  }
 ],
 "metadata": {
  "kernelspec": {
   "display_name": "Python 3 (ipykernel)",
   "language": "python",
   "name": "python3"
  },
  "language_info": {
   "codemirror_mode": {
    "name": "ipython",
    "version": 3
   },
   "file_extension": ".py",
   "mimetype": "text/x-python",
   "name": "python",
   "nbconvert_exporter": "python",
   "pygments_lexer": "ipython3",
   "version": "3.10.13"
  }
 },
 "nbformat": 4,
 "nbformat_minor": 5
}
